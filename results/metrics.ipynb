{
 "cells": [
  {
   "cell_type": "markdown",
   "metadata": {},
   "source": [
    "# Benchmarking de modèles pour la reconnaissance de tumeurs cérébrales 🧠\n",
    "\n",
    "## Objectif\n",
    "\n",
    "Dans ce notebook, nous allons comparer différents modèles de reconnaissance de tumeurs cérébrales à l'aide des données de test. Les objectifs sont :\n",
    "\n",
    "1. **Évaluer les modèles** avec des matrices de confusion et des courbes ROC.\n",
    "2. **Définir et utiliser des métriques agrégées** (e.g., precision, recall et $F_1$-score globaux) pour résumer les performances de chaque modèle sur toutes les classes.\n",
    "3. **Analyser l'effet de l'équilibrage des classes** sur les performances des modèles.\n",
    "4. **Comparer les performances globales** pour identifier le modèle le plus adapté.\n",
    "\n",
    "---\n",
    "\n",
    "## Méthodologie\n",
    "\n",
    "### 1. Calcul des métriques pour les 4 classes\n",
    "\n",
    "#### **Precision** :\n",
    "La **precision** mesure la proportion des prédictions positives correctes pour une classe donnée par rapport à toutes les prédictions positives faites pour cette classe :\n",
    "\n",
    "$$\n",
    "\\text{Precision}_i = \\frac{\\text{VP}_i}{\\text{VP}_i + \\text{FP}_i}\n",
    "$$\n",
    "\n",
    "- $\\text{VP}_i$ (Vrais Positifs) : Nombre d'échantillons de la classe $i$ correctement prédits.\n",
    "- $\\text{FP}_i$ (Faux Positifs) : Nombre d'échantillons appartenant à d'autres classes mais incorrectement prédits comme appartenant à $i$.\n",
    "\n",
    "---\n",
    "\n",
    "#### **Recall** :\n",
    "Le **recall** mesure la proportion des échantillons réellement appartenant à une classe qui ont été correctement identifiés :\n",
    "\n",
    "$$\n",
    "\\text{Recall}_i = \\frac{\\text{VP}_i}{\\text{VP}_i + \\text{FN}_i}\n",
    "$$\n",
    "\n",
    "- $\\text{FN}_i$ (Faux Négatifs) : Nombre d'échantillons de la classe $i$ mal prédits comme appartenant à d'autres classes.\n",
    "\n",
    "---\n",
    "\n",
    "#### **$F_1$-score** :\n",
    "Le **$F_1$-score** combine precision et recall dans une moyenne harmonique. Il équilibre les deux métriques, particulièrement utile en cas de données déséquilibrées :\n",
    "\n",
    "$$\n",
    "F_{1,i} = 2 \\cdot \\frac{\\text{Precision}_i \\cdot \\text{Recall}_i}{\\text{Precision}_i + \\text{Recall}_i}\n",
    "$$\n",
    "\n",
    "---\n",
    "\n",
    "### 2. Métrique globale pour les 4 classes\n",
    "\n",
    "Pour comparer les modèles de manière globale, nous définissons une **métrique agrégée** qui combine les scores de precision, recall et $F_1$ pour toutes les classes. Cela est réalisé via une **moyenne pondérée**, tenant compte du nombre d'échantillons dans chaque classe.\n",
    "\n",
    "#### Formules des métriques globales :\n",
    "\n",
    "- **Precision globale** (moyenne pondérée) :\n",
    "$$\n",
    "\\text{Precision Global} = \\frac{\\sum_{i=1}^{4} n_i \\cdot \\text{Precision}_i}{\\sum_{i=1}^{4} n_i}\n",
    "$$\n",
    "\n",
    "- **Recall global** (moyenne pondérée) :\n",
    "$$\n",
    "\\text{Recall Global} = \\frac{\\sum_{i=1}^{4} n_i \\cdot \\text{Recall}_i}{\\sum_{i=1}^{4} n_i}\n",
    "$$\n",
    "\n",
    "- **$F_1$-score global** (basé sur les totals agrégés pour toutes les classes) :\n",
    "$$\n",
    "F_1\\text{-score Global} = 2 \\cdot \\frac{\\text{Precision Global} \\cdot \\text{Recall Global}}{\\text{Precision Global} + \\text{Recall Global}}\n",
    "$$\n",
    "\n",
    "où :\n",
    "- $n_i$ : Nombre d'échantillons dans la classe $i$.\n",
    "- $\\text{Precision}_i$, $\\text{Recall}_i$ : Metrics pour la classe $i$.\n",
    "\n",
    "---\n",
    "\n",
    "### 3. Analyse et comparaison des modèles\n",
    "\n",
    "1. **Évaluation des modèles individuellement pour chaque classe** :\n",
    "   - Calculer precision, recall et $F_1$-score pour chaque classe (Classe 0, Classe 1, Classe 2, Classe 3).\n",
    "   - Générer les matrices de confusion pour visualiser les erreurs de prédiction par classe.\n",
    "\n",
    "2. **Calcul des métriques globales** :\n",
    "   - Moyenne pondérée des metrics pour les 4 classes.\n",
    "   - Comparer les valeurs de precision globale, recall global et $F_1$-score global entre les modèles.\n",
    "\n",
    "3. **Visualisation des performances** :\n",
    "   - Tracer des courbes ROC pour chaque classe.\n",
    "   - Présenter les scores globaux sous forme de tableaux ou de diagrammes.\n",
    "\n",
    "---\n",
    "\n",
    "### 4. Impact de l'équilibrage des classes\n",
    "\n",
    "Tester différentes approches pour gérer les déséquilibres dans les données, telles que :\n",
    "- **Sur-échantillonnage** des classes minoritaires.\n",
    "- **Sous-échantillonnage** des classes majoritaires.\n",
    "- **Pondération des classes** dans les fonctions de coût.\n",
    "\n",
    "Analyser l'effet de ces approches sur les metrics globales et individuelles.\n"
   ]
  },
  {
   "cell_type": "markdown",
   "metadata": {},
   "source": [
    "---\n",
    "\n",
    "## Conclusion\n",
    "\n",
    "À la fin de ce notebook, nous serons en mesure de :\n",
    "1. Identifier le modèle offrant les meilleures performances globales.\n",
    "2. Comprendre comment chaque modèle gère les déséquilibres entre les classes.\n",
    "3. Fournir des recommandations pour l'utilisation des modèles dans des scénarios réels."
   ]
  },
  {
   "cell_type": "code",
   "execution_count": 1,
   "metadata": {},
   "outputs": [],
   "source": [
    "import os\n",
    "import yaml\n",
    "import numpy as np\n",
    "import matplotlib.pyplot as plt\n",
    "import seaborn as sns\n",
    "import plotly.express as px\n",
    "import plotly.graph_objects as go\n",
    "import plotly.io as pio\n",
    "from sklearn.metrics import (\n",
    "    confusion_matrix, classification_report, roc_curve, auc\n",
    ")\n",
    "from sklearn.preprocessing import label_binarize\n",
    "\n",
    "from module_for_preprocessing_metrics import *  \n",
    "\n",
    "with open('../config.yml', 'r') as file:\n",
    "    config = yaml.safe_load(file)\n",
    "\n",
    "\n",
    "size = config['données']['image']['size']\n"
   ]
  },
  {
   "cell_type": "markdown",
   "metadata": {},
   "source": [
    "## Accès aux données de test et aux historiques des modèles 🔍\n",
    "\n",
    "Dans cette section, nous allons charger et explorer nos données de test. Ces données seront utilisées pour évaluer les performances des modèles entraînés.\n",
    "\n",
    "De plus, nous accédons également aux historiques des modèles (*history*), qui contiennent des informations sur l'évolution des métriques telles que la précision (*accuracy*) et la perte (*loss*) pendant l'entraînement. Ces historiques seront utilisés pour visualiser les performances des modèles au fil des époques.\n"
   ]
  },
  {
   "cell_type": "code",
   "execution_count": 4,
   "metadata": {},
   "outputs": [],
   "source": [
    "testing = os.path.join(os.path.abspath(os.path.join(os.getcwd(), \"..\")), \"data\", \"Testing\")\n",
    "x_test, y_test = load_images_with_preprocessing(testing, size)\n",
    "\n",
    "models_history = os.path.join(os.path.join(\"..\", \"src\", \"models\", \"sauvegardes_modeles\"), 'models_history.json')"
   ]
  },
  {
   "cell_type": "markdown",
   "metadata": {},
   "source": [
    "# Glossaire des modèles utilisés dans le benchmark 🧠\n",
    "\n",
    "Ce glossaire décrit les modèles évalués dans le cadre de notre benchmark. Chaque modèle présente une architecture ou une stratégie d'entraînement différente pour comparer leurs performances sur la reconnaissance de tumeurs cérébrales.\n",
    "\n",
    "---\n",
    "\n",
    "## **Baseline** 🤖\n",
    "- **Description** : Modèle préentraîné basé sur **Inception** et optimisé pour le domaine médical.\n",
    "- **Objectif** : Fournir un point de référence pour comparer les modèles personnalisés.  \n",
    "📒 *Apparaît dans un notebook dedié.*\n",
    "\n",
    "---\n",
    "\n",
    "## **Model 1** 🤖\n",
    "- **Architecture** :\n",
    "  - 4 couches de convolution avec activation **ReLU**.\n",
    "  - 2 couches de **max pooling** pour la réduction dimensionnelle.\n",
    "  - 1 couche fully connected avec 64 neurones et activation **ReLU**.\n",
    "  - 1 couche de **Dropout** (20% de neurones désactivés pour éviter le surapprentissage).\n",
    "  - 1 couche de sortie avec activation **softmax** pour classer en 4 catégories.\n",
    "- **Particularité** : \n",
    "  - 🚫 **Sans augmentation de données** : Les données d'entraînement sont utilisées telles quelles, sans modification ni équilibrage.\n",
    "\n",
    "---\n",
    "\n",
    "## **Model 2** 🤖\n",
    "- **Architecture** :\n",
    "  - Identique au **Model 1** :\n",
    "    - 4 couches de convolution avec activation **ReLU**.\n",
    "    - 2 couches de **max pooling**.\n",
    "    - 1 couche fully connected avec 64 neurones et activation **ReLU**.\n",
    "    - 1 couche de **Dropout** (20%).\n",
    "    - 1 couche de sortie avec activation **softmax**.\n",
    "- **Particularité** :\n",
    "  - ✅ **Avec augmentation de données** :\n",
    "    - Équilibrage des classes : Ajout d'images synthétiques pour égaliser le nombre d'images dans chaque classe.\n",
    "    - Transformations appliquées : **Zoom**, **décalage** et autres opérations pour enrichir les données et améliorer la robustesse du modèle.\n",
    "\n",
    "---\n",
    "\n",
    "## **Model 3** 🤖\n",
    "- **Architecture** :\n",
    "  - 4 couches de convolution avec activation **sigmoid**.\n",
    "  - 2 couches de **max pooling**.\n",
    "  - 1 couche fully connected avec 64 neurones et activation **ReLU**.\n",
    "  - 1 couche de **Dropout** (20%).\n",
    "  - 1 couche de sortie avec activation **softmax** pour classer en 4 catégories.\n",
    "- **Particularité** :\n",
    "  - ✨ Utilisation de l'activation **sigmoid** dans les couches de convolution, contrairement aux modèles précédents qui utilisent **ReLU**.\n",
    "\n",
    "---\n",
    "\n",
    "## **Résumé des différences** 📊\n",
    "| Modèle       | Architecture                                                                                      | Augmentation de données                 | Activation des convolutions |\n",
    "|--------------|--------------------------------------------------------------------------------------------------|-----------------------------------------|-----------------------------|\n",
    "| **Baseline** | Modèle préentraîné Inception optimisé pour le domaine médical                                     | Non                                     | N/A                         |\n",
    "| **Model 1**  | Sequential avec 4 convolutions (ReLU), 2 max pooling, 1 fully connected (ReLU), Dropout (20%)     | Non                                     | **ReLU**                    |\n",
    "| **Model 2**  | Sequential identique au Model 1                                                                  | Oui (équilibrage, zoom, décalage)       | **ReLU**                    |\n",
    "| **Model 3**  | Sequential avec 4 convolutions (sigmoid), 2 max pooling, 1 fully connected (ReLU), Dropout (20%) | Non                                     | **Sigmoid**                 |\n"
   ]
  },
  {
   "cell_type": "code",
   "execution_count": 2,
   "metadata": {},
   "outputs": [],
   "source": [
    "#baseline = load_saved_model('inception1.h5')\n",
    "model_1 = load_saved_model('modele_brain_tumor_20241117_205951.h5')\n",
    "model_2 = load_saved_model('modele_brain_tumor_20241125_002219.h5')\n",
    "model_3 = load_saved_model('modele_brain_tumor_20241210_123938.h5')"
   ]
  },
  {
   "cell_type": "markdown",
   "metadata": {},
   "source": [
    "# Analyse du Modèle 1"
   ]
  },
  {
   "cell_type": "code",
   "execution_count": 8,
   "metadata": {},
   "outputs": [
    {
     "name": "stdout",
     "output_type": "stream",
     "text": [
      "13/13 [==============================] - 43s 3s/step\n"
     ]
    },
    {
     "data": {
      "application/vnd.plotly.v1+json": {
       "config": {
        "plotlyServerURL": "https://plot.ly"
       },
       "data": [
        {
         "coloraxis": "coloraxis",
         "hovertemplate": "Predicted: %{x}<br>True: %{y}<br>Count: %{z}<extra></extra>",
         "name": "0",
         "texttemplate": "%{z}",
         "type": "heatmap",
         "x": [
          "Glioma",
          "Meningioma",
          "No Tumor",
          "Pituitary"
         ],
         "xaxis": "x",
         "y": [
          "Glioma",
          "Meningioma",
          "No Tumor",
          "Pituitary"
         ],
         "yaxis": "y",
         "z": [
          [
           17,
           24,
           56,
           3
          ],
          [
           1,
           101,
           10,
           3
          ],
          [
           1,
           3,
           101,
           0
          ],
          [
           2,
           21,
           6,
           45
          ]
         ]
        }
       ],
       "layout": {
        "coloraxis": {
         "colorbar": {
          "title": {
           "text": "Count"
          }
         },
         "colorscale": [
          [
           0,
           "rgb(247,251,255)"
          ],
          [
           0.125,
           "rgb(222,235,247)"
          ],
          [
           0.25,
           "rgb(198,219,239)"
          ],
          [
           0.375,
           "rgb(158,202,225)"
          ],
          [
           0.5,
           "rgb(107,174,214)"
          ],
          [
           0.625,
           "rgb(66,146,198)"
          ],
          [
           0.75,
           "rgb(33,113,181)"
          ],
          [
           0.875,
           "rgb(8,81,156)"
          ],
          [
           1,
           "rgb(8,48,107)"
          ]
         ]
        },
        "template": {
         "data": {
          "bar": [
           {
            "error_x": {
             "color": "#2a3f5f"
            },
            "error_y": {
             "color": "#2a3f5f"
            },
            "marker": {
             "line": {
              "color": "#E5ECF6",
              "width": 0.5
             },
             "pattern": {
              "fillmode": "overlay",
              "size": 10,
              "solidity": 0.2
             }
            },
            "type": "bar"
           }
          ],
          "barpolar": [
           {
            "marker": {
             "line": {
              "color": "#E5ECF6",
              "width": 0.5
             },
             "pattern": {
              "fillmode": "overlay",
              "size": 10,
              "solidity": 0.2
             }
            },
            "type": "barpolar"
           }
          ],
          "carpet": [
           {
            "aaxis": {
             "endlinecolor": "#2a3f5f",
             "gridcolor": "white",
             "linecolor": "white",
             "minorgridcolor": "white",
             "startlinecolor": "#2a3f5f"
            },
            "baxis": {
             "endlinecolor": "#2a3f5f",
             "gridcolor": "white",
             "linecolor": "white",
             "minorgridcolor": "white",
             "startlinecolor": "#2a3f5f"
            },
            "type": "carpet"
           }
          ],
          "choropleth": [
           {
            "colorbar": {
             "outlinewidth": 0,
             "ticks": ""
            },
            "type": "choropleth"
           }
          ],
          "contour": [
           {
            "colorbar": {
             "outlinewidth": 0,
             "ticks": ""
            },
            "colorscale": [
             [
              0,
              "#0d0887"
             ],
             [
              0.1111111111111111,
              "#46039f"
             ],
             [
              0.2222222222222222,
              "#7201a8"
             ],
             [
              0.3333333333333333,
              "#9c179e"
             ],
             [
              0.4444444444444444,
              "#bd3786"
             ],
             [
              0.5555555555555556,
              "#d8576b"
             ],
             [
              0.6666666666666666,
              "#ed7953"
             ],
             [
              0.7777777777777778,
              "#fb9f3a"
             ],
             [
              0.8888888888888888,
              "#fdca26"
             ],
             [
              1,
              "#f0f921"
             ]
            ],
            "type": "contour"
           }
          ],
          "contourcarpet": [
           {
            "colorbar": {
             "outlinewidth": 0,
             "ticks": ""
            },
            "type": "contourcarpet"
           }
          ],
          "heatmap": [
           {
            "colorbar": {
             "outlinewidth": 0,
             "ticks": ""
            },
            "colorscale": [
             [
              0,
              "#0d0887"
             ],
             [
              0.1111111111111111,
              "#46039f"
             ],
             [
              0.2222222222222222,
              "#7201a8"
             ],
             [
              0.3333333333333333,
              "#9c179e"
             ],
             [
              0.4444444444444444,
              "#bd3786"
             ],
             [
              0.5555555555555556,
              "#d8576b"
             ],
             [
              0.6666666666666666,
              "#ed7953"
             ],
             [
              0.7777777777777778,
              "#fb9f3a"
             ],
             [
              0.8888888888888888,
              "#fdca26"
             ],
             [
              1,
              "#f0f921"
             ]
            ],
            "type": "heatmap"
           }
          ],
          "heatmapgl": [
           {
            "colorbar": {
             "outlinewidth": 0,
             "ticks": ""
            },
            "colorscale": [
             [
              0,
              "#0d0887"
             ],
             [
              0.1111111111111111,
              "#46039f"
             ],
             [
              0.2222222222222222,
              "#7201a8"
             ],
             [
              0.3333333333333333,
              "#9c179e"
             ],
             [
              0.4444444444444444,
              "#bd3786"
             ],
             [
              0.5555555555555556,
              "#d8576b"
             ],
             [
              0.6666666666666666,
              "#ed7953"
             ],
             [
              0.7777777777777778,
              "#fb9f3a"
             ],
             [
              0.8888888888888888,
              "#fdca26"
             ],
             [
              1,
              "#f0f921"
             ]
            ],
            "type": "heatmapgl"
           }
          ],
          "histogram": [
           {
            "marker": {
             "pattern": {
              "fillmode": "overlay",
              "size": 10,
              "solidity": 0.2
             }
            },
            "type": "histogram"
           }
          ],
          "histogram2d": [
           {
            "colorbar": {
             "outlinewidth": 0,
             "ticks": ""
            },
            "colorscale": [
             [
              0,
              "#0d0887"
             ],
             [
              0.1111111111111111,
              "#46039f"
             ],
             [
              0.2222222222222222,
              "#7201a8"
             ],
             [
              0.3333333333333333,
              "#9c179e"
             ],
             [
              0.4444444444444444,
              "#bd3786"
             ],
             [
              0.5555555555555556,
              "#d8576b"
             ],
             [
              0.6666666666666666,
              "#ed7953"
             ],
             [
              0.7777777777777778,
              "#fb9f3a"
             ],
             [
              0.8888888888888888,
              "#fdca26"
             ],
             [
              1,
              "#f0f921"
             ]
            ],
            "type": "histogram2d"
           }
          ],
          "histogram2dcontour": [
           {
            "colorbar": {
             "outlinewidth": 0,
             "ticks": ""
            },
            "colorscale": [
             [
              0,
              "#0d0887"
             ],
             [
              0.1111111111111111,
              "#46039f"
             ],
             [
              0.2222222222222222,
              "#7201a8"
             ],
             [
              0.3333333333333333,
              "#9c179e"
             ],
             [
              0.4444444444444444,
              "#bd3786"
             ],
             [
              0.5555555555555556,
              "#d8576b"
             ],
             [
              0.6666666666666666,
              "#ed7953"
             ],
             [
              0.7777777777777778,
              "#fb9f3a"
             ],
             [
              0.8888888888888888,
              "#fdca26"
             ],
             [
              1,
              "#f0f921"
             ]
            ],
            "type": "histogram2dcontour"
           }
          ],
          "mesh3d": [
           {
            "colorbar": {
             "outlinewidth": 0,
             "ticks": ""
            },
            "type": "mesh3d"
           }
          ],
          "parcoords": [
           {
            "line": {
             "colorbar": {
              "outlinewidth": 0,
              "ticks": ""
             }
            },
            "type": "parcoords"
           }
          ],
          "pie": [
           {
            "automargin": true,
            "type": "pie"
           }
          ],
          "scatter": [
           {
            "fillpattern": {
             "fillmode": "overlay",
             "size": 10,
             "solidity": 0.2
            },
            "type": "scatter"
           }
          ],
          "scatter3d": [
           {
            "line": {
             "colorbar": {
              "outlinewidth": 0,
              "ticks": ""
             }
            },
            "marker": {
             "colorbar": {
              "outlinewidth": 0,
              "ticks": ""
             }
            },
            "type": "scatter3d"
           }
          ],
          "scattercarpet": [
           {
            "marker": {
             "colorbar": {
              "outlinewidth": 0,
              "ticks": ""
             }
            },
            "type": "scattercarpet"
           }
          ],
          "scattergeo": [
           {
            "marker": {
             "colorbar": {
              "outlinewidth": 0,
              "ticks": ""
             }
            },
            "type": "scattergeo"
           }
          ],
          "scattergl": [
           {
            "marker": {
             "colorbar": {
              "outlinewidth": 0,
              "ticks": ""
             }
            },
            "type": "scattergl"
           }
          ],
          "scattermapbox": [
           {
            "marker": {
             "colorbar": {
              "outlinewidth": 0,
              "ticks": ""
             }
            },
            "type": "scattermapbox"
           }
          ],
          "scatterpolar": [
           {
            "marker": {
             "colorbar": {
              "outlinewidth": 0,
              "ticks": ""
             }
            },
            "type": "scatterpolar"
           }
          ],
          "scatterpolargl": [
           {
            "marker": {
             "colorbar": {
              "outlinewidth": 0,
              "ticks": ""
             }
            },
            "type": "scatterpolargl"
           }
          ],
          "scatterternary": [
           {
            "marker": {
             "colorbar": {
              "outlinewidth": 0,
              "ticks": ""
             }
            },
            "type": "scatterternary"
           }
          ],
          "surface": [
           {
            "colorbar": {
             "outlinewidth": 0,
             "ticks": ""
            },
            "colorscale": [
             [
              0,
              "#0d0887"
             ],
             [
              0.1111111111111111,
              "#46039f"
             ],
             [
              0.2222222222222222,
              "#7201a8"
             ],
             [
              0.3333333333333333,
              "#9c179e"
             ],
             [
              0.4444444444444444,
              "#bd3786"
             ],
             [
              0.5555555555555556,
              "#d8576b"
             ],
             [
              0.6666666666666666,
              "#ed7953"
             ],
             [
              0.7777777777777778,
              "#fb9f3a"
             ],
             [
              0.8888888888888888,
              "#fdca26"
             ],
             [
              1,
              "#f0f921"
             ]
            ],
            "type": "surface"
           }
          ],
          "table": [
           {
            "cells": {
             "fill": {
              "color": "#EBF0F8"
             },
             "line": {
              "color": "white"
             }
            },
            "header": {
             "fill": {
              "color": "#C8D4E3"
             },
             "line": {
              "color": "white"
             }
            },
            "type": "table"
           }
          ]
         },
         "layout": {
          "annotationdefaults": {
           "arrowcolor": "#2a3f5f",
           "arrowhead": 0,
           "arrowwidth": 1
          },
          "autotypenumbers": "strict",
          "coloraxis": {
           "colorbar": {
            "outlinewidth": 0,
            "ticks": ""
           }
          },
          "colorscale": {
           "diverging": [
            [
             0,
             "#8e0152"
            ],
            [
             0.1,
             "#c51b7d"
            ],
            [
             0.2,
             "#de77ae"
            ],
            [
             0.3,
             "#f1b6da"
            ],
            [
             0.4,
             "#fde0ef"
            ],
            [
             0.5,
             "#f7f7f7"
            ],
            [
             0.6,
             "#e6f5d0"
            ],
            [
             0.7,
             "#b8e186"
            ],
            [
             0.8,
             "#7fbc41"
            ],
            [
             0.9,
             "#4d9221"
            ],
            [
             1,
             "#276419"
            ]
           ],
           "sequential": [
            [
             0,
             "#0d0887"
            ],
            [
             0.1111111111111111,
             "#46039f"
            ],
            [
             0.2222222222222222,
             "#7201a8"
            ],
            [
             0.3333333333333333,
             "#9c179e"
            ],
            [
             0.4444444444444444,
             "#bd3786"
            ],
            [
             0.5555555555555556,
             "#d8576b"
            ],
            [
             0.6666666666666666,
             "#ed7953"
            ],
            [
             0.7777777777777778,
             "#fb9f3a"
            ],
            [
             0.8888888888888888,
             "#fdca26"
            ],
            [
             1,
             "#f0f921"
            ]
           ],
           "sequentialminus": [
            [
             0,
             "#0d0887"
            ],
            [
             0.1111111111111111,
             "#46039f"
            ],
            [
             0.2222222222222222,
             "#7201a8"
            ],
            [
             0.3333333333333333,
             "#9c179e"
            ],
            [
             0.4444444444444444,
             "#bd3786"
            ],
            [
             0.5555555555555556,
             "#d8576b"
            ],
            [
             0.6666666666666666,
             "#ed7953"
            ],
            [
             0.7777777777777778,
             "#fb9f3a"
            ],
            [
             0.8888888888888888,
             "#fdca26"
            ],
            [
             1,
             "#f0f921"
            ]
           ]
          },
          "colorway": [
           "#636efa",
           "#EF553B",
           "#00cc96",
           "#ab63fa",
           "#FFA15A",
           "#19d3f3",
           "#FF6692",
           "#B6E880",
           "#FF97FF",
           "#FECB52"
          ],
          "font": {
           "color": "#2a3f5f"
          },
          "geo": {
           "bgcolor": "white",
           "lakecolor": "white",
           "landcolor": "#E5ECF6",
           "showlakes": true,
           "showland": true,
           "subunitcolor": "white"
          },
          "hoverlabel": {
           "align": "left"
          },
          "hovermode": "closest",
          "mapbox": {
           "style": "light"
          },
          "paper_bgcolor": "white",
          "plot_bgcolor": "#E5ECF6",
          "polar": {
           "angularaxis": {
            "gridcolor": "white",
            "linecolor": "white",
            "ticks": ""
           },
           "bgcolor": "#E5ECF6",
           "radialaxis": {
            "gridcolor": "white",
            "linecolor": "white",
            "ticks": ""
           }
          },
          "scene": {
           "xaxis": {
            "backgroundcolor": "#E5ECF6",
            "gridcolor": "white",
            "gridwidth": 2,
            "linecolor": "white",
            "showbackground": true,
            "ticks": "",
            "zerolinecolor": "white"
           },
           "yaxis": {
            "backgroundcolor": "#E5ECF6",
            "gridcolor": "white",
            "gridwidth": 2,
            "linecolor": "white",
            "showbackground": true,
            "ticks": "",
            "zerolinecolor": "white"
           },
           "zaxis": {
            "backgroundcolor": "#E5ECF6",
            "gridcolor": "white",
            "gridwidth": 2,
            "linecolor": "white",
            "showbackground": true,
            "ticks": "",
            "zerolinecolor": "white"
           }
          },
          "shapedefaults": {
           "line": {
            "color": "#2a3f5f"
           }
          },
          "ternary": {
           "aaxis": {
            "gridcolor": "white",
            "linecolor": "white",
            "ticks": ""
           },
           "baxis": {
            "gridcolor": "white",
            "linecolor": "white",
            "ticks": ""
           },
           "bgcolor": "#E5ECF6",
           "caxis": {
            "gridcolor": "white",
            "linecolor": "white",
            "ticks": ""
           }
          },
          "title": {
           "x": 0.05
          },
          "xaxis": {
           "automargin": true,
           "gridcolor": "white",
           "linecolor": "white",
           "ticks": "",
           "title": {
            "standoff": 15
           },
           "zerolinecolor": "white",
           "zerolinewidth": 2
          },
          "yaxis": {
           "automargin": true,
           "gridcolor": "white",
           "linecolor": "white",
           "ticks": "",
           "title": {
            "standoff": 15
           },
           "zerolinecolor": "white",
           "zerolinewidth": 2
          }
         }
        },
        "title": {
         "text": "Confusion Matrix"
        },
        "xaxis": {
         "anchor": "y",
         "constrain": "domain",
         "domain": [
          0,
          1
         ],
         "scaleanchor": "y",
         "title": {
          "text": "Predicted Labels"
         }
        },
        "yaxis": {
         "anchor": "x",
         "autorange": "reversed",
         "constrain": "domain",
         "domain": [
          0,
          1
         ],
         "title": {
          "text": "True Labels"
         }
        }
       }
      }
     },
     "metadata": {},
     "output_type": "display_data"
    },
    {
     "name": "stdout",
     "output_type": "stream",
     "text": [
      "Classification Report:\n",
      "              precision    recall  f1-score   support\n",
      "\n",
      "      Glioma       0.81      0.17      0.28       100\n",
      "  Meningioma       0.68      0.88      0.77       115\n",
      "    No Tumor       0.58      0.96      0.73       105\n",
      "   Pituitary       0.88      0.61      0.72        74\n",
      "\n",
      "    accuracy                           0.67       394\n",
      "   macro avg       0.74      0.65      0.62       394\n",
      "weighted avg       0.72      0.67      0.62       394\n",
      "\n"
     ]
    }
   ],
   "source": [
    "plot_confusion_matrix(model_1,x_test,y_test)"
   ]
  },
  {
   "cell_type": "code",
   "execution_count": 9,
   "metadata": {},
   "outputs": [
    {
     "name": "stdout",
     "output_type": "stream",
     "text": [
      "13/13 [==============================] - 41s 3s/step\n"
     ]
    },
    {
     "data": {
      "application/vnd.plotly.v1+json": {
       "config": {
        "plotlyServerURL": "https://plot.ly"
       },
       "data": [
        {
         "hovertemplate": "Class=Glioma (AUC = 0.57)<br>FPR=%{x}<br>TPR=%{y}<extra></extra>",
         "legendgroup": "Glioma (AUC = 0.57)",
         "line": {
          "color": "#636efa",
          "dash": "solid"
         },
         "marker": {
          "symbol": "circle"
         },
         "mode": "lines",
         "name": "Glioma (AUC = 0.57)",
         "orientation": "v",
         "showlegend": true,
         "type": "scatter",
         "x": [
          0,
          0,
          0,
          0,
          0.003401360544217687,
          0.003401360544217687,
          0.003401360544217687,
          0.003401360544217687,
          0.01020408163265306,
          0.02040816326530612,
          0.02040816326530612,
          0.023809523809523808,
          0.023809523809523808,
          0.030612244897959183,
          0.03741496598639456,
          0.047619047619047616,
          0.047619047619047616,
          0.047619047619047616,
          0.05442176870748299,
          0.06802721088435375,
          0.07482993197278912,
          0.08163265306122448,
          0.08503401360544217,
          0.09183673469387756,
          0.10204081632653061,
          0.10204081632653061,
          0.10884353741496598,
          0.10884353741496598,
          0.11224489795918367,
          0.12244897959183673,
          0.1326530612244898,
          0.14285714285714285,
          0.14285714285714285,
          0.14965986394557823,
          0.1564625850340136,
          0.16326530612244897,
          0.16326530612244897,
          0.18027210884353742,
          0.19387755102040816,
          0.20408163265306123,
          0.22448979591836735,
          0.23469387755102042,
          0.25170068027210885,
          0.25170068027210885,
          0.2585034013605442,
          0.2653061224489796,
          0.2653061224489796,
          0.2687074829931973,
          0.2687074829931973,
          0.2755102040816326,
          0.2755102040816326,
          0.2755102040816326,
          0.2925170068027211,
          0.2925170068027211,
          0.29591836734693877,
          0.29591836734693877,
          0.30952380952380953,
          0.3163265306122449,
          0.3231292517006803,
          0.3231292517006803,
          0.3299319727891156,
          0.3299319727891156,
          0.3401360544217687,
          0.35034013605442177,
          0.35714285714285715,
          0.35714285714285715,
          0.36394557823129253,
          0.36394557823129253,
          0.3843537414965986,
          0.3843537414965986,
          0.391156462585034,
          0.391156462585034,
          0.40816326530612246,
          0.41836734693877553,
          0.42517006802721086,
          0.42517006802721086,
          0.4421768707482993,
          0.4523809523809524,
          0.4557823129251701,
          0.46258503401360546,
          0.46938775510204084,
          0.46938775510204084,
          0.48299319727891155,
          0.48299319727891155,
          0.48639455782312924,
          0.48639455782312924,
          0.5,
          0.5068027210884354,
          0.5068027210884354,
          0.5170068027210885,
          0.5272108843537415,
          0.5374149659863946,
          0.5510204081632653,
          0.5612244897959183,
          0.5714285714285714,
          0.5782312925170068,
          0.5782312925170068,
          0.5918367346938775,
          0.6020408163265306,
          0.6156462585034014,
          0.6156462585034014,
          0.6156462585034014,
          0.6224489795918368,
          0.6394557823129252,
          0.6394557823129252,
          0.6496598639455783,
          0.6564625850340136,
          0.6564625850340136,
          0.6632653061224489,
          0.6632653061224489,
          0.673469387755102,
          0.673469387755102,
          0.6802721088435374,
          0.6802721088435374,
          0.6802721088435374,
          0.6836734693877551,
          0.6836734693877551,
          0.6870748299319728,
          0.6870748299319728,
          0.6938775510204082,
          0.6938775510204082,
          0.6972789115646258,
          0.6972789115646258,
          0.7074829931972789,
          0.7074829931972789,
          0.7108843537414966,
          0.7108843537414966,
          0.717687074829932,
          0.717687074829932,
          0.7210884353741497,
          0.7210884353741497,
          0.7517006802721088,
          0.7585034013605442,
          0.7789115646258503,
          0.7789115646258503,
          0.7857142857142857,
          0.7857142857142857,
          0.7891156462585034,
          0.7959183673469388,
          0.7993197278911565,
          0.7993197278911565,
          0.8163265306122449,
          0.826530612244898,
          0.8333333333333334,
          0.8401360544217688,
          0.8503401360544217,
          0.8605442176870748,
          0.8673469387755102,
          0.8707482993197279,
          0.8843537414965986,
          0.8843537414965986,
          0.8945578231292517,
          0.9013605442176871,
          0.9149659863945578,
          0.9149659863945578,
          0.9319727891156463,
          0.9489795918367347,
          0.95578231292517,
          0.9625850340136054,
          0.9625850340136054,
          0.9659863945578231,
          0.9659863945578231,
          0.9693877551020408,
          0.9693877551020408,
          0.9761904761904762,
          0.9863945578231292,
          1
         ],
         "xaxis": "x",
         "y": [
          0,
          0.01,
          0.08,
          0.1,
          0.1,
          0.13,
          0.15,
          0.17,
          0.17,
          0.17,
          0.18,
          0.18,
          0.19,
          0.19,
          0.19,
          0.19,
          0.21,
          0.22,
          0.22,
          0.22,
          0.22,
          0.22,
          0.22,
          0.22,
          0.22,
          0.23,
          0.23,
          0.24,
          0.24,
          0.24,
          0.24,
          0.24,
          0.25,
          0.25,
          0.25,
          0.25,
          0.26,
          0.26,
          0.26,
          0.26,
          0.26,
          0.26,
          0.26,
          0.28,
          0.28,
          0.28,
          0.29,
          0.29,
          0.33,
          0.33,
          0.34,
          0.37,
          0.37,
          0.39,
          0.39,
          0.41,
          0.41,
          0.41,
          0.41,
          0.42,
          0.42,
          0.43,
          0.43,
          0.43,
          0.43,
          0.44,
          0.44,
          0.45,
          0.45,
          0.46,
          0.46,
          0.48,
          0.48,
          0.48,
          0.48,
          0.51,
          0.51,
          0.51,
          0.51,
          0.51,
          0.51,
          0.53,
          0.53,
          0.54,
          0.54,
          0.55,
          0.55,
          0.55,
          0.58,
          0.58,
          0.58,
          0.58,
          0.58,
          0.58,
          0.58,
          0.58,
          0.59,
          0.59,
          0.59,
          0.59,
          0.61,
          0.63,
          0.63,
          0.63,
          0.64,
          0.64,
          0.64,
          0.65,
          0.65,
          0.66,
          0.66,
          0.68,
          0.68,
          0.69,
          0.72,
          0.72,
          0.74,
          0.74,
          0.76,
          0.76,
          0.77,
          0.77,
          0.78,
          0.78,
          0.8,
          0.8,
          0.82,
          0.82,
          0.84,
          0.84,
          0.85,
          0.85,
          0.85,
          0.85,
          0.87,
          0.87,
          0.88,
          0.88,
          0.88,
          0.88,
          0.92,
          0.92,
          0.92,
          0.92,
          0.92,
          0.92,
          0.92,
          0.92,
          0.92,
          0.92,
          0.93,
          0.93,
          0.93,
          0.93,
          0.95,
          0.95,
          0.95,
          0.95,
          0.95,
          0.97,
          0.97,
          0.98,
          0.98,
          1,
          1,
          1,
          1
         ],
         "yaxis": "y"
        },
        {
         "hovertemplate": "Class=Meningioma (AUC = 0.91)<br>FPR=%{x}<br>TPR=%{y}<extra></extra>",
         "legendgroup": "Meningioma (AUC = 0.91)",
         "line": {
          "color": "#EF553B",
          "dash": "solid"
         },
         "marker": {
          "symbol": "circle"
         },
         "mode": "lines",
         "name": "Meningioma (AUC = 0.91)",
         "orientation": "v",
         "showlegend": true,
         "type": "scatter",
         "x": [
          0,
          0,
          0,
          0,
          0,
          0.007168458781362007,
          0.007168458781362007,
          0.014336917562724014,
          0.014336917562724014,
          0.021505376344086023,
          0.021505376344086023,
          0.021505376344086023,
          0.02867383512544803,
          0.02867383512544803,
          0.03942652329749104,
          0.03942652329749104,
          0.043010752688172046,
          0.043010752688172046,
          0.04659498207885305,
          0.06810035842293907,
          0.07526881720430108,
          0.07526881720430108,
          0.08243727598566308,
          0.08602150537634409,
          0.08602150537634409,
          0.08960573476702509,
          0.08960573476702509,
          0.0967741935483871,
          0.0967741935483871,
          0.1039426523297491,
          0.1039426523297491,
          0.10752688172043011,
          0.10752688172043011,
          0.1111111111111111,
          0.1111111111111111,
          0.11827956989247312,
          0.12544802867383512,
          0.12544802867383512,
          0.13978494623655913,
          0.14695340501792115,
          0.16129032258064516,
          0.16129032258064516,
          0.16487455197132617,
          0.16487455197132617,
          0.1827956989247312,
          0.1827956989247312,
          0.1971326164874552,
          0.1971326164874552,
          0.21863799283154123,
          0.22580645161290322,
          0.24014336917562723,
          0.25089605734767023,
          0.25806451612903225,
          0.2616487455197133,
          0.26881720430107525,
          0.27598566308243727,
          0.2867383512544803,
          0.2903225806451613,
          0.3046594982078853,
          0.3154121863799283,
          0.33691756272401435,
          0.34408602150537637,
          0.3548387096774194,
          0.3548387096774194,
          0.35842293906810035,
          0.3727598566308244,
          0.3763440860215054,
          0.3870967741935484,
          0.3942652329749104,
          0.4121863799283154,
          0.4336917562724014,
          0.44086021505376344,
          0.45161290322580644,
          0.4659498207885305,
          0.4659498207885305,
          0.4767025089605735,
          0.4838709677419355,
          0.4838709677419355,
          0.4910394265232975,
          0.4910394265232975,
          0.4946236559139785,
          0.5017921146953405,
          0.5125448028673835,
          0.5197132616487455,
          0.5340501792114696,
          0.5412186379928315,
          0.5448028673835126,
          0.5519713261648745,
          0.5627240143369175,
          0.5698924731182796,
          0.5698924731182796,
          0.5770609318996416,
          0.5842293906810035,
          0.5913978494623656,
          0.5913978494623656,
          0.5985663082437276,
          0.6021505376344086,
          0.6093189964157706,
          0.6129032258064516,
          0.6200716845878136,
          0.7025089605734767,
          0.7168458781362007,
          0.7240143369175627,
          0.7455197132616488,
          0.7526881720430108,
          0.7634408602150538,
          0.7849462365591398,
          0.7849462365591398,
          0.7885304659498208,
          0.7956989247311828,
          0.8315412186379928,
          0.8315412186379928,
          0.8637992831541219,
          0.8709677419354839,
          0.899641577060932,
          0.9068100358422939,
          0.910394265232975,
          0.9283154121863799,
          0.931899641577061,
          0.931899641577061,
          0.946236559139785,
          0.9498207885304659,
          0.96415770609319,
          0.974910394265233,
          0.996415770609319,
          1
         ],
         "xaxis": "x",
         "y": [
          0,
          0.017391304347826087,
          0.034782608695652174,
          0.16521739130434782,
          0.1826086956521739,
          0.1826086956521739,
          0.25217391304347825,
          0.25217391304347825,
          0.2608695652173913,
          0.2608695652173913,
          0.3217391304347826,
          0.3391304347826087,
          0.3391304347826087,
          0.5478260869565217,
          0.5478260869565217,
          0.5565217391304348,
          0.5565217391304348,
          0.6,
          0.6,
          0.6,
          0.6,
          0.6782608695652174,
          0.6782608695652174,
          0.6782608695652174,
          0.7304347826086957,
          0.7304347826086957,
          0.7652173913043478,
          0.7652173913043478,
          0.7913043478260869,
          0.7913043478260869,
          0.8,
          0.8,
          0.808695652173913,
          0.808695652173913,
          0.8260869565217391,
          0.8260869565217391,
          0.8260869565217391,
          0.8521739130434782,
          0.8521739130434782,
          0.8521739130434782,
          0.8521739130434782,
          0.8695652173913043,
          0.8695652173913043,
          0.8956521739130435,
          0.8956521739130435,
          0.9130434782608695,
          0.9130434782608695,
          0.9217391304347826,
          0.9217391304347826,
          0.9217391304347826,
          0.9217391304347826,
          0.9217391304347826,
          0.9217391304347826,
          0.9217391304347826,
          0.9217391304347826,
          0.9217391304347826,
          0.9217391304347826,
          0.9217391304347826,
          0.9217391304347826,
          0.9217391304347826,
          0.9217391304347826,
          0.9217391304347826,
          0.9217391304347826,
          0.9304347826086956,
          0.9304347826086956,
          0.9304347826086956,
          0.9304347826086956,
          0.9304347826086956,
          0.9304347826086956,
          0.9304347826086956,
          0.9304347826086956,
          0.9304347826086956,
          0.9304347826086956,
          0.9304347826086956,
          0.9391304347826087,
          0.9391304347826087,
          0.9391304347826087,
          0.9478260869565217,
          0.9478260869565217,
          0.9565217391304348,
          0.9565217391304348,
          0.9565217391304348,
          0.9565217391304348,
          0.9565217391304348,
          0.9565217391304348,
          0.9565217391304348,
          0.9565217391304348,
          0.9565217391304348,
          0.9565217391304348,
          0.9565217391304348,
          0.9652173913043478,
          0.9652173913043478,
          0.9652173913043478,
          0.9652173913043478,
          0.9739130434782609,
          0.9739130434782609,
          0.9739130434782609,
          0.9739130434782609,
          0.9739130434782609,
          0.9739130434782609,
          0.9739130434782609,
          0.9739130434782609,
          0.9739130434782609,
          0.9739130434782609,
          0.9739130434782609,
          0.9739130434782609,
          0.9739130434782609,
          0.9826086956521739,
          0.9826086956521739,
          0.9826086956521739,
          0.9826086956521739,
          0.991304347826087,
          0.991304347826087,
          0.991304347826087,
          0.991304347826087,
          0.991304347826087,
          0.991304347826087,
          0.991304347826087,
          0.991304347826087,
          1,
          1,
          1,
          1,
          1,
          1,
          1
         ],
         "yaxis": "y"
        },
        {
         "hovertemplate": "Class=No Tumor (AUC = 0.94)<br>FPR=%{x}<br>TPR=%{y}<extra></extra>",
         "legendgroup": "No Tumor (AUC = 0.94)",
         "line": {
          "color": "#00cc96",
          "dash": "solid"
         },
         "marker": {
          "symbol": "circle"
         },
         "mode": "lines",
         "name": "No Tumor (AUC = 0.94)",
         "orientation": "v",
         "showlegend": true,
         "type": "scatter",
         "x": [
          0,
          0.006920415224913495,
          0.006920415224913495,
          0.006920415224913495,
          0.006920415224913495,
          0.006920415224913495,
          0.010380622837370242,
          0.010380622837370242,
          0.020761245674740483,
          0.020761245674740483,
          0.02422145328719723,
          0.02422145328719723,
          0.02422145328719723,
          0.031141868512110725,
          0.031141868512110725,
          0.031141868512110725,
          0.031141868512110725,
          0.031141868512110725,
          0.031141868512110725,
          0.03460207612456748,
          0.03460207612456748,
          0.03806228373702422,
          0.03806228373702422,
          0.04498269896193772,
          0.04498269896193772,
          0.04844290657439446,
          0.05536332179930796,
          0.05536332179930796,
          0.06228373702422145,
          0.0657439446366782,
          0.0657439446366782,
          0.0657439446366782,
          0.06920415224913495,
          0.06920415224913495,
          0.07612456747404844,
          0.07612456747404844,
          0.08304498269896193,
          0.08650519031141868,
          0.08650519031141868,
          0.08996539792387544,
          0.08996539792387544,
          0.09688581314878893,
          0.10380622837370242,
          0.10726643598615918,
          0.10726643598615918,
          0.11418685121107267,
          0.11418685121107267,
          0.11764705882352941,
          0.11764705882352941,
          0.12110726643598616,
          0.1314878892733564,
          0.1314878892733564,
          0.13494809688581316,
          0.14186851211072665,
          0.14878892733564014,
          0.14878892733564014,
          0.1695501730103806,
          0.1695501730103806,
          0.17301038062283736,
          0.17301038062283736,
          0.1903114186851211,
          0.1903114186851211,
          0.19377162629757785,
          0.19377162629757785,
          0.1972318339100346,
          0.1972318339100346,
          0.20069204152249134,
          0.21453287197231835,
          0.22491349480968859,
          0.22491349480968859,
          0.23875432525951557,
          0.25951557093425603,
          0.25951557093425603,
          0.2698961937716263,
          0.2768166089965398,
          0.2768166089965398,
          0.2837370242214533,
          0.29411764705882354,
          0.2975778546712803,
          0.2975778546712803,
          0.3079584775086505,
          0.31833910034602075,
          0.328719723183391,
          0.34256055363321797,
          0.35294117647058826,
          0.35986159169550175,
          0.36678200692041524,
          0.43252595155709345,
          0.43944636678200694,
          0.4463667820069204,
          0.45674740484429066,
          0.46366782006920415,
          0.49480968858131485,
          0.5051903114186851,
          0.5155709342560554,
          0.5259515570934256,
          0.5432525951557093,
          0.5501730103806228,
          0.6089965397923875,
          0.615916955017301,
          0.643598615916955,
          0.6505190311418685,
          0.6678200692041523,
          0.6816608996539792,
          0.6851211072664359,
          0.6920415224913494,
          0.7024221453287197,
          0.7093425605536332,
          0.7508650519031141,
          0.7577854671280276,
          0.7612456747404844,
          0.7716262975778547,
          0.7785467128027682,
          0.7854671280276817,
          0.7958477508650519,
          0.8027681660899654,
          0.8096885813148789,
          0.8200692041522492,
          0.8269896193771626,
          0.8339100346020761,
          0.8442906574394463,
          0.8685121107266436,
          0.8754325259515571,
          0.8927335640138409,
          0.8996539792387543,
          0.9307958477508651,
          0.9377162629757786,
          0.9480968858131488,
          0.9550173010380623,
          0.9619377162629758,
          0.972318339100346,
          0.986159169550173,
          0.9965397923875432,
          1
         ],
         "xaxis": "x",
         "y": [
          0,
          0.21904761904761905,
          0.2571428571428571,
          0.29523809523809524,
          0.3142857142857143,
          0.3238095238095238,
          0.3238095238095238,
          0.34285714285714286,
          0.34285714285714286,
          0.3523809523809524,
          0.3523809523809524,
          0.37142857142857144,
          0.4,
          0.4,
          0.41904761904761906,
          0.4380952380952381,
          0.4666666666666667,
          0.5047619047619047,
          0.5904761904761905,
          0.5904761904761905,
          0.6,
          0.6,
          0.638095238095238,
          0.638095238095238,
          0.6571428571428571,
          0.6571428571428571,
          0.6571428571428571,
          0.6761904761904762,
          0.6761904761904762,
          0.6761904761904762,
          0.6952380952380952,
          0.7047619047619048,
          0.7047619047619048,
          0.7333333333333333,
          0.7333333333333333,
          0.7714285714285715,
          0.7714285714285715,
          0.7714285714285715,
          0.780952380952381,
          0.780952380952381,
          0.8,
          0.8,
          0.8,
          0.8,
          0.8095238095238095,
          0.8095238095238095,
          0.8380952380952381,
          0.8380952380952381,
          0.8571428571428571,
          0.8571428571428571,
          0.8571428571428571,
          0.8666666666666667,
          0.8666666666666667,
          0.8666666666666667,
          0.8666666666666667,
          0.8857142857142857,
          0.8857142857142857,
          0.9047619047619048,
          0.9047619047619048,
          0.9238095238095239,
          0.9238095238095239,
          0.9333333333333333,
          0.9333333333333333,
          0.9428571428571428,
          0.9428571428571428,
          0.9523809523809523,
          0.9523809523809523,
          0.9523809523809523,
          0.9523809523809523,
          0.9619047619047619,
          0.9619047619047619,
          0.9619047619047619,
          0.9714285714285714,
          0.9714285714285714,
          0.9714285714285714,
          0.9904761904761905,
          0.9904761904761905,
          0.9904761904761905,
          0.9904761904761905,
          1,
          1,
          1,
          1,
          1,
          1,
          1,
          1,
          1,
          1,
          1,
          1,
          1,
          1,
          1,
          1,
          1,
          1,
          1,
          1,
          1,
          1,
          1,
          1,
          1,
          1,
          1,
          1,
          1,
          1,
          1,
          1,
          1,
          1,
          1,
          1,
          1,
          1,
          1,
          1,
          1,
          1,
          1,
          1,
          1,
          1,
          1,
          1,
          1,
          1,
          1,
          1,
          1,
          1,
          1
         ],
         "yaxis": "y"
        },
        {
         "hovertemplate": "Class=Pituitary (AUC = 0.94)<br>FPR=%{x}<br>TPR=%{y}<extra></extra>",
         "legendgroup": "Pituitary (AUC = 0.94)",
         "line": {
          "color": "#ab63fa",
          "dash": "solid"
         },
         "marker": {
          "symbol": "circle"
         },
         "mode": "lines",
         "name": "Pituitary (AUC = 0.94)",
         "orientation": "v",
         "showlegend": true,
         "type": "scatter",
         "x": [
          0,
          0,
          0,
          0,
          0,
          0,
          0,
          0.003125,
          0.003125,
          0.003125,
          0.003125,
          0.003125,
          0.003125,
          0.009375,
          0.009375,
          0.015625,
          0.015625,
          0.01875,
          0.01875,
          0.025,
          0.025,
          0.03125,
          0.03125,
          0.034375,
          0.034375,
          0.0375,
          0.0375,
          0.059375,
          0.059375,
          0.078125,
          0.084375,
          0.0875,
          0.0875,
          0.090625,
          0.1,
          0.1125,
          0.11875,
          0.121875,
          0.128125,
          0.13125,
          0.13125,
          0.134375,
          0.140625,
          0.15,
          0.15,
          0.159375,
          0.16875,
          0.184375,
          0.19375,
          0.209375,
          0.215625,
          0.25625,
          0.2625,
          0.325,
          0.33125,
          0.340625,
          0.346875,
          0.375,
          0.375,
          0.378125,
          0.384375,
          0.4,
          0.4,
          0.409375,
          0.421875,
          0.45625,
          0.4625,
          0.521875,
          0.528125,
          0.58125,
          0.5875,
          0.59375,
          0.6,
          0.628125,
          0.634375,
          0.646875,
          0.646875,
          0.6875,
          0.69375,
          0.740625,
          0.746875,
          0.75,
          0.75625,
          0.76875,
          0.775,
          0.784375,
          0.790625,
          0.809375,
          0.815625,
          0.909375,
          0.915625,
          0.925,
          0.934375,
          0.94375,
          0.95,
          0.9625,
          0.965625,
          0.971875,
          0.978125,
          0.99375,
          1
         ],
         "xaxis": "x",
         "y": [
          0,
          0.05405405405405406,
          0.0945945945945946,
          0.10810810810810811,
          0.13513513513513514,
          0.17567567567567569,
          0.20270270270270271,
          0.20270270270270271,
          0.22972972972972974,
          0.24324324324324326,
          0.2972972972972973,
          0.33783783783783783,
          0.35135135135135137,
          0.35135135135135137,
          0.43243243243243246,
          0.43243243243243246,
          0.5945945945945946,
          0.5945945945945946,
          0.6216216216216216,
          0.6216216216216216,
          0.6351351351351351,
          0.6351351351351351,
          0.6891891891891891,
          0.6891891891891891,
          0.7432432432432432,
          0.7432432432432432,
          0.7702702702702703,
          0.7702702702702703,
          0.8108108108108109,
          0.8108108108108109,
          0.8108108108108109,
          0.8108108108108109,
          0.8378378378378378,
          0.8378378378378378,
          0.8378378378378378,
          0.8378378378378378,
          0.8378378378378378,
          0.8378378378378378,
          0.8378378378378378,
          0.8378378378378378,
          0.8918918918918919,
          0.8918918918918919,
          0.8918918918918919,
          0.8918918918918919,
          0.918918918918919,
          0.918918918918919,
          0.918918918918919,
          0.918918918918919,
          0.918918918918919,
          0.918918918918919,
          0.918918918918919,
          0.918918918918919,
          0.918918918918919,
          0.918918918918919,
          0.918918918918919,
          0.918918918918919,
          0.918918918918919,
          0.918918918918919,
          0.9324324324324325,
          0.9324324324324325,
          0.9324324324324325,
          0.9324324324324325,
          0.972972972972973,
          0.972972972972973,
          0.972972972972973,
          0.972972972972973,
          0.972972972972973,
          0.972972972972973,
          0.972972972972973,
          0.972972972972973,
          0.972972972972973,
          0.972972972972973,
          0.972972972972973,
          0.972972972972973,
          0.972972972972973,
          0.972972972972973,
          1,
          1,
          1,
          1,
          1,
          1,
          1,
          1,
          1,
          1,
          1,
          1,
          1,
          1,
          1,
          1,
          1,
          1,
          1,
          1,
          1,
          1,
          1,
          1,
          1
         ],
         "yaxis": "y"
        }
       ],
       "layout": {
        "legend": {
         "title": {
          "text": "Class"
         },
         "tracegroupgap": 0
        },
        "shapes": [
         {
          "line": {
           "color": "gray",
           "dash": "dash"
          },
          "type": "line",
          "x0": 0,
          "x1": 1,
          "y0": 0,
          "y1": 1
         }
        ],
        "template": {
         "data": {
          "bar": [
           {
            "error_x": {
             "color": "#2a3f5f"
            },
            "error_y": {
             "color": "#2a3f5f"
            },
            "marker": {
             "line": {
              "color": "#E5ECF6",
              "width": 0.5
             },
             "pattern": {
              "fillmode": "overlay",
              "size": 10,
              "solidity": 0.2
             }
            },
            "type": "bar"
           }
          ],
          "barpolar": [
           {
            "marker": {
             "line": {
              "color": "#E5ECF6",
              "width": 0.5
             },
             "pattern": {
              "fillmode": "overlay",
              "size": 10,
              "solidity": 0.2
             }
            },
            "type": "barpolar"
           }
          ],
          "carpet": [
           {
            "aaxis": {
             "endlinecolor": "#2a3f5f",
             "gridcolor": "white",
             "linecolor": "white",
             "minorgridcolor": "white",
             "startlinecolor": "#2a3f5f"
            },
            "baxis": {
             "endlinecolor": "#2a3f5f",
             "gridcolor": "white",
             "linecolor": "white",
             "minorgridcolor": "white",
             "startlinecolor": "#2a3f5f"
            },
            "type": "carpet"
           }
          ],
          "choropleth": [
           {
            "colorbar": {
             "outlinewidth": 0,
             "ticks": ""
            },
            "type": "choropleth"
           }
          ],
          "contour": [
           {
            "colorbar": {
             "outlinewidth": 0,
             "ticks": ""
            },
            "colorscale": [
             [
              0,
              "#0d0887"
             ],
             [
              0.1111111111111111,
              "#46039f"
             ],
             [
              0.2222222222222222,
              "#7201a8"
             ],
             [
              0.3333333333333333,
              "#9c179e"
             ],
             [
              0.4444444444444444,
              "#bd3786"
             ],
             [
              0.5555555555555556,
              "#d8576b"
             ],
             [
              0.6666666666666666,
              "#ed7953"
             ],
             [
              0.7777777777777778,
              "#fb9f3a"
             ],
             [
              0.8888888888888888,
              "#fdca26"
             ],
             [
              1,
              "#f0f921"
             ]
            ],
            "type": "contour"
           }
          ],
          "contourcarpet": [
           {
            "colorbar": {
             "outlinewidth": 0,
             "ticks": ""
            },
            "type": "contourcarpet"
           }
          ],
          "heatmap": [
           {
            "colorbar": {
             "outlinewidth": 0,
             "ticks": ""
            },
            "colorscale": [
             [
              0,
              "#0d0887"
             ],
             [
              0.1111111111111111,
              "#46039f"
             ],
             [
              0.2222222222222222,
              "#7201a8"
             ],
             [
              0.3333333333333333,
              "#9c179e"
             ],
             [
              0.4444444444444444,
              "#bd3786"
             ],
             [
              0.5555555555555556,
              "#d8576b"
             ],
             [
              0.6666666666666666,
              "#ed7953"
             ],
             [
              0.7777777777777778,
              "#fb9f3a"
             ],
             [
              0.8888888888888888,
              "#fdca26"
             ],
             [
              1,
              "#f0f921"
             ]
            ],
            "type": "heatmap"
           }
          ],
          "heatmapgl": [
           {
            "colorbar": {
             "outlinewidth": 0,
             "ticks": ""
            },
            "colorscale": [
             [
              0,
              "#0d0887"
             ],
             [
              0.1111111111111111,
              "#46039f"
             ],
             [
              0.2222222222222222,
              "#7201a8"
             ],
             [
              0.3333333333333333,
              "#9c179e"
             ],
             [
              0.4444444444444444,
              "#bd3786"
             ],
             [
              0.5555555555555556,
              "#d8576b"
             ],
             [
              0.6666666666666666,
              "#ed7953"
             ],
             [
              0.7777777777777778,
              "#fb9f3a"
             ],
             [
              0.8888888888888888,
              "#fdca26"
             ],
             [
              1,
              "#f0f921"
             ]
            ],
            "type": "heatmapgl"
           }
          ],
          "histogram": [
           {
            "marker": {
             "pattern": {
              "fillmode": "overlay",
              "size": 10,
              "solidity": 0.2
             }
            },
            "type": "histogram"
           }
          ],
          "histogram2d": [
           {
            "colorbar": {
             "outlinewidth": 0,
             "ticks": ""
            },
            "colorscale": [
             [
              0,
              "#0d0887"
             ],
             [
              0.1111111111111111,
              "#46039f"
             ],
             [
              0.2222222222222222,
              "#7201a8"
             ],
             [
              0.3333333333333333,
              "#9c179e"
             ],
             [
              0.4444444444444444,
              "#bd3786"
             ],
             [
              0.5555555555555556,
              "#d8576b"
             ],
             [
              0.6666666666666666,
              "#ed7953"
             ],
             [
              0.7777777777777778,
              "#fb9f3a"
             ],
             [
              0.8888888888888888,
              "#fdca26"
             ],
             [
              1,
              "#f0f921"
             ]
            ],
            "type": "histogram2d"
           }
          ],
          "histogram2dcontour": [
           {
            "colorbar": {
             "outlinewidth": 0,
             "ticks": ""
            },
            "colorscale": [
             [
              0,
              "#0d0887"
             ],
             [
              0.1111111111111111,
              "#46039f"
             ],
             [
              0.2222222222222222,
              "#7201a8"
             ],
             [
              0.3333333333333333,
              "#9c179e"
             ],
             [
              0.4444444444444444,
              "#bd3786"
             ],
             [
              0.5555555555555556,
              "#d8576b"
             ],
             [
              0.6666666666666666,
              "#ed7953"
             ],
             [
              0.7777777777777778,
              "#fb9f3a"
             ],
             [
              0.8888888888888888,
              "#fdca26"
             ],
             [
              1,
              "#f0f921"
             ]
            ],
            "type": "histogram2dcontour"
           }
          ],
          "mesh3d": [
           {
            "colorbar": {
             "outlinewidth": 0,
             "ticks": ""
            },
            "type": "mesh3d"
           }
          ],
          "parcoords": [
           {
            "line": {
             "colorbar": {
              "outlinewidth": 0,
              "ticks": ""
             }
            },
            "type": "parcoords"
           }
          ],
          "pie": [
           {
            "automargin": true,
            "type": "pie"
           }
          ],
          "scatter": [
           {
            "fillpattern": {
             "fillmode": "overlay",
             "size": 10,
             "solidity": 0.2
            },
            "type": "scatter"
           }
          ],
          "scatter3d": [
           {
            "line": {
             "colorbar": {
              "outlinewidth": 0,
              "ticks": ""
             }
            },
            "marker": {
             "colorbar": {
              "outlinewidth": 0,
              "ticks": ""
             }
            },
            "type": "scatter3d"
           }
          ],
          "scattercarpet": [
           {
            "marker": {
             "colorbar": {
              "outlinewidth": 0,
              "ticks": ""
             }
            },
            "type": "scattercarpet"
           }
          ],
          "scattergeo": [
           {
            "marker": {
             "colorbar": {
              "outlinewidth": 0,
              "ticks": ""
             }
            },
            "type": "scattergeo"
           }
          ],
          "scattergl": [
           {
            "marker": {
             "colorbar": {
              "outlinewidth": 0,
              "ticks": ""
             }
            },
            "type": "scattergl"
           }
          ],
          "scattermapbox": [
           {
            "marker": {
             "colorbar": {
              "outlinewidth": 0,
              "ticks": ""
             }
            },
            "type": "scattermapbox"
           }
          ],
          "scatterpolar": [
           {
            "marker": {
             "colorbar": {
              "outlinewidth": 0,
              "ticks": ""
             }
            },
            "type": "scatterpolar"
           }
          ],
          "scatterpolargl": [
           {
            "marker": {
             "colorbar": {
              "outlinewidth": 0,
              "ticks": ""
             }
            },
            "type": "scatterpolargl"
           }
          ],
          "scatterternary": [
           {
            "marker": {
             "colorbar": {
              "outlinewidth": 0,
              "ticks": ""
             }
            },
            "type": "scatterternary"
           }
          ],
          "surface": [
           {
            "colorbar": {
             "outlinewidth": 0,
             "ticks": ""
            },
            "colorscale": [
             [
              0,
              "#0d0887"
             ],
             [
              0.1111111111111111,
              "#46039f"
             ],
             [
              0.2222222222222222,
              "#7201a8"
             ],
             [
              0.3333333333333333,
              "#9c179e"
             ],
             [
              0.4444444444444444,
              "#bd3786"
             ],
             [
              0.5555555555555556,
              "#d8576b"
             ],
             [
              0.6666666666666666,
              "#ed7953"
             ],
             [
              0.7777777777777778,
              "#fb9f3a"
             ],
             [
              0.8888888888888888,
              "#fdca26"
             ],
             [
              1,
              "#f0f921"
             ]
            ],
            "type": "surface"
           }
          ],
          "table": [
           {
            "cells": {
             "fill": {
              "color": "#EBF0F8"
             },
             "line": {
              "color": "white"
             }
            },
            "header": {
             "fill": {
              "color": "#C8D4E3"
             },
             "line": {
              "color": "white"
             }
            },
            "type": "table"
           }
          ]
         },
         "layout": {
          "annotationdefaults": {
           "arrowcolor": "#2a3f5f",
           "arrowhead": 0,
           "arrowwidth": 1
          },
          "autotypenumbers": "strict",
          "coloraxis": {
           "colorbar": {
            "outlinewidth": 0,
            "ticks": ""
           }
          },
          "colorscale": {
           "diverging": [
            [
             0,
             "#8e0152"
            ],
            [
             0.1,
             "#c51b7d"
            ],
            [
             0.2,
             "#de77ae"
            ],
            [
             0.3,
             "#f1b6da"
            ],
            [
             0.4,
             "#fde0ef"
            ],
            [
             0.5,
             "#f7f7f7"
            ],
            [
             0.6,
             "#e6f5d0"
            ],
            [
             0.7,
             "#b8e186"
            ],
            [
             0.8,
             "#7fbc41"
            ],
            [
             0.9,
             "#4d9221"
            ],
            [
             1,
             "#276419"
            ]
           ],
           "sequential": [
            [
             0,
             "#0d0887"
            ],
            [
             0.1111111111111111,
             "#46039f"
            ],
            [
             0.2222222222222222,
             "#7201a8"
            ],
            [
             0.3333333333333333,
             "#9c179e"
            ],
            [
             0.4444444444444444,
             "#bd3786"
            ],
            [
             0.5555555555555556,
             "#d8576b"
            ],
            [
             0.6666666666666666,
             "#ed7953"
            ],
            [
             0.7777777777777778,
             "#fb9f3a"
            ],
            [
             0.8888888888888888,
             "#fdca26"
            ],
            [
             1,
             "#f0f921"
            ]
           ],
           "sequentialminus": [
            [
             0,
             "#0d0887"
            ],
            [
             0.1111111111111111,
             "#46039f"
            ],
            [
             0.2222222222222222,
             "#7201a8"
            ],
            [
             0.3333333333333333,
             "#9c179e"
            ],
            [
             0.4444444444444444,
             "#bd3786"
            ],
            [
             0.5555555555555556,
             "#d8576b"
            ],
            [
             0.6666666666666666,
             "#ed7953"
            ],
            [
             0.7777777777777778,
             "#fb9f3a"
            ],
            [
             0.8888888888888888,
             "#fdca26"
            ],
            [
             1,
             "#f0f921"
            ]
           ]
          },
          "colorway": [
           "#636efa",
           "#EF553B",
           "#00cc96",
           "#ab63fa",
           "#FFA15A",
           "#19d3f3",
           "#FF6692",
           "#B6E880",
           "#FF97FF",
           "#FECB52"
          ],
          "font": {
           "color": "#2a3f5f"
          },
          "geo": {
           "bgcolor": "white",
           "lakecolor": "white",
           "landcolor": "#E5ECF6",
           "showlakes": true,
           "showland": true,
           "subunitcolor": "white"
          },
          "hoverlabel": {
           "align": "left"
          },
          "hovermode": "closest",
          "mapbox": {
           "style": "light"
          },
          "paper_bgcolor": "white",
          "plot_bgcolor": "#E5ECF6",
          "polar": {
           "angularaxis": {
            "gridcolor": "white",
            "linecolor": "white",
            "ticks": ""
           },
           "bgcolor": "#E5ECF6",
           "radialaxis": {
            "gridcolor": "white",
            "linecolor": "white",
            "ticks": ""
           }
          },
          "scene": {
           "xaxis": {
            "backgroundcolor": "#E5ECF6",
            "gridcolor": "white",
            "gridwidth": 2,
            "linecolor": "white",
            "showbackground": true,
            "ticks": "",
            "zerolinecolor": "white"
           },
           "yaxis": {
            "backgroundcolor": "#E5ECF6",
            "gridcolor": "white",
            "gridwidth": 2,
            "linecolor": "white",
            "showbackground": true,
            "ticks": "",
            "zerolinecolor": "white"
           },
           "zaxis": {
            "backgroundcolor": "#E5ECF6",
            "gridcolor": "white",
            "gridwidth": 2,
            "linecolor": "white",
            "showbackground": true,
            "ticks": "",
            "zerolinecolor": "white"
           }
          },
          "shapedefaults": {
           "line": {
            "color": "#2a3f5f"
           }
          },
          "ternary": {
           "aaxis": {
            "gridcolor": "white",
            "linecolor": "white",
            "ticks": ""
           },
           "baxis": {
            "gridcolor": "white",
            "linecolor": "white",
            "ticks": ""
           },
           "bgcolor": "#E5ECF6",
           "caxis": {
            "gridcolor": "white",
            "linecolor": "white",
            "ticks": ""
           }
          },
          "title": {
           "x": 0.05
          },
          "xaxis": {
           "automargin": true,
           "gridcolor": "white",
           "linecolor": "white",
           "ticks": "",
           "title": {
            "standoff": 15
           },
           "zerolinecolor": "white",
           "zerolinewidth": 2
          },
          "yaxis": {
           "automargin": true,
           "gridcolor": "white",
           "linecolor": "white",
           "ticks": "",
           "title": {
            "standoff": 15
           },
           "zerolinecolor": "white",
           "zerolinewidth": 2
          }
         }
        },
        "title": {
         "text": "ROC Curve"
        },
        "xaxis": {
         "anchor": "y",
         "domain": [
          0,
          1
         ],
         "title": {
          "text": "False Positive Rate"
         }
        },
        "yaxis": {
         "anchor": "x",
         "domain": [
          0,
          1
         ],
         "title": {
          "text": "True Positive Rate"
         }
        }
       }
      }
     },
     "metadata": {},
     "output_type": "display_data"
    }
   ],
   "source": [
    "courbe_ROC(model_1,x_test,y_test)"
   ]
  },
  {
   "cell_type": "markdown",
   "metadata": {},
   "source": [
    "# Analyse du Modèle 1\n",
    "\n",
    "## 1. Matrice de confusion\n",
    "\n",
    "La matrice de confusion révèle les performances du modèle sur chaque classe :\n",
    "\n",
    "- **Glioma** :\n",
    "  - Vrais positifs (VP) : 17\n",
    "  - Faux positifs (FP) : 1 + 1 + 2 = 4\n",
    "  - Faux négatifs (FN) : 24 + 56 + 3 = 83\n",
    "\n",
    "- **Meningioma** :\n",
    "  - Vrais positifs (VP) : 101\n",
    "  - Faux positifs (FP) : 24 + 3 + 21 = 48\n",
    "  - Faux négatifs (FN) : 1 + 10 + 3 = 14\n",
    "\n",
    "- **No Tumor** :\n",
    "  - Vrais positifs (VP) : 101\n",
    "  - Faux positifs (FP) : 56 + 10 + 6 = 72\n",
    "  - Faux négatifs (FN) : 1 + 3 + 0 = 4\n",
    "\n",
    "- **Pituitary** :\n",
    "  - Vrais positifs (VP) : 45\n",
    "  - Faux positifs (FP) : 3 + 3 + 0 = 6\n",
    "  - Faux négatifs (FN) : 2 + 21 + 6 = 29\n",
    "\n",
    "### Observations :\n",
    "- Le modèle est performant pour **Meningioma**, **No Tumor**, et dans une moindre mesure pour **Pituitary**.\n",
    "- La classe **Glioma** reste problématique avec un nombre important de faux négatifs.\n",
    "- Les confusions entre **Pituitary** et les autres classes demeurent un point à améliorer.\n",
    "\n",
    "---\n",
    "\n",
    "## 2. Courbes ROC et AUC\n",
    "Les courbes ROC et les scores AUC permettent de visualiser les performances globales du modèle pour chaque classe.\n",
    "\n",
    "- **Glioma** : AUC = 0.57\n",
    "  - La performance est faible, indiquant que le modèle a des difficultés à différencier cette classe des autres.\n",
    "\n",
    "- **Meningioma** : AUC = 0.91\n",
    "  - La performance est excellente, montrant une bonne différenciation entre cette classe et les autres.\n",
    "\n",
    "- **No Tumor** : AUC = 0.94\n",
    "  - Le modèle distingue très bien cette classe des autres.\n",
    "\n",
    "- **Pituitary** : AUC = 0.94\n",
    "  - La performance est excellente pour cette classe.\n",
    "\n",
    "### Observations :\n",
    "- Les classes **No Tumor** et **Pituitary** sont bien différenciées des autres, comme l'indiquent leurs scores AUC élevés.\n",
    "- La classe **Glioma** montre des performances faibles, nécessitant une amélioration.\n",
    "- Les scores AUC de **Meningioma**, **No Tumor**, et **Pituitary** montrent que le modèle est efficace pour ces classes, malgré quelques confusions.\n",
    "\n"
   ]
  },
  {
   "cell_type": "markdown",
   "metadata": {},
   "source": [
    "# Analyse du Modèle 2"
   ]
  },
  {
   "cell_type": "code",
   "execution_count": 10,
   "metadata": {},
   "outputs": [
    {
     "name": "stdout",
     "output_type": "stream",
     "text": [
      "13/13 [==============================] - 45s 3s/step\n"
     ]
    },
    {
     "data": {
      "application/vnd.plotly.v1+json": {
       "config": {
        "plotlyServerURL": "https://plot.ly"
       },
       "data": [
        {
         "coloraxis": "coloraxis",
         "hovertemplate": "Predicted: %{x}<br>True: %{y}<br>Count: %{z}<extra></extra>",
         "name": "0",
         "texttemplate": "%{z}",
         "type": "heatmap",
         "x": [
          "Glioma",
          "Meningioma",
          "No Tumor",
          "Pituitary"
         ],
         "xaxis": "x",
         "y": [
          "Glioma",
          "Meningioma",
          "No Tumor",
          "Pituitary"
         ],
         "yaxis": "y",
         "z": [
          [
           17,
           27,
           52,
           4
          ],
          [
           1,
           97,
           15,
           2
          ],
          [
           3,
           4,
           97,
           1
          ],
          [
           1,
           12,
           10,
           51
          ]
         ]
        }
       ],
       "layout": {
        "coloraxis": {
         "colorbar": {
          "title": {
           "text": "Count"
          }
         },
         "colorscale": [
          [
           0,
           "rgb(247,251,255)"
          ],
          [
           0.125,
           "rgb(222,235,247)"
          ],
          [
           0.25,
           "rgb(198,219,239)"
          ],
          [
           0.375,
           "rgb(158,202,225)"
          ],
          [
           0.5,
           "rgb(107,174,214)"
          ],
          [
           0.625,
           "rgb(66,146,198)"
          ],
          [
           0.75,
           "rgb(33,113,181)"
          ],
          [
           0.875,
           "rgb(8,81,156)"
          ],
          [
           1,
           "rgb(8,48,107)"
          ]
         ]
        },
        "template": {
         "data": {
          "bar": [
           {
            "error_x": {
             "color": "#2a3f5f"
            },
            "error_y": {
             "color": "#2a3f5f"
            },
            "marker": {
             "line": {
              "color": "#E5ECF6",
              "width": 0.5
             },
             "pattern": {
              "fillmode": "overlay",
              "size": 10,
              "solidity": 0.2
             }
            },
            "type": "bar"
           }
          ],
          "barpolar": [
           {
            "marker": {
             "line": {
              "color": "#E5ECF6",
              "width": 0.5
             },
             "pattern": {
              "fillmode": "overlay",
              "size": 10,
              "solidity": 0.2
             }
            },
            "type": "barpolar"
           }
          ],
          "carpet": [
           {
            "aaxis": {
             "endlinecolor": "#2a3f5f",
             "gridcolor": "white",
             "linecolor": "white",
             "minorgridcolor": "white",
             "startlinecolor": "#2a3f5f"
            },
            "baxis": {
             "endlinecolor": "#2a3f5f",
             "gridcolor": "white",
             "linecolor": "white",
             "minorgridcolor": "white",
             "startlinecolor": "#2a3f5f"
            },
            "type": "carpet"
           }
          ],
          "choropleth": [
           {
            "colorbar": {
             "outlinewidth": 0,
             "ticks": ""
            },
            "type": "choropleth"
           }
          ],
          "contour": [
           {
            "colorbar": {
             "outlinewidth": 0,
             "ticks": ""
            },
            "colorscale": [
             [
              0,
              "#0d0887"
             ],
             [
              0.1111111111111111,
              "#46039f"
             ],
             [
              0.2222222222222222,
              "#7201a8"
             ],
             [
              0.3333333333333333,
              "#9c179e"
             ],
             [
              0.4444444444444444,
              "#bd3786"
             ],
             [
              0.5555555555555556,
              "#d8576b"
             ],
             [
              0.6666666666666666,
              "#ed7953"
             ],
             [
              0.7777777777777778,
              "#fb9f3a"
             ],
             [
              0.8888888888888888,
              "#fdca26"
             ],
             [
              1,
              "#f0f921"
             ]
            ],
            "type": "contour"
           }
          ],
          "contourcarpet": [
           {
            "colorbar": {
             "outlinewidth": 0,
             "ticks": ""
            },
            "type": "contourcarpet"
           }
          ],
          "heatmap": [
           {
            "colorbar": {
             "outlinewidth": 0,
             "ticks": ""
            },
            "colorscale": [
             [
              0,
              "#0d0887"
             ],
             [
              0.1111111111111111,
              "#46039f"
             ],
             [
              0.2222222222222222,
              "#7201a8"
             ],
             [
              0.3333333333333333,
              "#9c179e"
             ],
             [
              0.4444444444444444,
              "#bd3786"
             ],
             [
              0.5555555555555556,
              "#d8576b"
             ],
             [
              0.6666666666666666,
              "#ed7953"
             ],
             [
              0.7777777777777778,
              "#fb9f3a"
             ],
             [
              0.8888888888888888,
              "#fdca26"
             ],
             [
              1,
              "#f0f921"
             ]
            ],
            "type": "heatmap"
           }
          ],
          "heatmapgl": [
           {
            "colorbar": {
             "outlinewidth": 0,
             "ticks": ""
            },
            "colorscale": [
             [
              0,
              "#0d0887"
             ],
             [
              0.1111111111111111,
              "#46039f"
             ],
             [
              0.2222222222222222,
              "#7201a8"
             ],
             [
              0.3333333333333333,
              "#9c179e"
             ],
             [
              0.4444444444444444,
              "#bd3786"
             ],
             [
              0.5555555555555556,
              "#d8576b"
             ],
             [
              0.6666666666666666,
              "#ed7953"
             ],
             [
              0.7777777777777778,
              "#fb9f3a"
             ],
             [
              0.8888888888888888,
              "#fdca26"
             ],
             [
              1,
              "#f0f921"
             ]
            ],
            "type": "heatmapgl"
           }
          ],
          "histogram": [
           {
            "marker": {
             "pattern": {
              "fillmode": "overlay",
              "size": 10,
              "solidity": 0.2
             }
            },
            "type": "histogram"
           }
          ],
          "histogram2d": [
           {
            "colorbar": {
             "outlinewidth": 0,
             "ticks": ""
            },
            "colorscale": [
             [
              0,
              "#0d0887"
             ],
             [
              0.1111111111111111,
              "#46039f"
             ],
             [
              0.2222222222222222,
              "#7201a8"
             ],
             [
              0.3333333333333333,
              "#9c179e"
             ],
             [
              0.4444444444444444,
              "#bd3786"
             ],
             [
              0.5555555555555556,
              "#d8576b"
             ],
             [
              0.6666666666666666,
              "#ed7953"
             ],
             [
              0.7777777777777778,
              "#fb9f3a"
             ],
             [
              0.8888888888888888,
              "#fdca26"
             ],
             [
              1,
              "#f0f921"
             ]
            ],
            "type": "histogram2d"
           }
          ],
          "histogram2dcontour": [
           {
            "colorbar": {
             "outlinewidth": 0,
             "ticks": ""
            },
            "colorscale": [
             [
              0,
              "#0d0887"
             ],
             [
              0.1111111111111111,
              "#46039f"
             ],
             [
              0.2222222222222222,
              "#7201a8"
             ],
             [
              0.3333333333333333,
              "#9c179e"
             ],
             [
              0.4444444444444444,
              "#bd3786"
             ],
             [
              0.5555555555555556,
              "#d8576b"
             ],
             [
              0.6666666666666666,
              "#ed7953"
             ],
             [
              0.7777777777777778,
              "#fb9f3a"
             ],
             [
              0.8888888888888888,
              "#fdca26"
             ],
             [
              1,
              "#f0f921"
             ]
            ],
            "type": "histogram2dcontour"
           }
          ],
          "mesh3d": [
           {
            "colorbar": {
             "outlinewidth": 0,
             "ticks": ""
            },
            "type": "mesh3d"
           }
          ],
          "parcoords": [
           {
            "line": {
             "colorbar": {
              "outlinewidth": 0,
              "ticks": ""
             }
            },
            "type": "parcoords"
           }
          ],
          "pie": [
           {
            "automargin": true,
            "type": "pie"
           }
          ],
          "scatter": [
           {
            "fillpattern": {
             "fillmode": "overlay",
             "size": 10,
             "solidity": 0.2
            },
            "type": "scatter"
           }
          ],
          "scatter3d": [
           {
            "line": {
             "colorbar": {
              "outlinewidth": 0,
              "ticks": ""
             }
            },
            "marker": {
             "colorbar": {
              "outlinewidth": 0,
              "ticks": ""
             }
            },
            "type": "scatter3d"
           }
          ],
          "scattercarpet": [
           {
            "marker": {
             "colorbar": {
              "outlinewidth": 0,
              "ticks": ""
             }
            },
            "type": "scattercarpet"
           }
          ],
          "scattergeo": [
           {
            "marker": {
             "colorbar": {
              "outlinewidth": 0,
              "ticks": ""
             }
            },
            "type": "scattergeo"
           }
          ],
          "scattergl": [
           {
            "marker": {
             "colorbar": {
              "outlinewidth": 0,
              "ticks": ""
             }
            },
            "type": "scattergl"
           }
          ],
          "scattermapbox": [
           {
            "marker": {
             "colorbar": {
              "outlinewidth": 0,
              "ticks": ""
             }
            },
            "type": "scattermapbox"
           }
          ],
          "scatterpolar": [
           {
            "marker": {
             "colorbar": {
              "outlinewidth": 0,
              "ticks": ""
             }
            },
            "type": "scatterpolar"
           }
          ],
          "scatterpolargl": [
           {
            "marker": {
             "colorbar": {
              "outlinewidth": 0,
              "ticks": ""
             }
            },
            "type": "scatterpolargl"
           }
          ],
          "scatterternary": [
           {
            "marker": {
             "colorbar": {
              "outlinewidth": 0,
              "ticks": ""
             }
            },
            "type": "scatterternary"
           }
          ],
          "surface": [
           {
            "colorbar": {
             "outlinewidth": 0,
             "ticks": ""
            },
            "colorscale": [
             [
              0,
              "#0d0887"
             ],
             [
              0.1111111111111111,
              "#46039f"
             ],
             [
              0.2222222222222222,
              "#7201a8"
             ],
             [
              0.3333333333333333,
              "#9c179e"
             ],
             [
              0.4444444444444444,
              "#bd3786"
             ],
             [
              0.5555555555555556,
              "#d8576b"
             ],
             [
              0.6666666666666666,
              "#ed7953"
             ],
             [
              0.7777777777777778,
              "#fb9f3a"
             ],
             [
              0.8888888888888888,
              "#fdca26"
             ],
             [
              1,
              "#f0f921"
             ]
            ],
            "type": "surface"
           }
          ],
          "table": [
           {
            "cells": {
             "fill": {
              "color": "#EBF0F8"
             },
             "line": {
              "color": "white"
             }
            },
            "header": {
             "fill": {
              "color": "#C8D4E3"
             },
             "line": {
              "color": "white"
             }
            },
            "type": "table"
           }
          ]
         },
         "layout": {
          "annotationdefaults": {
           "arrowcolor": "#2a3f5f",
           "arrowhead": 0,
           "arrowwidth": 1
          },
          "autotypenumbers": "strict",
          "coloraxis": {
           "colorbar": {
            "outlinewidth": 0,
            "ticks": ""
           }
          },
          "colorscale": {
           "diverging": [
            [
             0,
             "#8e0152"
            ],
            [
             0.1,
             "#c51b7d"
            ],
            [
             0.2,
             "#de77ae"
            ],
            [
             0.3,
             "#f1b6da"
            ],
            [
             0.4,
             "#fde0ef"
            ],
            [
             0.5,
             "#f7f7f7"
            ],
            [
             0.6,
             "#e6f5d0"
            ],
            [
             0.7,
             "#b8e186"
            ],
            [
             0.8,
             "#7fbc41"
            ],
            [
             0.9,
             "#4d9221"
            ],
            [
             1,
             "#276419"
            ]
           ],
           "sequential": [
            [
             0,
             "#0d0887"
            ],
            [
             0.1111111111111111,
             "#46039f"
            ],
            [
             0.2222222222222222,
             "#7201a8"
            ],
            [
             0.3333333333333333,
             "#9c179e"
            ],
            [
             0.4444444444444444,
             "#bd3786"
            ],
            [
             0.5555555555555556,
             "#d8576b"
            ],
            [
             0.6666666666666666,
             "#ed7953"
            ],
            [
             0.7777777777777778,
             "#fb9f3a"
            ],
            [
             0.8888888888888888,
             "#fdca26"
            ],
            [
             1,
             "#f0f921"
            ]
           ],
           "sequentialminus": [
            [
             0,
             "#0d0887"
            ],
            [
             0.1111111111111111,
             "#46039f"
            ],
            [
             0.2222222222222222,
             "#7201a8"
            ],
            [
             0.3333333333333333,
             "#9c179e"
            ],
            [
             0.4444444444444444,
             "#bd3786"
            ],
            [
             0.5555555555555556,
             "#d8576b"
            ],
            [
             0.6666666666666666,
             "#ed7953"
            ],
            [
             0.7777777777777778,
             "#fb9f3a"
            ],
            [
             0.8888888888888888,
             "#fdca26"
            ],
            [
             1,
             "#f0f921"
            ]
           ]
          },
          "colorway": [
           "#636efa",
           "#EF553B",
           "#00cc96",
           "#ab63fa",
           "#FFA15A",
           "#19d3f3",
           "#FF6692",
           "#B6E880",
           "#FF97FF",
           "#FECB52"
          ],
          "font": {
           "color": "#2a3f5f"
          },
          "geo": {
           "bgcolor": "white",
           "lakecolor": "white",
           "landcolor": "#E5ECF6",
           "showlakes": true,
           "showland": true,
           "subunitcolor": "white"
          },
          "hoverlabel": {
           "align": "left"
          },
          "hovermode": "closest",
          "mapbox": {
           "style": "light"
          },
          "paper_bgcolor": "white",
          "plot_bgcolor": "#E5ECF6",
          "polar": {
           "angularaxis": {
            "gridcolor": "white",
            "linecolor": "white",
            "ticks": ""
           },
           "bgcolor": "#E5ECF6",
           "radialaxis": {
            "gridcolor": "white",
            "linecolor": "white",
            "ticks": ""
           }
          },
          "scene": {
           "xaxis": {
            "backgroundcolor": "#E5ECF6",
            "gridcolor": "white",
            "gridwidth": 2,
            "linecolor": "white",
            "showbackground": true,
            "ticks": "",
            "zerolinecolor": "white"
           },
           "yaxis": {
            "backgroundcolor": "#E5ECF6",
            "gridcolor": "white",
            "gridwidth": 2,
            "linecolor": "white",
            "showbackground": true,
            "ticks": "",
            "zerolinecolor": "white"
           },
           "zaxis": {
            "backgroundcolor": "#E5ECF6",
            "gridcolor": "white",
            "gridwidth": 2,
            "linecolor": "white",
            "showbackground": true,
            "ticks": "",
            "zerolinecolor": "white"
           }
          },
          "shapedefaults": {
           "line": {
            "color": "#2a3f5f"
           }
          },
          "ternary": {
           "aaxis": {
            "gridcolor": "white",
            "linecolor": "white",
            "ticks": ""
           },
           "baxis": {
            "gridcolor": "white",
            "linecolor": "white",
            "ticks": ""
           },
           "bgcolor": "#E5ECF6",
           "caxis": {
            "gridcolor": "white",
            "linecolor": "white",
            "ticks": ""
           }
          },
          "title": {
           "x": 0.05
          },
          "xaxis": {
           "automargin": true,
           "gridcolor": "white",
           "linecolor": "white",
           "ticks": "",
           "title": {
            "standoff": 15
           },
           "zerolinecolor": "white",
           "zerolinewidth": 2
          },
          "yaxis": {
           "automargin": true,
           "gridcolor": "white",
           "linecolor": "white",
           "ticks": "",
           "title": {
            "standoff": 15
           },
           "zerolinecolor": "white",
           "zerolinewidth": 2
          }
         }
        },
        "title": {
         "text": "Confusion Matrix"
        },
        "xaxis": {
         "anchor": "y",
         "constrain": "domain",
         "domain": [
          0,
          1
         ],
         "scaleanchor": "y",
         "title": {
          "text": "Predicted Labels"
         }
        },
        "yaxis": {
         "anchor": "x",
         "autorange": "reversed",
         "constrain": "domain",
         "domain": [
          0,
          1
         ],
         "title": {
          "text": "True Labels"
         }
        }
       }
      }
     },
     "metadata": {},
     "output_type": "display_data"
    },
    {
     "name": "stdout",
     "output_type": "stream",
     "text": [
      "Classification Report:\n",
      "              precision    recall  f1-score   support\n",
      "\n",
      "      Glioma       0.77      0.17      0.28       100\n",
      "  Meningioma       0.69      0.84      0.76       115\n",
      "    No Tumor       0.56      0.92      0.70       105\n",
      "   Pituitary       0.88      0.69      0.77        74\n",
      "\n",
      "    accuracy                           0.66       394\n",
      "   macro avg       0.73      0.66      0.63       394\n",
      "weighted avg       0.71      0.66      0.62       394\n",
      "\n"
     ]
    }
   ],
   "source": [
    "plot_confusion_matrix(model_2,x_test,y_test)"
   ]
  },
  {
   "cell_type": "markdown",
   "metadata": {},
   "source": []
  },
  {
   "cell_type": "code",
   "execution_count": 11,
   "metadata": {},
   "outputs": [
    {
     "name": "stdout",
     "output_type": "stream",
     "text": [
      "13/13 [==============================] - 39s 3s/step\n"
     ]
    },
    {
     "data": {
      "application/vnd.plotly.v1+json": {
       "config": {
        "plotlyServerURL": "https://plot.ly"
       },
       "data": [
        {
         "hovertemplate": "Class=Glioma (AUC = 0.53)<br>FPR=%{x}<br>TPR=%{y}<extra></extra>",
         "legendgroup": "Glioma (AUC = 0.53)",
         "line": {
          "color": "#636efa",
          "dash": "solid"
         },
         "marker": {
          "symbol": "circle"
         },
         "mode": "lines",
         "name": "Glioma (AUC = 0.53)",
         "orientation": "v",
         "showlegend": true,
         "type": "scatter",
         "x": [
          0,
          0,
          0,
          0,
          0,
          0.003401360544217687,
          0.003401360544217687,
          0.003401360544217687,
          0.003401360544217687,
          0.01020408163265306,
          0.01020408163265306,
          0.013605442176870748,
          0.013605442176870748,
          0.023809523809523808,
          0.023809523809523808,
          0.030612244897959183,
          0.05102040816326531,
          0.07482993197278912,
          0.08163265306122448,
          0.08503401360544217,
          0.08503401360544217,
          0.09523809523809523,
          0.09863945578231292,
          0.09863945578231292,
          0.10204081632653061,
          0.10204081632653061,
          0.11564625850340136,
          0.12244897959183673,
          0.12244897959183673,
          0.1360544217687075,
          0.15306122448979592,
          0.16326530612244897,
          0.17346938775510204,
          0.18027210884353742,
          0.18027210884353742,
          0.19727891156462585,
          0.19727891156462585,
          0.2108843537414966,
          0.22108843537414966,
          0.22108843537414966,
          0.23129251700680273,
          0.24149659863945577,
          0.24489795918367346,
          0.25170068027210885,
          0.2619047619047619,
          0.2687074829931973,
          0.2755102040816326,
          0.282312925170068,
          0.282312925170068,
          0.30272108843537415,
          0.30272108843537415,
          0.30952380952380953,
          0.30952380952380953,
          0.3129251700680272,
          0.3129251700680272,
          0.3163265306122449,
          0.3163265306122449,
          0.3197278911564626,
          0.3299319727891156,
          0.336734693877551,
          0.336734693877551,
          0.3401360544217687,
          0.3401360544217687,
          0.3469387755102041,
          0.3673469387755102,
          0.3673469387755102,
          0.3707482993197279,
          0.37755102040816324,
          0.38095238095238093,
          0.38095238095238093,
          0.3843537414965986,
          0.391156462585034,
          0.4013605442176871,
          0.41496598639455784,
          0.4217687074829932,
          0.4217687074829932,
          0.43537414965986393,
          0.43537414965986393,
          0.4523809523809524,
          0.4523809523809524,
          0.46258503401360546,
          0.46258503401360546,
          0.47278911564625853,
          0.47278911564625853,
          0.4897959183673469,
          0.5034013605442177,
          0.5102040816326531,
          0.5102040816326531,
          0.5136054421768708,
          0.5204081632653061,
          0.5238095238095238,
          0.5238095238095238,
          0.5578231292517006,
          0.5578231292517006,
          0.564625850340136,
          0.564625850340136,
          0.5748299319727891,
          0.5850340136054422,
          0.5850340136054422,
          0.5952380952380952,
          0.5952380952380952,
          0.5952380952380952,
          0.5952380952380952,
          0.6054421768707483,
          0.6054421768707483,
          0.608843537414966,
          0.6156462585034014,
          0.6632653061224489,
          0.6700680272108843,
          0.6802721088435374,
          0.6802721088435374,
          0.6836734693877551,
          0.6836734693877551,
          0.6870748299319728,
          0.6972789115646258,
          0.6972789115646258,
          0.7040816326530612,
          0.7040816326530612,
          0.7108843537414966,
          0.7244897959183674,
          0.7244897959183674,
          0.7278911564625851,
          0.7346938775510204,
          0.7380952380952381,
          0.7380952380952381,
          0.7448979591836735,
          0.7448979591836735,
          0.7517006802721088,
          0.7517006802721088,
          0.7551020408163265,
          0.7551020408163265,
          0.7687074829931972,
          0.7721088435374149,
          0.7721088435374149,
          0.7857142857142857,
          0.7925170068027211,
          0.7959183673469388,
          0.7959183673469388,
          0.8095238095238095,
          0.8095238095238095,
          0.8333333333333334,
          0.8333333333333334,
          0.8469387755102041,
          0.8469387755102041,
          0.8503401360544217,
          0.8503401360544217,
          0.8503401360544217,
          0.8639455782312925,
          0.8639455782312925,
          0.8775510204081632,
          0.8775510204081632,
          0.8843537414965986,
          0.891156462585034,
          0.8979591836734694,
          0.9047619047619048,
          0.9115646258503401,
          0.9115646258503401,
          0.9251700680272109,
          0.9251700680272109,
          0.9285714285714286,
          0.9387755102040817,
          0.9387755102040817,
          0.9421768707482994,
          0.9421768707482994,
          0.9625850340136054,
          0.9625850340136054,
          0.9693877551020408,
          0.9863945578231292,
          0.9931972789115646,
          1
         ],
         "xaxis": "x",
         "y": [
          0,
          0.01,
          0.07,
          0.09,
          0.1,
          0.1,
          0.11,
          0.13,
          0.15,
          0.15,
          0.16,
          0.16,
          0.18,
          0.18,
          0.2,
          0.2,
          0.2,
          0.2,
          0.2,
          0.2,
          0.21,
          0.21,
          0.21,
          0.24,
          0.24,
          0.25,
          0.25,
          0.25,
          0.27,
          0.27,
          0.27,
          0.27,
          0.27,
          0.27,
          0.28,
          0.28,
          0.29,
          0.29,
          0.29,
          0.3,
          0.3,
          0.3,
          0.3,
          0.3,
          0.3,
          0.3,
          0.3,
          0.3,
          0.31,
          0.31,
          0.32,
          0.32,
          0.33,
          0.33,
          0.34,
          0.34,
          0.35,
          0.35,
          0.35,
          0.35,
          0.36,
          0.36,
          0.38,
          0.38,
          0.38,
          0.39,
          0.39,
          0.39,
          0.39,
          0.4,
          0.4,
          0.4,
          0.4,
          0.4,
          0.4,
          0.42,
          0.42,
          0.44,
          0.44,
          0.45,
          0.45,
          0.46,
          0.46,
          0.49,
          0.49,
          0.49,
          0.49,
          0.5,
          0.5,
          0.5,
          0.5,
          0.51,
          0.51,
          0.53,
          0.53,
          0.55,
          0.55,
          0.55,
          0.57,
          0.57,
          0.6,
          0.62,
          0.63,
          0.63,
          0.64,
          0.64,
          0.64,
          0.64,
          0.64,
          0.64,
          0.66,
          0.66,
          0.68,
          0.68,
          0.68,
          0.69,
          0.69,
          0.71,
          0.71,
          0.71,
          0.72,
          0.72,
          0.72,
          0.72,
          0.73,
          0.73,
          0.74,
          0.74,
          0.76,
          0.76,
          0.78,
          0.78,
          0.78,
          0.79,
          0.79,
          0.79,
          0.79,
          0.8,
          0.8,
          0.81,
          0.81,
          0.82,
          0.82,
          0.83,
          0.83,
          0.87,
          0.89,
          0.89,
          0.91,
          0.91,
          0.94,
          0.94,
          0.94,
          0.94,
          0.94,
          0.94,
          0.95,
          0.95,
          0.96,
          0.96,
          0.96,
          0.97,
          0.97,
          0.98,
          0.98,
          1,
          1,
          1,
          1,
          1
         ],
         "yaxis": "y"
        },
        {
         "hovertemplate": "Class=Meningioma (AUC = 0.89)<br>FPR=%{x}<br>TPR=%{y}<extra></extra>",
         "legendgroup": "Meningioma (AUC = 0.89)",
         "line": {
          "color": "#EF553B",
          "dash": "solid"
         },
         "marker": {
          "symbol": "circle"
         },
         "mode": "lines",
         "name": "Meningioma (AUC = 0.89)",
         "orientation": "v",
         "showlegend": true,
         "type": "scatter",
         "x": [
          0,
          0,
          0,
          0,
          0,
          0,
          0.007168458781362007,
          0.007168458781362007,
          0.007168458781362007,
          0.010752688172043012,
          0.010752688172043012,
          0.014336917562724014,
          0.014336917562724014,
          0.025089605734767026,
          0.025089605734767026,
          0.02867383512544803,
          0.02867383512544803,
          0.03225806451612903,
          0.03942652329749104,
          0.03942652329749104,
          0.03942652329749104,
          0.03942652329749104,
          0.043010752688172046,
          0.043010752688172046,
          0.04659498207885305,
          0.04659498207885305,
          0.053763440860215055,
          0.053763440860215055,
          0.05734767025089606,
          0.05734767025089606,
          0.06451612903225806,
          0.06451612903225806,
          0.07526881720430108,
          0.07526881720430108,
          0.07885304659498207,
          0.07885304659498207,
          0.08243727598566308,
          0.08243727598566308,
          0.08602150537634409,
          0.08602150537634409,
          0.0931899641577061,
          0.0931899641577061,
          0.0967741935483871,
          0.0967741935483871,
          0.1039426523297491,
          0.1039426523297491,
          0.1111111111111111,
          0.1111111111111111,
          0.12186379928315412,
          0.12903225806451613,
          0.14695340501792115,
          0.14695340501792115,
          0.15412186379928317,
          0.16129032258064516,
          0.16129032258064516,
          0.16487455197132617,
          0.16487455197132617,
          0.1935483870967742,
          0.2078853046594982,
          0.21863799283154123,
          0.22580645161290322,
          0.22939068100358423,
          0.22939068100358423,
          0.24014336917562723,
          0.27598566308243727,
          0.2974910394265233,
          0.3046594982078853,
          0.3046594982078853,
          0.30824372759856633,
          0.30824372759856633,
          0.31899641577060933,
          0.32616487455197135,
          0.32974910394265233,
          0.35125448028673834,
          0.3548387096774194,
          0.36200716845878134,
          0.3655913978494624,
          0.3763440860215054,
          0.3906810035842294,
          0.3906810035842294,
          0.41935483870967744,
          0.4265232974910394,
          0.43010752688172044,
          0.43727598566308246,
          0.4444444444444444,
          0.4551971326164875,
          0.45878136200716846,
          0.45878136200716846,
          0.46236559139784944,
          0.4731182795698925,
          0.48028673835125446,
          0.4874551971326165,
          0.5017921146953405,
          0.5089605734767025,
          0.5197132616487455,
          0.5197132616487455,
          0.5268817204301075,
          0.5340501792114696,
          0.5483870967741935,
          0.5483870967741935,
          0.5591397849462365,
          0.5591397849462365,
          0.5663082437275986,
          0.5663082437275986,
          0.5806451612903226,
          0.5806451612903226,
          0.6236559139784946,
          0.6308243727598566,
          0.6344086021505376,
          0.6415770609318996,
          0.6559139784946236,
          0.6594982078853047,
          0.6702508960573477,
          0.6774193548387096,
          0.6845878136200717,
          0.6845878136200717,
          0.6953405017921147,
          0.7096774193548387,
          0.7204301075268817,
          0.7275985663082437,
          0.7419354838709677,
          0.7419354838709677,
          0.7634408602150538,
          0.7706093189964157,
          0.7777777777777778,
          0.7849462365591398,
          0.7885304659498208,
          0.7885304659498208,
          0.8243727598566308,
          0.8387096774193549,
          0.8494623655913979,
          0.8602150537634409,
          0.8673835125448028,
          0.8817204301075269,
          0.8888888888888888,
          0.8888888888888888,
          0.8960573476702509,
          0.9032258064516129,
          0.921146953405018,
          0.9283154121863799,
          0.942652329749104,
          0.9605734767025089,
          0.96415770609319,
          0.9713261648745519,
          0.974910394265233,
          0.982078853046595,
          0.992831541218638,
          1
         ],
         "xaxis": "x",
         "y": [
          0,
          0.034782608695652174,
          0.05217391304347826,
          0.0782608695652174,
          0.09565217391304348,
          0.24347826086956523,
          0.24347826086956523,
          0.2956521739130435,
          0.3130434782608696,
          0.3130434782608696,
          0.3217391304347826,
          0.3217391304347826,
          0.3565217391304348,
          0.3565217391304348,
          0.3739130434782609,
          0.3739130434782609,
          0.41739130434782606,
          0.41739130434782606,
          0.41739130434782606,
          0.4260869565217391,
          0.4434782608695652,
          0.4608695652173913,
          0.4608695652173913,
          0.4782608695652174,
          0.4782608695652174,
          0.48695652173913045,
          0.48695652173913045,
          0.5304347826086957,
          0.5304347826086957,
          0.5739130434782609,
          0.5739130434782609,
          0.6347826086956522,
          0.6347826086956522,
          0.6608695652173913,
          0.6608695652173913,
          0.6869565217391305,
          0.6869565217391305,
          0.7043478260869566,
          0.7043478260869566,
          0.7304347826086957,
          0.7304347826086957,
          0.7565217391304347,
          0.7565217391304347,
          0.782608695652174,
          0.782608695652174,
          0.7913043478260869,
          0.7913043478260869,
          0.8173913043478261,
          0.8173913043478261,
          0.8173913043478261,
          0.8173913043478261,
          0.8260869565217391,
          0.8260869565217391,
          0.8260869565217391,
          0.8434782608695652,
          0.8434782608695652,
          0.8521739130434782,
          0.8521739130434782,
          0.8521739130434782,
          0.8521739130434782,
          0.8521739130434782,
          0.8521739130434782,
          0.8608695652173913,
          0.8608695652173913,
          0.8608695652173913,
          0.8608695652173913,
          0.8608695652173913,
          0.8782608695652174,
          0.8782608695652174,
          0.8869565217391304,
          0.8869565217391304,
          0.8869565217391304,
          0.8869565217391304,
          0.8869565217391304,
          0.8869565217391304,
          0.8869565217391304,
          0.8869565217391304,
          0.8869565217391304,
          0.8869565217391304,
          0.8956521739130435,
          0.8956521739130435,
          0.8956521739130435,
          0.8956521739130435,
          0.8956521739130435,
          0.8956521739130435,
          0.8956521739130435,
          0.8956521739130435,
          0.9043478260869565,
          0.9043478260869565,
          0.9043478260869565,
          0.9043478260869565,
          0.9043478260869565,
          0.9043478260869565,
          0.9043478260869565,
          0.9043478260869565,
          0.9130434782608695,
          0.9130434782608695,
          0.9130434782608695,
          0.9130434782608695,
          0.9304347826086956,
          0.9304347826086956,
          0.9391304347826087,
          0.9391304347826087,
          0.9478260869565217,
          0.9478260869565217,
          0.9652173913043478,
          0.9652173913043478,
          0.9652173913043478,
          0.9652173913043478,
          0.9652173913043478,
          0.9652173913043478,
          0.9652173913043478,
          0.9652173913043478,
          0.9652173913043478,
          0.9652173913043478,
          0.9739130434782609,
          0.9739130434782609,
          0.9739130434782609,
          0.9739130434782609,
          0.9739130434782609,
          0.9739130434782609,
          0.9826086956521739,
          0.9826086956521739,
          0.9826086956521739,
          0.9826086956521739,
          0.9826086956521739,
          0.9826086956521739,
          0.991304347826087,
          0.991304347826087,
          0.991304347826087,
          0.991304347826087,
          0.991304347826087,
          0.991304347826087,
          0.991304347826087,
          0.991304347826087,
          1,
          1,
          1,
          1,
          1,
          1,
          1,
          1,
          1,
          1,
          1,
          1,
          1
         ],
         "yaxis": "y"
        },
        {
         "hovertemplate": "Class=No Tumor (AUC = 0.90)<br>FPR=%{x}<br>TPR=%{y}<extra></extra>",
         "legendgroup": "No Tumor (AUC = 0.90)",
         "line": {
          "color": "#00cc96",
          "dash": "solid"
         },
         "marker": {
          "symbol": "circle"
         },
         "mode": "lines",
         "name": "No Tumor (AUC = 0.90)",
         "orientation": "v",
         "showlegend": true,
         "type": "scatter",
         "x": [
          0,
          0.006920415224913495,
          0.010380622837370242,
          0.010380622837370242,
          0.010380622837370242,
          0.010380622837370242,
          0.01384083044982699,
          0.01384083044982699,
          0.01730103806228374,
          0.01730103806228374,
          0.01730103806228374,
          0.02422145328719723,
          0.02422145328719723,
          0.02768166089965398,
          0.02768166089965398,
          0.031141868512110725,
          0.031141868512110725,
          0.03460207612456748,
          0.03460207612456748,
          0.03460207612456748,
          0.03460207612456748,
          0.03806228373702422,
          0.03806228373702422,
          0.04498269896193772,
          0.04844290657439446,
          0.04844290657439446,
          0.04844290657439446,
          0.05190311418685121,
          0.05190311418685121,
          0.05536332179930796,
          0.05536332179930796,
          0.06228373702422145,
          0.06228373702422145,
          0.06228373702422145,
          0.06228373702422145,
          0.0657439446366782,
          0.0657439446366782,
          0.06920415224913495,
          0.06920415224913495,
          0.06920415224913495,
          0.0726643598615917,
          0.0726643598615917,
          0.07958477508650519,
          0.08650519031141868,
          0.08650519031141868,
          0.09688581314878893,
          0.10034602076124567,
          0.10034602076124567,
          0.10380622837370242,
          0.10380622837370242,
          0.11072664359861592,
          0.11072664359861592,
          0.1245674740484429,
          0.1245674740484429,
          0.12802768166089964,
          0.13494809688581316,
          0.13494809688581316,
          0.1384083044982699,
          0.1384083044982699,
          0.1453287197231834,
          0.14878892733564014,
          0.14878892733564014,
          0.15570934256055363,
          0.15916955017301038,
          0.15916955017301038,
          0.16262975778546712,
          0.16262975778546712,
          0.17301038062283736,
          0.17301038062283736,
          0.18685121107266436,
          0.18685121107266436,
          0.18685121107266436,
          0.20069204152249134,
          0.20761245674740483,
          0.22491349480968859,
          0.22491349480968859,
          0.22837370242214533,
          0.22837370242214533,
          0.23875432525951557,
          0.25259515570934254,
          0.25951557093425603,
          0.2664359861591695,
          0.2664359861591695,
          0.2698961937716263,
          0.2768166089965398,
          0.28027681660899656,
          0.28027681660899656,
          0.3079584775086505,
          0.314878892733564,
          0.3217993079584775,
          0.3217993079584775,
          0.3391003460207612,
          0.3494809688581315,
          0.3633217993079585,
          0.370242214532872,
          0.39792387543252594,
          0.39792387543252594,
          0.4117647058823529,
          0.4117647058823529,
          0.4186851211072664,
          0.4290657439446367,
          0.4602076124567474,
          0.4671280276816609,
          0.4913494809688581,
          0.5017301038062284,
          0.5121107266435986,
          0.5190311418685121,
          0.5259515570934256,
          0.5259515570934256,
          0.532871972318339,
          0.5432525951557093,
          0.5432525951557093,
          0.5570934256055363,
          0.5709342560553633,
          0.5813148788927336,
          0.5882352941176471,
          0.6124567474048442,
          0.6228373702422145,
          0.629757785467128,
          0.6332179930795848,
          0.6401384083044983,
          0.6678200692041523,
          0.6747404844290658,
          0.6816608996539792,
          0.6920415224913494,
          0.698961937716263,
          0.71280276816609,
          0.7231833910034602,
          0.7301038062283737,
          0.740484429065744,
          0.7439446366782007,
          0.7508650519031141,
          0.7681660899653979,
          0.7889273356401384,
          0.7958477508650519,
          0.8096885813148789,
          0.8408304498269896,
          0.8477508650519031,
          0.9065743944636678,
          0.9134948096885813,
          0.9204152249134948,
          0.9273356401384083,
          0.9792387543252595,
          0.986159169550173,
          0.9896193771626297,
          1
         ],
         "xaxis": "x",
         "y": [
          0,
          0.14285714285714285,
          0.1523809523809524,
          0.1619047619047619,
          0.18095238095238095,
          0.2,
          0.2,
          0.21904761904761905,
          0.21904761904761905,
          0.22857142857142856,
          0.24761904761904763,
          0.24761904761904763,
          0.26666666666666666,
          0.26666666666666666,
          0.2761904761904762,
          0.2761904761904762,
          0.3142857142857143,
          0.3142857142857143,
          0.3333333333333333,
          0.3619047619047619,
          0.37142857142857144,
          0.37142857142857144,
          0.4095238095238095,
          0.4095238095238095,
          0.4095238095238095,
          0.42857142857142855,
          0.44761904761904764,
          0.44761904761904764,
          0.45714285714285713,
          0.45714285714285713,
          0.49523809523809526,
          0.49523809523809526,
          0.5047619047619047,
          0.5238095238095238,
          0.5619047619047619,
          0.5619047619047619,
          0.6,
          0.6,
          0.6190476190476191,
          0.638095238095238,
          0.638095238095238,
          0.6476190476190476,
          0.6476190476190476,
          0.6476190476190476,
          0.7047619047619048,
          0.7047619047619048,
          0.7047619047619048,
          0.7142857142857143,
          0.7142857142857143,
          0.7238095238095238,
          0.7238095238095238,
          0.7333333333333333,
          0.7333333333333333,
          0.7428571428571429,
          0.7428571428571429,
          0.7428571428571429,
          0.7619047619047619,
          0.7619047619047619,
          0.7714285714285715,
          0.7714285714285715,
          0.7714285714285715,
          0.780952380952381,
          0.780952380952381,
          0.780952380952381,
          0.8,
          0.8,
          0.819047619047619,
          0.819047619047619,
          0.8380952380952381,
          0.8380952380952381,
          0.8476190476190476,
          0.8761904761904762,
          0.8761904761904762,
          0.8761904761904762,
          0.8761904761904762,
          0.8857142857142857,
          0.8857142857142857,
          0.8952380952380953,
          0.8952380952380953,
          0.8952380952380953,
          0.8952380952380953,
          0.8952380952380953,
          0.9047619047619048,
          0.9047619047619048,
          0.9047619047619048,
          0.9047619047619048,
          0.9238095238095239,
          0.9238095238095239,
          0.9238095238095239,
          0.9238095238095239,
          0.9428571428571428,
          0.9428571428571428,
          0.9428571428571428,
          0.9428571428571428,
          0.9428571428571428,
          0.9428571428571428,
          0.9619047619047619,
          0.9619047619047619,
          0.9714285714285714,
          0.9714285714285714,
          0.9714285714285714,
          0.9714285714285714,
          0.9714285714285714,
          0.9714285714285714,
          0.9714285714285714,
          0.9714285714285714,
          0.9714285714285714,
          0.9714285714285714,
          0.9809523809523809,
          0.9809523809523809,
          0.9809523809523809,
          1,
          1,
          1,
          1,
          1,
          1,
          1,
          1,
          1,
          1,
          1,
          1,
          1,
          1,
          1,
          1,
          1,
          1,
          1,
          1,
          1,
          1,
          1,
          1,
          1,
          1,
          1,
          1,
          1,
          1,
          1,
          1,
          1,
          1,
          1
         ],
         "yaxis": "y"
        },
        {
         "hovertemplate": "Class=Pituitary (AUC = 0.93)<br>FPR=%{x}<br>TPR=%{y}<extra></extra>",
         "legendgroup": "Pituitary (AUC = 0.93)",
         "line": {
          "color": "#ab63fa",
          "dash": "solid"
         },
         "marker": {
          "symbol": "circle"
         },
         "mode": "lines",
         "name": "Pituitary (AUC = 0.93)",
         "orientation": "v",
         "showlegend": true,
         "type": "scatter",
         "x": [
          0,
          0,
          0,
          0,
          0,
          0,
          0,
          0,
          0.003125,
          0.003125,
          0.003125,
          0.003125,
          0.003125,
          0.003125,
          0.003125,
          0.003125,
          0.003125,
          0.003125,
          0.003125,
          0.003125,
          0.028125,
          0.028125,
          0.0375,
          0.04375,
          0.046875,
          0.046875,
          0.053125,
          0.059375,
          0.065625,
          0.065625,
          0.08125,
          0.08125,
          0.08125,
          0.09375,
          0.09375,
          0.103125,
          0.103125,
          0.1125,
          0.11875,
          0.1375,
          0.14375,
          0.15625,
          0.165625,
          0.171875,
          0.2,
          0.2,
          0.215625,
          0.228125,
          0.253125,
          0.253125,
          0.25625,
          0.2625,
          0.31875,
          0.31875,
          0.325,
          0.328125,
          0.334375,
          0.36875,
          0.36875,
          0.375,
          0.39375,
          0.4,
          0.521875,
          0.528125,
          0.5375,
          0.54375,
          0.56875,
          0.578125,
          0.596875,
          0.603125,
          0.6125,
          0.61875,
          0.634375,
          0.634375,
          0.65,
          0.65625,
          0.696875,
          0.703125,
          0.70625,
          0.7125,
          0.715625,
          0.721875,
          0.753125,
          0.7625,
          0.775,
          0.78125,
          0.828125,
          0.834375,
          0.8375,
          0.85,
          0.859375,
          0.865625,
          0.909375,
          0.915625,
          0.946875,
          0.953125,
          0.96875,
          0.984375,
          0.990625,
          1
         ],
         "xaxis": "x",
         "y": [
          0,
          0.08108108108108109,
          0.10810810810810811,
          0.12162162162162163,
          0.17567567567567569,
          0.21621621621621623,
          0.24324324324324326,
          0.28378378378378377,
          0.28378378378378377,
          0.3108108108108108,
          0.32432432432432434,
          0.40540540540540543,
          0.43243243243243246,
          0.47297297297297297,
          0.4864864864864865,
          0.527027027027027,
          0.581081081081081,
          0.5945945945945946,
          0.6351351351351351,
          0.6486486486486487,
          0.6486486486486487,
          0.6891891891891891,
          0.6891891891891891,
          0.6891891891891891,
          0.6891891891891891,
          0.7162162162162162,
          0.7162162162162162,
          0.7162162162162162,
          0.7162162162162162,
          0.7567567567567568,
          0.7567567567567568,
          0.7837837837837838,
          0.7972972972972973,
          0.7972972972972973,
          0.8378378378378378,
          0.8378378378378378,
          0.8648648648648649,
          0.8648648648648649,
          0.8648648648648649,
          0.8648648648648649,
          0.8648648648648649,
          0.8648648648648649,
          0.8648648648648649,
          0.8648648648648649,
          0.8648648648648649,
          0.8918918918918919,
          0.8918918918918919,
          0.8918918918918919,
          0.8918918918918919,
          0.918918918918919,
          0.918918918918919,
          0.918918918918919,
          0.918918918918919,
          0.9324324324324325,
          0.9324324324324325,
          0.9324324324324325,
          0.9324324324324325,
          0.9324324324324325,
          0.9594594594594594,
          0.9594594594594594,
          0.9594594594594594,
          0.9594594594594594,
          0.9594594594594594,
          0.9594594594594594,
          0.9594594594594594,
          0.9594594594594594,
          0.9594594594594594,
          0.9594594594594594,
          0.9594594594594594,
          0.9594594594594594,
          0.9594594594594594,
          0.9594594594594594,
          0.9594594594594594,
          1,
          1,
          1,
          1,
          1,
          1,
          1,
          1,
          1,
          1,
          1,
          1,
          1,
          1,
          1,
          1,
          1,
          1,
          1,
          1,
          1,
          1,
          1,
          1,
          1,
          1,
          1
         ],
         "yaxis": "y"
        }
       ],
       "layout": {
        "legend": {
         "title": {
          "text": "Class"
         },
         "tracegroupgap": 0
        },
        "shapes": [
         {
          "line": {
           "color": "gray",
           "dash": "dash"
          },
          "type": "line",
          "x0": 0,
          "x1": 1,
          "y0": 0,
          "y1": 1
         }
        ],
        "template": {
         "data": {
          "bar": [
           {
            "error_x": {
             "color": "#2a3f5f"
            },
            "error_y": {
             "color": "#2a3f5f"
            },
            "marker": {
             "line": {
              "color": "#E5ECF6",
              "width": 0.5
             },
             "pattern": {
              "fillmode": "overlay",
              "size": 10,
              "solidity": 0.2
             }
            },
            "type": "bar"
           }
          ],
          "barpolar": [
           {
            "marker": {
             "line": {
              "color": "#E5ECF6",
              "width": 0.5
             },
             "pattern": {
              "fillmode": "overlay",
              "size": 10,
              "solidity": 0.2
             }
            },
            "type": "barpolar"
           }
          ],
          "carpet": [
           {
            "aaxis": {
             "endlinecolor": "#2a3f5f",
             "gridcolor": "white",
             "linecolor": "white",
             "minorgridcolor": "white",
             "startlinecolor": "#2a3f5f"
            },
            "baxis": {
             "endlinecolor": "#2a3f5f",
             "gridcolor": "white",
             "linecolor": "white",
             "minorgridcolor": "white",
             "startlinecolor": "#2a3f5f"
            },
            "type": "carpet"
           }
          ],
          "choropleth": [
           {
            "colorbar": {
             "outlinewidth": 0,
             "ticks": ""
            },
            "type": "choropleth"
           }
          ],
          "contour": [
           {
            "colorbar": {
             "outlinewidth": 0,
             "ticks": ""
            },
            "colorscale": [
             [
              0,
              "#0d0887"
             ],
             [
              0.1111111111111111,
              "#46039f"
             ],
             [
              0.2222222222222222,
              "#7201a8"
             ],
             [
              0.3333333333333333,
              "#9c179e"
             ],
             [
              0.4444444444444444,
              "#bd3786"
             ],
             [
              0.5555555555555556,
              "#d8576b"
             ],
             [
              0.6666666666666666,
              "#ed7953"
             ],
             [
              0.7777777777777778,
              "#fb9f3a"
             ],
             [
              0.8888888888888888,
              "#fdca26"
             ],
             [
              1,
              "#f0f921"
             ]
            ],
            "type": "contour"
           }
          ],
          "contourcarpet": [
           {
            "colorbar": {
             "outlinewidth": 0,
             "ticks": ""
            },
            "type": "contourcarpet"
           }
          ],
          "heatmap": [
           {
            "colorbar": {
             "outlinewidth": 0,
             "ticks": ""
            },
            "colorscale": [
             [
              0,
              "#0d0887"
             ],
             [
              0.1111111111111111,
              "#46039f"
             ],
             [
              0.2222222222222222,
              "#7201a8"
             ],
             [
              0.3333333333333333,
              "#9c179e"
             ],
             [
              0.4444444444444444,
              "#bd3786"
             ],
             [
              0.5555555555555556,
              "#d8576b"
             ],
             [
              0.6666666666666666,
              "#ed7953"
             ],
             [
              0.7777777777777778,
              "#fb9f3a"
             ],
             [
              0.8888888888888888,
              "#fdca26"
             ],
             [
              1,
              "#f0f921"
             ]
            ],
            "type": "heatmap"
           }
          ],
          "heatmapgl": [
           {
            "colorbar": {
             "outlinewidth": 0,
             "ticks": ""
            },
            "colorscale": [
             [
              0,
              "#0d0887"
             ],
             [
              0.1111111111111111,
              "#46039f"
             ],
             [
              0.2222222222222222,
              "#7201a8"
             ],
             [
              0.3333333333333333,
              "#9c179e"
             ],
             [
              0.4444444444444444,
              "#bd3786"
             ],
             [
              0.5555555555555556,
              "#d8576b"
             ],
             [
              0.6666666666666666,
              "#ed7953"
             ],
             [
              0.7777777777777778,
              "#fb9f3a"
             ],
             [
              0.8888888888888888,
              "#fdca26"
             ],
             [
              1,
              "#f0f921"
             ]
            ],
            "type": "heatmapgl"
           }
          ],
          "histogram": [
           {
            "marker": {
             "pattern": {
              "fillmode": "overlay",
              "size": 10,
              "solidity": 0.2
             }
            },
            "type": "histogram"
           }
          ],
          "histogram2d": [
           {
            "colorbar": {
             "outlinewidth": 0,
             "ticks": ""
            },
            "colorscale": [
             [
              0,
              "#0d0887"
             ],
             [
              0.1111111111111111,
              "#46039f"
             ],
             [
              0.2222222222222222,
              "#7201a8"
             ],
             [
              0.3333333333333333,
              "#9c179e"
             ],
             [
              0.4444444444444444,
              "#bd3786"
             ],
             [
              0.5555555555555556,
              "#d8576b"
             ],
             [
              0.6666666666666666,
              "#ed7953"
             ],
             [
              0.7777777777777778,
              "#fb9f3a"
             ],
             [
              0.8888888888888888,
              "#fdca26"
             ],
             [
              1,
              "#f0f921"
             ]
            ],
            "type": "histogram2d"
           }
          ],
          "histogram2dcontour": [
           {
            "colorbar": {
             "outlinewidth": 0,
             "ticks": ""
            },
            "colorscale": [
             [
              0,
              "#0d0887"
             ],
             [
              0.1111111111111111,
              "#46039f"
             ],
             [
              0.2222222222222222,
              "#7201a8"
             ],
             [
              0.3333333333333333,
              "#9c179e"
             ],
             [
              0.4444444444444444,
              "#bd3786"
             ],
             [
              0.5555555555555556,
              "#d8576b"
             ],
             [
              0.6666666666666666,
              "#ed7953"
             ],
             [
              0.7777777777777778,
              "#fb9f3a"
             ],
             [
              0.8888888888888888,
              "#fdca26"
             ],
             [
              1,
              "#f0f921"
             ]
            ],
            "type": "histogram2dcontour"
           }
          ],
          "mesh3d": [
           {
            "colorbar": {
             "outlinewidth": 0,
             "ticks": ""
            },
            "type": "mesh3d"
           }
          ],
          "parcoords": [
           {
            "line": {
             "colorbar": {
              "outlinewidth": 0,
              "ticks": ""
             }
            },
            "type": "parcoords"
           }
          ],
          "pie": [
           {
            "automargin": true,
            "type": "pie"
           }
          ],
          "scatter": [
           {
            "fillpattern": {
             "fillmode": "overlay",
             "size": 10,
             "solidity": 0.2
            },
            "type": "scatter"
           }
          ],
          "scatter3d": [
           {
            "line": {
             "colorbar": {
              "outlinewidth": 0,
              "ticks": ""
             }
            },
            "marker": {
             "colorbar": {
              "outlinewidth": 0,
              "ticks": ""
             }
            },
            "type": "scatter3d"
           }
          ],
          "scattercarpet": [
           {
            "marker": {
             "colorbar": {
              "outlinewidth": 0,
              "ticks": ""
             }
            },
            "type": "scattercarpet"
           }
          ],
          "scattergeo": [
           {
            "marker": {
             "colorbar": {
              "outlinewidth": 0,
              "ticks": ""
             }
            },
            "type": "scattergeo"
           }
          ],
          "scattergl": [
           {
            "marker": {
             "colorbar": {
              "outlinewidth": 0,
              "ticks": ""
             }
            },
            "type": "scattergl"
           }
          ],
          "scattermapbox": [
           {
            "marker": {
             "colorbar": {
              "outlinewidth": 0,
              "ticks": ""
             }
            },
            "type": "scattermapbox"
           }
          ],
          "scatterpolar": [
           {
            "marker": {
             "colorbar": {
              "outlinewidth": 0,
              "ticks": ""
             }
            },
            "type": "scatterpolar"
           }
          ],
          "scatterpolargl": [
           {
            "marker": {
             "colorbar": {
              "outlinewidth": 0,
              "ticks": ""
             }
            },
            "type": "scatterpolargl"
           }
          ],
          "scatterternary": [
           {
            "marker": {
             "colorbar": {
              "outlinewidth": 0,
              "ticks": ""
             }
            },
            "type": "scatterternary"
           }
          ],
          "surface": [
           {
            "colorbar": {
             "outlinewidth": 0,
             "ticks": ""
            },
            "colorscale": [
             [
              0,
              "#0d0887"
             ],
             [
              0.1111111111111111,
              "#46039f"
             ],
             [
              0.2222222222222222,
              "#7201a8"
             ],
             [
              0.3333333333333333,
              "#9c179e"
             ],
             [
              0.4444444444444444,
              "#bd3786"
             ],
             [
              0.5555555555555556,
              "#d8576b"
             ],
             [
              0.6666666666666666,
              "#ed7953"
             ],
             [
              0.7777777777777778,
              "#fb9f3a"
             ],
             [
              0.8888888888888888,
              "#fdca26"
             ],
             [
              1,
              "#f0f921"
             ]
            ],
            "type": "surface"
           }
          ],
          "table": [
           {
            "cells": {
             "fill": {
              "color": "#EBF0F8"
             },
             "line": {
              "color": "white"
             }
            },
            "header": {
             "fill": {
              "color": "#C8D4E3"
             },
             "line": {
              "color": "white"
             }
            },
            "type": "table"
           }
          ]
         },
         "layout": {
          "annotationdefaults": {
           "arrowcolor": "#2a3f5f",
           "arrowhead": 0,
           "arrowwidth": 1
          },
          "autotypenumbers": "strict",
          "coloraxis": {
           "colorbar": {
            "outlinewidth": 0,
            "ticks": ""
           }
          },
          "colorscale": {
           "diverging": [
            [
             0,
             "#8e0152"
            ],
            [
             0.1,
             "#c51b7d"
            ],
            [
             0.2,
             "#de77ae"
            ],
            [
             0.3,
             "#f1b6da"
            ],
            [
             0.4,
             "#fde0ef"
            ],
            [
             0.5,
             "#f7f7f7"
            ],
            [
             0.6,
             "#e6f5d0"
            ],
            [
             0.7,
             "#b8e186"
            ],
            [
             0.8,
             "#7fbc41"
            ],
            [
             0.9,
             "#4d9221"
            ],
            [
             1,
             "#276419"
            ]
           ],
           "sequential": [
            [
             0,
             "#0d0887"
            ],
            [
             0.1111111111111111,
             "#46039f"
            ],
            [
             0.2222222222222222,
             "#7201a8"
            ],
            [
             0.3333333333333333,
             "#9c179e"
            ],
            [
             0.4444444444444444,
             "#bd3786"
            ],
            [
             0.5555555555555556,
             "#d8576b"
            ],
            [
             0.6666666666666666,
             "#ed7953"
            ],
            [
             0.7777777777777778,
             "#fb9f3a"
            ],
            [
             0.8888888888888888,
             "#fdca26"
            ],
            [
             1,
             "#f0f921"
            ]
           ],
           "sequentialminus": [
            [
             0,
             "#0d0887"
            ],
            [
             0.1111111111111111,
             "#46039f"
            ],
            [
             0.2222222222222222,
             "#7201a8"
            ],
            [
             0.3333333333333333,
             "#9c179e"
            ],
            [
             0.4444444444444444,
             "#bd3786"
            ],
            [
             0.5555555555555556,
             "#d8576b"
            ],
            [
             0.6666666666666666,
             "#ed7953"
            ],
            [
             0.7777777777777778,
             "#fb9f3a"
            ],
            [
             0.8888888888888888,
             "#fdca26"
            ],
            [
             1,
             "#f0f921"
            ]
           ]
          },
          "colorway": [
           "#636efa",
           "#EF553B",
           "#00cc96",
           "#ab63fa",
           "#FFA15A",
           "#19d3f3",
           "#FF6692",
           "#B6E880",
           "#FF97FF",
           "#FECB52"
          ],
          "font": {
           "color": "#2a3f5f"
          },
          "geo": {
           "bgcolor": "white",
           "lakecolor": "white",
           "landcolor": "#E5ECF6",
           "showlakes": true,
           "showland": true,
           "subunitcolor": "white"
          },
          "hoverlabel": {
           "align": "left"
          },
          "hovermode": "closest",
          "mapbox": {
           "style": "light"
          },
          "paper_bgcolor": "white",
          "plot_bgcolor": "#E5ECF6",
          "polar": {
           "angularaxis": {
            "gridcolor": "white",
            "linecolor": "white",
            "ticks": ""
           },
           "bgcolor": "#E5ECF6",
           "radialaxis": {
            "gridcolor": "white",
            "linecolor": "white",
            "ticks": ""
           }
          },
          "scene": {
           "xaxis": {
            "backgroundcolor": "#E5ECF6",
            "gridcolor": "white",
            "gridwidth": 2,
            "linecolor": "white",
            "showbackground": true,
            "ticks": "",
            "zerolinecolor": "white"
           },
           "yaxis": {
            "backgroundcolor": "#E5ECF6",
            "gridcolor": "white",
            "gridwidth": 2,
            "linecolor": "white",
            "showbackground": true,
            "ticks": "",
            "zerolinecolor": "white"
           },
           "zaxis": {
            "backgroundcolor": "#E5ECF6",
            "gridcolor": "white",
            "gridwidth": 2,
            "linecolor": "white",
            "showbackground": true,
            "ticks": "",
            "zerolinecolor": "white"
           }
          },
          "shapedefaults": {
           "line": {
            "color": "#2a3f5f"
           }
          },
          "ternary": {
           "aaxis": {
            "gridcolor": "white",
            "linecolor": "white",
            "ticks": ""
           },
           "baxis": {
            "gridcolor": "white",
            "linecolor": "white",
            "ticks": ""
           },
           "bgcolor": "#E5ECF6",
           "caxis": {
            "gridcolor": "white",
            "linecolor": "white",
            "ticks": ""
           }
          },
          "title": {
           "x": 0.05
          },
          "xaxis": {
           "automargin": true,
           "gridcolor": "white",
           "linecolor": "white",
           "ticks": "",
           "title": {
            "standoff": 15
           },
           "zerolinecolor": "white",
           "zerolinewidth": 2
          },
          "yaxis": {
           "automargin": true,
           "gridcolor": "white",
           "linecolor": "white",
           "ticks": "",
           "title": {
            "standoff": 15
           },
           "zerolinecolor": "white",
           "zerolinewidth": 2
          }
         }
        },
        "title": {
         "text": "ROC Curve"
        },
        "xaxis": {
         "anchor": "y",
         "domain": [
          0,
          1
         ],
         "title": {
          "text": "False Positive Rate"
         }
        },
        "yaxis": {
         "anchor": "x",
         "domain": [
          0,
          1
         ],
         "title": {
          "text": "True Positive Rate"
         }
        }
       }
      }
     },
     "metadata": {},
     "output_type": "display_data"
    }
   ],
   "source": [
    "courbe_ROC(model_2,x_test,y_test)"
   ]
  },
  {
   "cell_type": "markdown",
   "metadata": {},
   "source": [
    "# Analyse du Modèle 2\n",
    "\n",
    "## 1. Matrice de confusion\n",
    "\n",
    "La matrice de confusion révèle les performances du modèle sur chaque classe :\n",
    "\n",
    "- **Glioma** :\n",
    "  - Vrais positifs (VP) : 17\n",
    "  - Faux positifs (FP) : 1 + 3 + 1 = 5\n",
    "  - Faux négatifs (FN) : 27 + 52 + 4 = 83\n",
    "\n",
    "- **Meningioma** :\n",
    "  - Vrais positifs (VP) : 97\n",
    "  - Faux positifs (FP) : 27 + 4 + 12 = 43\n",
    "  - Faux négatifs (FN) : 1 + 15 + 2 = 18\n",
    "\n",
    "- **No Tumor** :\n",
    "  - Vrais positifs (VP) : 97\n",
    "  - Faux positifs (FP) : 52 + 15 + 10 = 77\n",
    "  - Faux négatifs (FN) : 3 + 4 + 1 = 8\n",
    "\n",
    "- **Pituitary** :\n",
    "  - Vrais positifs (VP) : 51\n",
    "  - Faux positifs (FP) : 4 + 2 + 1 = 7\n",
    "  - Faux négatifs (FN) : 1 + 12 + 10 = 23\n",
    "\n",
    "### Observations :\n",
    "- Le modèle est performant pour **Meningioma**, **No Tumor**, et dans une moindre mesure pour **Pituitary**.\n",
    "- La classe **Glioma** est mal détectée, avec un faible nombre de vrais positifs et de nombreux faux négatifs.\n",
    "- Les confusions entre **Pituitary** et les autres classes demeurent un point à améliorer.\n",
    "\n",
    "---\n",
    "\n",
    "## 2. Courbes ROC et AUC\n",
    "Les courbes ROC et les scores AUC permettent de visualiser les performances globales du modèle pour chaque classe.\n",
    "\n",
    "- **Glioma** : AUC = 0.53\n",
    "  - La performance est faible, indiquant que le modèle a des difficultés à différencier cette classe des autres.\n",
    "\n",
    "- **Meningioma** : AUC = 0.89\n",
    "  - La performance est bonne, montrant une différenciation correcte entre cette classe et les autres.\n",
    "\n",
    "- **No Tumor** : AUC = 0.90\n",
    "  - Le modèle distingue bien cette classe des autres.\n",
    "\n",
    "- **Pituitary** : AUC = 0.93\n",
    "  - La performance est excellente pour cette classe.\n",
    "\n",
    "### Observations :\n",
    "- Les classes **No Tumor** et **Pituitary** sont bien différenciées des autres, comme l'indiquent leurs scores AUC élevés.\n",
    "- La classe **Glioma** montre des performances faibles, nécessitant une amélioration pour mieux capturer ses caractéristiques distinctives.\n",
    "- Les scores AUC de **Meningioma**, **No Tumor**, et **Pituitary** montrent que le modèle est efficace pour ces classes, malgré quelques confusions.\n"
   ]
  },
  {
   "cell_type": "markdown",
   "metadata": {},
   "source": [
    "# Analyse du Modèle 3"
   ]
  },
  {
   "cell_type": "code",
   "execution_count": 12,
   "metadata": {},
   "outputs": [
    {
     "name": "stdout",
     "output_type": "stream",
     "text": [
      "13/13 [==============================] - 40s 3s/step\n"
     ]
    },
    {
     "data": {
      "application/vnd.plotly.v1+json": {
       "config": {
        "plotlyServerURL": "https://plot.ly"
       },
       "data": [
        {
         "coloraxis": "coloraxis",
         "hovertemplate": "Predicted: %{x}<br>True: %{y}<br>Count: %{z}<extra></extra>",
         "name": "0",
         "texttemplate": "%{z}",
         "type": "heatmap",
         "x": [
          "Glioma",
          "Meningioma",
          "No Tumor",
          "Pituitary"
         ],
         "xaxis": "x",
         "y": [
          "Glioma",
          "Meningioma",
          "No Tumor",
          "Pituitary"
         ],
         "yaxis": "y",
         "z": [
          [
           100,
           0,
           0,
           0
          ],
          [
           115,
           0,
           0,
           0
          ],
          [
           105,
           0,
           0,
           0
          ],
          [
           74,
           0,
           0,
           0
          ]
         ]
        }
       ],
       "layout": {
        "coloraxis": {
         "colorbar": {
          "title": {
           "text": "Count"
          }
         },
         "colorscale": [
          [
           0,
           "rgb(247,251,255)"
          ],
          [
           0.125,
           "rgb(222,235,247)"
          ],
          [
           0.25,
           "rgb(198,219,239)"
          ],
          [
           0.375,
           "rgb(158,202,225)"
          ],
          [
           0.5,
           "rgb(107,174,214)"
          ],
          [
           0.625,
           "rgb(66,146,198)"
          ],
          [
           0.75,
           "rgb(33,113,181)"
          ],
          [
           0.875,
           "rgb(8,81,156)"
          ],
          [
           1,
           "rgb(8,48,107)"
          ]
         ]
        },
        "template": {
         "data": {
          "bar": [
           {
            "error_x": {
             "color": "#2a3f5f"
            },
            "error_y": {
             "color": "#2a3f5f"
            },
            "marker": {
             "line": {
              "color": "#E5ECF6",
              "width": 0.5
             },
             "pattern": {
              "fillmode": "overlay",
              "size": 10,
              "solidity": 0.2
             }
            },
            "type": "bar"
           }
          ],
          "barpolar": [
           {
            "marker": {
             "line": {
              "color": "#E5ECF6",
              "width": 0.5
             },
             "pattern": {
              "fillmode": "overlay",
              "size": 10,
              "solidity": 0.2
             }
            },
            "type": "barpolar"
           }
          ],
          "carpet": [
           {
            "aaxis": {
             "endlinecolor": "#2a3f5f",
             "gridcolor": "white",
             "linecolor": "white",
             "minorgridcolor": "white",
             "startlinecolor": "#2a3f5f"
            },
            "baxis": {
             "endlinecolor": "#2a3f5f",
             "gridcolor": "white",
             "linecolor": "white",
             "minorgridcolor": "white",
             "startlinecolor": "#2a3f5f"
            },
            "type": "carpet"
           }
          ],
          "choropleth": [
           {
            "colorbar": {
             "outlinewidth": 0,
             "ticks": ""
            },
            "type": "choropleth"
           }
          ],
          "contour": [
           {
            "colorbar": {
             "outlinewidth": 0,
             "ticks": ""
            },
            "colorscale": [
             [
              0,
              "#0d0887"
             ],
             [
              0.1111111111111111,
              "#46039f"
             ],
             [
              0.2222222222222222,
              "#7201a8"
             ],
             [
              0.3333333333333333,
              "#9c179e"
             ],
             [
              0.4444444444444444,
              "#bd3786"
             ],
             [
              0.5555555555555556,
              "#d8576b"
             ],
             [
              0.6666666666666666,
              "#ed7953"
             ],
             [
              0.7777777777777778,
              "#fb9f3a"
             ],
             [
              0.8888888888888888,
              "#fdca26"
             ],
             [
              1,
              "#f0f921"
             ]
            ],
            "type": "contour"
           }
          ],
          "contourcarpet": [
           {
            "colorbar": {
             "outlinewidth": 0,
             "ticks": ""
            },
            "type": "contourcarpet"
           }
          ],
          "heatmap": [
           {
            "colorbar": {
             "outlinewidth": 0,
             "ticks": ""
            },
            "colorscale": [
             [
              0,
              "#0d0887"
             ],
             [
              0.1111111111111111,
              "#46039f"
             ],
             [
              0.2222222222222222,
              "#7201a8"
             ],
             [
              0.3333333333333333,
              "#9c179e"
             ],
             [
              0.4444444444444444,
              "#bd3786"
             ],
             [
              0.5555555555555556,
              "#d8576b"
             ],
             [
              0.6666666666666666,
              "#ed7953"
             ],
             [
              0.7777777777777778,
              "#fb9f3a"
             ],
             [
              0.8888888888888888,
              "#fdca26"
             ],
             [
              1,
              "#f0f921"
             ]
            ],
            "type": "heatmap"
           }
          ],
          "heatmapgl": [
           {
            "colorbar": {
             "outlinewidth": 0,
             "ticks": ""
            },
            "colorscale": [
             [
              0,
              "#0d0887"
             ],
             [
              0.1111111111111111,
              "#46039f"
             ],
             [
              0.2222222222222222,
              "#7201a8"
             ],
             [
              0.3333333333333333,
              "#9c179e"
             ],
             [
              0.4444444444444444,
              "#bd3786"
             ],
             [
              0.5555555555555556,
              "#d8576b"
             ],
             [
              0.6666666666666666,
              "#ed7953"
             ],
             [
              0.7777777777777778,
              "#fb9f3a"
             ],
             [
              0.8888888888888888,
              "#fdca26"
             ],
             [
              1,
              "#f0f921"
             ]
            ],
            "type": "heatmapgl"
           }
          ],
          "histogram": [
           {
            "marker": {
             "pattern": {
              "fillmode": "overlay",
              "size": 10,
              "solidity": 0.2
             }
            },
            "type": "histogram"
           }
          ],
          "histogram2d": [
           {
            "colorbar": {
             "outlinewidth": 0,
             "ticks": ""
            },
            "colorscale": [
             [
              0,
              "#0d0887"
             ],
             [
              0.1111111111111111,
              "#46039f"
             ],
             [
              0.2222222222222222,
              "#7201a8"
             ],
             [
              0.3333333333333333,
              "#9c179e"
             ],
             [
              0.4444444444444444,
              "#bd3786"
             ],
             [
              0.5555555555555556,
              "#d8576b"
             ],
             [
              0.6666666666666666,
              "#ed7953"
             ],
             [
              0.7777777777777778,
              "#fb9f3a"
             ],
             [
              0.8888888888888888,
              "#fdca26"
             ],
             [
              1,
              "#f0f921"
             ]
            ],
            "type": "histogram2d"
           }
          ],
          "histogram2dcontour": [
           {
            "colorbar": {
             "outlinewidth": 0,
             "ticks": ""
            },
            "colorscale": [
             [
              0,
              "#0d0887"
             ],
             [
              0.1111111111111111,
              "#46039f"
             ],
             [
              0.2222222222222222,
              "#7201a8"
             ],
             [
              0.3333333333333333,
              "#9c179e"
             ],
             [
              0.4444444444444444,
              "#bd3786"
             ],
             [
              0.5555555555555556,
              "#d8576b"
             ],
             [
              0.6666666666666666,
              "#ed7953"
             ],
             [
              0.7777777777777778,
              "#fb9f3a"
             ],
             [
              0.8888888888888888,
              "#fdca26"
             ],
             [
              1,
              "#f0f921"
             ]
            ],
            "type": "histogram2dcontour"
           }
          ],
          "mesh3d": [
           {
            "colorbar": {
             "outlinewidth": 0,
             "ticks": ""
            },
            "type": "mesh3d"
           }
          ],
          "parcoords": [
           {
            "line": {
             "colorbar": {
              "outlinewidth": 0,
              "ticks": ""
             }
            },
            "type": "parcoords"
           }
          ],
          "pie": [
           {
            "automargin": true,
            "type": "pie"
           }
          ],
          "scatter": [
           {
            "fillpattern": {
             "fillmode": "overlay",
             "size": 10,
             "solidity": 0.2
            },
            "type": "scatter"
           }
          ],
          "scatter3d": [
           {
            "line": {
             "colorbar": {
              "outlinewidth": 0,
              "ticks": ""
             }
            },
            "marker": {
             "colorbar": {
              "outlinewidth": 0,
              "ticks": ""
             }
            },
            "type": "scatter3d"
           }
          ],
          "scattercarpet": [
           {
            "marker": {
             "colorbar": {
              "outlinewidth": 0,
              "ticks": ""
             }
            },
            "type": "scattercarpet"
           }
          ],
          "scattergeo": [
           {
            "marker": {
             "colorbar": {
              "outlinewidth": 0,
              "ticks": ""
             }
            },
            "type": "scattergeo"
           }
          ],
          "scattergl": [
           {
            "marker": {
             "colorbar": {
              "outlinewidth": 0,
              "ticks": ""
             }
            },
            "type": "scattergl"
           }
          ],
          "scattermapbox": [
           {
            "marker": {
             "colorbar": {
              "outlinewidth": 0,
              "ticks": ""
             }
            },
            "type": "scattermapbox"
           }
          ],
          "scatterpolar": [
           {
            "marker": {
             "colorbar": {
              "outlinewidth": 0,
              "ticks": ""
             }
            },
            "type": "scatterpolar"
           }
          ],
          "scatterpolargl": [
           {
            "marker": {
             "colorbar": {
              "outlinewidth": 0,
              "ticks": ""
             }
            },
            "type": "scatterpolargl"
           }
          ],
          "scatterternary": [
           {
            "marker": {
             "colorbar": {
              "outlinewidth": 0,
              "ticks": ""
             }
            },
            "type": "scatterternary"
           }
          ],
          "surface": [
           {
            "colorbar": {
             "outlinewidth": 0,
             "ticks": ""
            },
            "colorscale": [
             [
              0,
              "#0d0887"
             ],
             [
              0.1111111111111111,
              "#46039f"
             ],
             [
              0.2222222222222222,
              "#7201a8"
             ],
             [
              0.3333333333333333,
              "#9c179e"
             ],
             [
              0.4444444444444444,
              "#bd3786"
             ],
             [
              0.5555555555555556,
              "#d8576b"
             ],
             [
              0.6666666666666666,
              "#ed7953"
             ],
             [
              0.7777777777777778,
              "#fb9f3a"
             ],
             [
              0.8888888888888888,
              "#fdca26"
             ],
             [
              1,
              "#f0f921"
             ]
            ],
            "type": "surface"
           }
          ],
          "table": [
           {
            "cells": {
             "fill": {
              "color": "#EBF0F8"
             },
             "line": {
              "color": "white"
             }
            },
            "header": {
             "fill": {
              "color": "#C8D4E3"
             },
             "line": {
              "color": "white"
             }
            },
            "type": "table"
           }
          ]
         },
         "layout": {
          "annotationdefaults": {
           "arrowcolor": "#2a3f5f",
           "arrowhead": 0,
           "arrowwidth": 1
          },
          "autotypenumbers": "strict",
          "coloraxis": {
           "colorbar": {
            "outlinewidth": 0,
            "ticks": ""
           }
          },
          "colorscale": {
           "diverging": [
            [
             0,
             "#8e0152"
            ],
            [
             0.1,
             "#c51b7d"
            ],
            [
             0.2,
             "#de77ae"
            ],
            [
             0.3,
             "#f1b6da"
            ],
            [
             0.4,
             "#fde0ef"
            ],
            [
             0.5,
             "#f7f7f7"
            ],
            [
             0.6,
             "#e6f5d0"
            ],
            [
             0.7,
             "#b8e186"
            ],
            [
             0.8,
             "#7fbc41"
            ],
            [
             0.9,
             "#4d9221"
            ],
            [
             1,
             "#276419"
            ]
           ],
           "sequential": [
            [
             0,
             "#0d0887"
            ],
            [
             0.1111111111111111,
             "#46039f"
            ],
            [
             0.2222222222222222,
             "#7201a8"
            ],
            [
             0.3333333333333333,
             "#9c179e"
            ],
            [
             0.4444444444444444,
             "#bd3786"
            ],
            [
             0.5555555555555556,
             "#d8576b"
            ],
            [
             0.6666666666666666,
             "#ed7953"
            ],
            [
             0.7777777777777778,
             "#fb9f3a"
            ],
            [
             0.8888888888888888,
             "#fdca26"
            ],
            [
             1,
             "#f0f921"
            ]
           ],
           "sequentialminus": [
            [
             0,
             "#0d0887"
            ],
            [
             0.1111111111111111,
             "#46039f"
            ],
            [
             0.2222222222222222,
             "#7201a8"
            ],
            [
             0.3333333333333333,
             "#9c179e"
            ],
            [
             0.4444444444444444,
             "#bd3786"
            ],
            [
             0.5555555555555556,
             "#d8576b"
            ],
            [
             0.6666666666666666,
             "#ed7953"
            ],
            [
             0.7777777777777778,
             "#fb9f3a"
            ],
            [
             0.8888888888888888,
             "#fdca26"
            ],
            [
             1,
             "#f0f921"
            ]
           ]
          },
          "colorway": [
           "#636efa",
           "#EF553B",
           "#00cc96",
           "#ab63fa",
           "#FFA15A",
           "#19d3f3",
           "#FF6692",
           "#B6E880",
           "#FF97FF",
           "#FECB52"
          ],
          "font": {
           "color": "#2a3f5f"
          },
          "geo": {
           "bgcolor": "white",
           "lakecolor": "white",
           "landcolor": "#E5ECF6",
           "showlakes": true,
           "showland": true,
           "subunitcolor": "white"
          },
          "hoverlabel": {
           "align": "left"
          },
          "hovermode": "closest",
          "mapbox": {
           "style": "light"
          },
          "paper_bgcolor": "white",
          "plot_bgcolor": "#E5ECF6",
          "polar": {
           "angularaxis": {
            "gridcolor": "white",
            "linecolor": "white",
            "ticks": ""
           },
           "bgcolor": "#E5ECF6",
           "radialaxis": {
            "gridcolor": "white",
            "linecolor": "white",
            "ticks": ""
           }
          },
          "scene": {
           "xaxis": {
            "backgroundcolor": "#E5ECF6",
            "gridcolor": "white",
            "gridwidth": 2,
            "linecolor": "white",
            "showbackground": true,
            "ticks": "",
            "zerolinecolor": "white"
           },
           "yaxis": {
            "backgroundcolor": "#E5ECF6",
            "gridcolor": "white",
            "gridwidth": 2,
            "linecolor": "white",
            "showbackground": true,
            "ticks": "",
            "zerolinecolor": "white"
           },
           "zaxis": {
            "backgroundcolor": "#E5ECF6",
            "gridcolor": "white",
            "gridwidth": 2,
            "linecolor": "white",
            "showbackground": true,
            "ticks": "",
            "zerolinecolor": "white"
           }
          },
          "shapedefaults": {
           "line": {
            "color": "#2a3f5f"
           }
          },
          "ternary": {
           "aaxis": {
            "gridcolor": "white",
            "linecolor": "white",
            "ticks": ""
           },
           "baxis": {
            "gridcolor": "white",
            "linecolor": "white",
            "ticks": ""
           },
           "bgcolor": "#E5ECF6",
           "caxis": {
            "gridcolor": "white",
            "linecolor": "white",
            "ticks": ""
           }
          },
          "title": {
           "x": 0.05
          },
          "xaxis": {
           "automargin": true,
           "gridcolor": "white",
           "linecolor": "white",
           "ticks": "",
           "title": {
            "standoff": 15
           },
           "zerolinecolor": "white",
           "zerolinewidth": 2
          },
          "yaxis": {
           "automargin": true,
           "gridcolor": "white",
           "linecolor": "white",
           "ticks": "",
           "title": {
            "standoff": 15
           },
           "zerolinecolor": "white",
           "zerolinewidth": 2
          }
         }
        },
        "title": {
         "text": "Confusion Matrix"
        },
        "xaxis": {
         "anchor": "y",
         "constrain": "domain",
         "domain": [
          0,
          1
         ],
         "scaleanchor": "y",
         "title": {
          "text": "Predicted Labels"
         }
        },
        "yaxis": {
         "anchor": "x",
         "autorange": "reversed",
         "constrain": "domain",
         "domain": [
          0,
          1
         ],
         "title": {
          "text": "True Labels"
         }
        }
       }
      }
     },
     "metadata": {},
     "output_type": "display_data"
    },
    {
     "name": "stdout",
     "output_type": "stream",
     "text": [
      "Classification Report:\n",
      "              precision    recall  f1-score   support\n",
      "\n",
      "      Glioma       0.25      1.00      0.40       100\n",
      "  Meningioma       0.00      0.00      0.00       115\n",
      "    No Tumor       0.00      0.00      0.00       105\n",
      "   Pituitary       0.00      0.00      0.00        74\n",
      "\n",
      "    accuracy                           0.25       394\n",
      "   macro avg       0.06      0.25      0.10       394\n",
      "weighted avg       0.06      0.25      0.10       394\n",
      "\n"
     ]
    },
    {
     "name": "stderr",
     "output_type": "stream",
     "text": [
      "/Users/lilya/Downloads/M2 ISDS/Projects/Brain_tumor/venv/lib/python3.11/site-packages/sklearn/metrics/_classification.py:1531: UndefinedMetricWarning:\n",
      "\n",
      "Precision is ill-defined and being set to 0.0 in labels with no predicted samples. Use `zero_division` parameter to control this behavior.\n",
      "\n",
      "/Users/lilya/Downloads/M2 ISDS/Projects/Brain_tumor/venv/lib/python3.11/site-packages/sklearn/metrics/_classification.py:1531: UndefinedMetricWarning:\n",
      "\n",
      "Precision is ill-defined and being set to 0.0 in labels with no predicted samples. Use `zero_division` parameter to control this behavior.\n",
      "\n",
      "/Users/lilya/Downloads/M2 ISDS/Projects/Brain_tumor/venv/lib/python3.11/site-packages/sklearn/metrics/_classification.py:1531: UndefinedMetricWarning:\n",
      "\n",
      "Precision is ill-defined and being set to 0.0 in labels with no predicted samples. Use `zero_division` parameter to control this behavior.\n",
      "\n"
     ]
    }
   ],
   "source": [
    "plot_confusion_matrix(model_3,x_test,y_test)"
   ]
  },
  {
   "cell_type": "code",
   "execution_count": 13,
   "metadata": {},
   "outputs": [
    {
     "name": "stdout",
     "output_type": "stream",
     "text": [
      "13/13 [==============================] - 47s 4s/step\n"
     ]
    },
    {
     "data": {
      "application/vnd.plotly.v1+json": {
       "config": {
        "plotlyServerURL": "https://plot.ly"
       },
       "data": [
        {
         "hovertemplate": "Class=Glioma (AUC = 0.57)<br>FPR=%{x}<br>TPR=%{y}<extra></extra>",
         "legendgroup": "Glioma (AUC = 0.57)",
         "line": {
          "color": "#636efa",
          "dash": "solid"
         },
         "marker": {
          "symbol": "circle"
         },
         "mode": "lines",
         "name": "Glioma (AUC = 0.57)",
         "orientation": "v",
         "showlegend": true,
         "type": "scatter",
         "x": [
          0,
          0.003401360544217687,
          0.01020408163265306,
          0.01020408163265306,
          0.023809523809523808,
          0.03741496598639456,
          0.04081632653061224,
          0.04081632653061224,
          0.047619047619047616,
          0.047619047619047616,
          0.05442176870748299,
          0.07142857142857142,
          0.0782312925170068,
          0.08163265306122448,
          0.08843537414965986,
          0.09183673469387756,
          0.09183673469387756,
          0.09523809523809523,
          0.09523809523809523,
          0.12244897959183673,
          0.12244897959183673,
          0.1326530612244898,
          0.1360544217687075,
          0.1360544217687075,
          0.13945578231292516,
          0.13945578231292516,
          0.14965986394557823,
          0.14965986394557823,
          0.1564625850340136,
          0.1598639455782313,
          0.1598639455782313,
          0.18027210884353742,
          0.1870748299319728,
          0.20068027210884354,
          0.20068027210884354,
          0.20748299319727892,
          0.20748299319727892,
          0.21768707482993196,
          0.22448979591836735,
          0.22789115646258504,
          0.22789115646258504,
          0.22789115646258504,
          0.23129251700680273,
          0.23129251700680273,
          0.23469387755102042,
          0.23469387755102042,
          0.23809523809523808,
          0.23809523809523808,
          0.23809523809523808,
          0.24149659863945577,
          0.24149659863945577,
          0.24489795918367346,
          0.24489795918367346,
          0.25170068027210885,
          0.25170068027210885,
          0.2619047619047619,
          0.2687074829931973,
          0.2789115646258503,
          0.2789115646258503,
          0.282312925170068,
          0.282312925170068,
          0.29931972789115646,
          0.29931972789115646,
          0.30272108843537415,
          0.30272108843537415,
          0.30272108843537415,
          0.3333333333333333,
          0.336734693877551,
          0.3401360544217687,
          0.3401360544217687,
          0.3469387755102041,
          0.35034013605442177,
          0.35034013605442177,
          0.35714285714285715,
          0.3673469387755102,
          0.3673469387755102,
          0.3945578231292517,
          0.3945578231292517,
          0.3945578231292517,
          0.3979591836734694,
          0.3979591836734694,
          0.4013605442176871,
          0.41496598639455784,
          0.42517006802721086,
          0.43537414965986393,
          0.4421768707482993,
          0.445578231292517,
          0.445578231292517,
          0.4523809523809524,
          0.4557823129251701,
          0.46258503401360546,
          0.46258503401360546,
          0.46598639455782315,
          0.47619047619047616,
          0.48299319727891155,
          0.48299319727891155,
          0.48299319727891155,
          0.4897959183673469,
          0.5,
          0.5034013605442177,
          0.5034013605442177,
          0.5034013605442177,
          0.5136054421768708,
          0.5238095238095238,
          0.5272108843537415,
          0.5340136054421769,
          0.5340136054421769,
          0.5544217687074829,
          0.5544217687074829,
          0.5578231292517006,
          0.5578231292517006,
          0.564625850340136,
          0.5714285714285714,
          0.5850340136054422,
          0.5952380952380952,
          0.5986394557823129,
          0.6054421768707483,
          0.6122448979591837,
          0.6224489795918368,
          0.6258503401360545,
          0.6326530612244898,
          0.6326530612244898,
          0.6326530612244898,
          0.6530612244897959,
          0.6700680272108843,
          0.6700680272108843,
          0.6768707482993197,
          0.6870748299319728,
          0.6870748299319728,
          0.6904761904761905,
          0.6904761904761905,
          0.7040816326530612,
          0.7108843537414966,
          0.7108843537414966,
          0.7210884353741497,
          0.7210884353741497,
          0.7312925170068028,
          0.7448979591836735,
          0.7448979591836735,
          0.7482993197278912,
          0.7619047619047619,
          0.7619047619047619,
          0.7653061224489796,
          0.7755102040816326,
          0.7755102040816326,
          0.782312925170068,
          0.7857142857142857,
          0.7925170068027211,
          0.7993197278911565,
          0.7993197278911565,
          0.8027210884353742,
          0.8095238095238095,
          0.8129251700680272,
          0.8299319727891157,
          0.8367346938775511,
          0.8673469387755102,
          0.8741496598639455,
          0.8877551020408163,
          0.8945578231292517,
          0.9047619047619048,
          0.9217687074829932,
          0.9251700680272109,
          0.935374149659864,
          0.9387755102040817,
          0.9523809523809523,
          0.9591836734693877,
          0.9591836734693877,
          0.9625850340136054,
          0.9625850340136054,
          0.9693877551020408,
          0.9761904761904762,
          0.9965986394557823,
          1
         ],
         "xaxis": "x",
         "y": [
          0,
          0,
          0,
          0.02,
          0.02,
          0.02,
          0.02,
          0.03,
          0.03,
          0.04,
          0.04,
          0.04,
          0.05,
          0.05,
          0.05,
          0.05,
          0.06,
          0.06,
          0.07,
          0.07,
          0.08,
          0.08,
          0.08,
          0.09,
          0.09,
          0.11,
          0.11,
          0.13,
          0.13,
          0.13,
          0.14,
          0.14,
          0.14,
          0.14,
          0.15,
          0.15,
          0.16,
          0.16,
          0.17,
          0.17,
          0.19,
          0.2,
          0.2,
          0.21,
          0.21,
          0.22,
          0.23,
          0.25,
          0.26,
          0.26,
          0.28,
          0.28,
          0.29,
          0.29,
          0.3,
          0.3,
          0.3,
          0.3,
          0.33,
          0.36,
          0.37,
          0.37,
          0.38,
          0.38,
          0.39,
          0.41,
          0.41,
          0.42,
          0.42,
          0.43,
          0.43,
          0.44,
          0.45,
          0.45,
          0.45,
          0.47,
          0.47,
          0.49,
          0.51,
          0.51,
          0.53,
          0.53,
          0.53,
          0.53,
          0.53,
          0.53,
          0.53,
          0.54,
          0.54,
          0.55,
          0.55,
          0.56,
          0.57,
          0.57,
          0.57,
          0.6,
          0.61,
          0.61,
          0.61,
          0.61,
          0.62,
          0.64,
          0.64,
          0.64,
          0.64,
          0.67,
          0.69,
          0.69,
          0.7,
          0.7,
          0.71,
          0.72,
          0.72,
          0.72,
          0.72,
          0.75,
          0.75,
          0.75,
          0.75,
          0.75,
          0.75,
          0.76,
          0.79,
          0.79,
          0.79,
          0.8,
          0.8,
          0.8,
          0.82,
          0.82,
          0.83,
          0.85,
          0.85,
          0.87,
          0.87,
          0.88,
          0.88,
          0.88,
          0.89,
          0.89,
          0.89,
          0.9,
          0.9,
          0.9,
          0.91,
          0.91,
          0.91,
          0.93,
          0.93,
          0.95,
          0.95,
          0.95,
          0.96,
          0.96,
          0.96,
          0.96,
          0.97,
          0.97,
          0.97,
          0.97,
          0.97,
          0.97,
          0.97,
          0.97,
          0.97,
          0.97,
          0.98,
          0.98,
          1,
          1,
          1,
          1,
          1
         ],
         "yaxis": "y"
        },
        {
         "hovertemplate": "Class=Meningioma (AUC = 0.51)<br>FPR=%{x}<br>TPR=%{y}<extra></extra>",
         "legendgroup": "Meningioma (AUC = 0.51)",
         "line": {
          "color": "#EF553B",
          "dash": "solid"
         },
         "marker": {
          "symbol": "circle"
         },
         "mode": "lines",
         "name": "Meningioma (AUC = 0.51)",
         "orientation": "v",
         "showlegend": true,
         "type": "scatter",
         "x": [
          0,
          0,
          0.021505376344086023,
          0.02867383512544803,
          0.02867383512544803,
          0.035842293906810034,
          0.03942652329749104,
          0.043010752688172046,
          0.043010752688172046,
          0.04659498207885305,
          0.05734767025089606,
          0.07526881720430108,
          0.08602150537634409,
          0.0931899641577061,
          0.0967741935483871,
          0.1039426523297491,
          0.12544802867383512,
          0.13261648745519714,
          0.13978494623655913,
          0.17204301075268819,
          0.1935483870967742,
          0.2007168458781362,
          0.2114695340501792,
          0.22939068100358423,
          0.23655913978494625,
          0.25448028673835127,
          0.26881720430107525,
          0.27956989247311825,
          0.3010752688172043,
          0.3154121863799283,
          0.3225806451612903,
          0.33691756272401435,
          0.33691756272401435,
          0.34408602150537637,
          0.3727598566308244,
          0.3763440860215054,
          0.3763440860215054,
          0.3870967741935484,
          0.3870967741935484,
          0.4014336917562724,
          0.4157706093189964,
          0.4157706093189964,
          0.4157706093189964,
          0.4336917562724014,
          0.4444444444444444,
          0.4551971326164875,
          0.4731182795698925,
          0.4731182795698925,
          0.4838709677419355,
          0.4874551971326165,
          0.4910394265232975,
          0.5017921146953405,
          0.5017921146953405,
          0.5161290322580645,
          0.5232974910394266,
          0.5304659498207885,
          0.5340501792114696,
          0.5376344086021505,
          0.5519713261648745,
          0.5591397849462365,
          0.5591397849462365,
          0.5698924731182796,
          0.5734767025089605,
          0.5842293906810035,
          0.5878136200716846,
          0.5878136200716846,
          0.5949820788530465,
          0.5985663082437276,
          0.6093189964157706,
          0.6236559139784946,
          0.6308243727598566,
          0.6344086021505376,
          0.6415770609318996,
          0.6451612903225806,
          0.6523297491039427,
          0.6559139784946236,
          0.6666666666666666,
          0.6702508960573477,
          0.6738351254480287,
          0.6738351254480287,
          0.6917562724014337,
          0.6917562724014337,
          0.7096774193548387,
          0.7168458781362007,
          0.7240143369175627,
          0.7240143369175627,
          0.7275985663082437,
          0.7311827956989247,
          0.7311827956989247,
          0.7347670250896058,
          0.7383512544802867,
          0.7491039426523297,
          0.7526881720430108,
          0.7598566308243727,
          0.7634408602150538,
          0.7741935483870968,
          0.7741935483870968,
          0.7777777777777778,
          0.7813620071684588,
          0.7885304659498208,
          0.7885304659498208,
          0.7956989247311828,
          0.7956989247311828,
          0.8028673835125448,
          0.8243727598566308,
          0.8279569892473119,
          0.8279569892473119,
          0.8279569892473119,
          0.8351254480286738,
          0.8494623655913979,
          0.8530465949820788,
          0.8530465949820788,
          0.8673835125448028,
          0.8745519713261649,
          0.8853046594982079,
          0.8853046594982079,
          0.899641577060932,
          0.9068100358422939,
          0.9175627240143369,
          0.9247311827956989,
          0.9498207885304659,
          0.956989247311828,
          0.956989247311828,
          0.96415770609319,
          0.978494623655914,
          0.982078853046595,
          0.982078853046595,
          0.985663082437276,
          0.985663082437276,
          1,
          1
         ],
         "xaxis": "x",
         "y": [
          0,
          0.008695652173913044,
          0.008695652173913044,
          0.008695652173913044,
          0.017391304347826087,
          0.017391304347826087,
          0.02608695652173913,
          0.02608695652173913,
          0.034782608695652174,
          0.034782608695652174,
          0.043478260869565216,
          0.06086956521739131,
          0.06956521739130435,
          0.08695652173913043,
          0.09565217391304348,
          0.11304347826086956,
          0.12173913043478261,
          0.13043478260869565,
          0.13043478260869565,
          0.13043478260869565,
          0.16521739130434782,
          0.1826086956521739,
          0.1826086956521739,
          0.2,
          0.2,
          0.2,
          0.2,
          0.2,
          0.20869565217391303,
          0.22608695652173913,
          0.23478260869565218,
          0.25217391304347825,
          0.2608695652173913,
          0.28695652173913044,
          0.28695652173913044,
          0.2956521739130435,
          0.3391304347826087,
          0.3391304347826087,
          0.3565217391304348,
          0.3739130434782609,
          0.40869565217391307,
          0.43478260869565216,
          0.45217391304347826,
          0.4608695652173913,
          0.4782608695652174,
          0.48695652173913045,
          0.4956521739130435,
          0.5130434782608696,
          0.5130434782608696,
          0.5217391304347826,
          0.5217391304347826,
          0.5217391304347826,
          0.5304347826086957,
          0.5304347826086957,
          0.5304347826086957,
          0.5391304347826087,
          0.5391304347826087,
          0.5565217391304348,
          0.6,
          0.6,
          0.6173913043478261,
          0.6173913043478261,
          0.6260869565217392,
          0.6260869565217392,
          0.6347826086956522,
          0.6434782608695652,
          0.6434782608695652,
          0.6434782608695652,
          0.6434782608695652,
          0.6608695652173913,
          0.6608695652173913,
          0.6608695652173913,
          0.6695652173913044,
          0.6782608695652174,
          0.6956521739130435,
          0.6956521739130435,
          0.7130434782608696,
          0.7130434782608696,
          0.7304347826086957,
          0.7478260869565218,
          0.7478260869565218,
          0.7565217391304347,
          0.7565217391304347,
          0.7565217391304347,
          0.7652173913043478,
          0.7739130434782608,
          0.782608695652174,
          0.782608695652174,
          0.7913043478260869,
          0.7913043478260869,
          0.8,
          0.8,
          0.8,
          0.808695652173913,
          0.8173913043478261,
          0.8173913043478261,
          0.8434782608695652,
          0.8434782608695652,
          0.8521739130434782,
          0.8521739130434782,
          0.8608695652173913,
          0.8695652173913043,
          0.8782608695652174,
          0.8869565217391304,
          0.8956521739130435,
          0.8956521739130435,
          0.9043478260869565,
          0.9217391304347826,
          0.9217391304347826,
          0.9217391304347826,
          0.9217391304347826,
          0.9304347826086956,
          0.9304347826086956,
          0.9391304347826087,
          0.9391304347826087,
          0.9565217391304348,
          0.9565217391304348,
          0.9565217391304348,
          0.9652173913043478,
          0.9652173913043478,
          0.9652173913043478,
          0.9652173913043478,
          0.9739130434782609,
          0.9739130434782609,
          0.9739130434782609,
          0.9739130434782609,
          0.9826086956521739,
          0.9826086956521739,
          0.991304347826087,
          0.991304347826087,
          1
         ],
         "yaxis": "y"
        },
        {
         "hovertemplate": "Class=No Tumor (AUC = 0.35)<br>FPR=%{x}<br>TPR=%{y}<extra></extra>",
         "legendgroup": "No Tumor (AUC = 0.35)",
         "line": {
          "color": "#00cc96",
          "dash": "solid"
         },
         "marker": {
          "symbol": "circle"
         },
         "mode": "lines",
         "name": "No Tumor (AUC = 0.35)",
         "orientation": "v",
         "showlegend": true,
         "type": "scatter",
         "x": [
          0,
          0.0034602076124567475,
          0.02422145328719723,
          0.031141868512110725,
          0.03806228373702422,
          0.04498269896193772,
          0.05536332179930796,
          0.05536332179930796,
          0.06228373702422145,
          0.06228373702422145,
          0.0657439446366782,
          0.0657439446366782,
          0.06920415224913495,
          0.06920415224913495,
          0.07612456747404844,
          0.07612456747404844,
          0.07958477508650519,
          0.08304498269896193,
          0.08650519031141868,
          0.08650519031141868,
          0.10034602076124567,
          0.12110726643598616,
          0.1245674740484429,
          0.1453287197231834,
          0.15570934256055363,
          0.15916955017301038,
          0.1695501730103806,
          0.17301038062283736,
          0.17993079584775087,
          0.18339100346020762,
          0.2041522491349481,
          0.2041522491349481,
          0.21107266435986158,
          0.2179930795847751,
          0.23183391003460208,
          0.23183391003460208,
          0.23875432525951557,
          0.25259515570934254,
          0.2629757785467128,
          0.2664359861591695,
          0.2768166089965398,
          0.2837370242214533,
          0.2906574394463668,
          0.29411764705882354,
          0.29411764705882354,
          0.30103806228373703,
          0.3217993079584775,
          0.33217993079584773,
          0.3356401384083045,
          0.3494809688581315,
          0.356401384083045,
          0.356401384083045,
          0.3771626297577855,
          0.39100346020761245,
          0.3944636678200692,
          0.3944636678200692,
          0.3944636678200692,
          0.4013840830449827,
          0.4083044982698962,
          0.4117647058823529,
          0.42214532871972316,
          0.4290657439446367,
          0.4290657439446367,
          0.4429065743944637,
          0.4463667820069204,
          0.4463667820069204,
          0.4532871972318339,
          0.47750865051903113,
          0.4844290657439446,
          0.48788927335640137,
          0.49480968858131485,
          0.49480968858131485,
          0.5051903114186851,
          0.5155709342560554,
          0.5155709342560554,
          0.5190311418685121,
          0.5190311418685121,
          0.5259515570934256,
          0.5294117647058824,
          0.5294117647058824,
          0.5294117647058824,
          0.5432525951557093,
          0.5536332179930796,
          0.5570934256055363,
          0.5570934256055363,
          0.5674740484429066,
          0.5778546712802768,
          0.5778546712802768,
          0.5847750865051903,
          0.5847750865051903,
          0.5916955017301038,
          0.5986159169550173,
          0.6055363321799307,
          0.6055363321799307,
          0.615916955017301,
          0.6262975778546713,
          0.6262975778546713,
          0.629757785467128,
          0.6366782006920415,
          0.6401384083044983,
          0.6470588235294118,
          0.657439446366782,
          0.657439446366782,
          0.6608996539792388,
          0.6608996539792388,
          0.6643598615916955,
          0.6643598615916955,
          0.671280276816609,
          0.6816608996539792,
          0.6816608996539792,
          0.6920415224913494,
          0.6920415224913494,
          0.6955017301038062,
          0.6955017301038062,
          0.698961937716263,
          0.698961937716263,
          0.7024221453287197,
          0.7024221453287197,
          0.7058823529411765,
          0.7058823529411765,
          0.71280276816609,
          0.71280276816609,
          0.7162629757785467,
          0.7162629757785467,
          0.7577854671280276,
          0.7647058823529411,
          0.7820069204152249,
          0.7820069204152249,
          0.7820069204152249,
          0.7820069204152249,
          0.7854671280276817,
          0.7854671280276817,
          0.7923875432525952,
          0.7923875432525952,
          0.8062283737024222,
          0.8131487889273357,
          0.8166089965397924,
          0.8235294117647058,
          0.8235294117647058,
          0.8442906574394463,
          0.8512110726643599,
          0.8581314878892734,
          0.8650519031141869,
          0.8685121107266436,
          0.8685121107266436,
          0.8719723183391004,
          0.8719723183391004,
          0.8858131487889274,
          0.8858131487889274,
          0.889273356401384,
          0.8961937716262975,
          0.8961937716262975,
          0.8996539792387543,
          0.8996539792387543,
          0.9204152249134948,
          0.9307958477508651,
          0.9446366782006921,
          0.9446366782006921,
          0.9446366782006921,
          0.9446366782006921,
          0.9515570934256056,
          0.9515570934256056,
          0.9584775086505191,
          0.9584775086505191,
          0.9619377162629758,
          0.9619377162629758,
          0.9653979238754326,
          0.9653979238754326,
          0.9653979238754326,
          0.972318339100346,
          0.972318339100346,
          0.972318339100346,
          0.972318339100346,
          0.9757785467128027,
          0.9757785467128027,
          0.9826989619377162,
          0.9826989619377162,
          0.9826989619377162,
          0.9826989619377162,
          0.986159169550173,
          0.986159169550173,
          0.9896193771626297,
          0.9965397923875432,
          0.9965397923875432,
          1
         ],
         "xaxis": "x",
         "y": [
          0,
          0,
          0,
          0,
          0,
          0,
          0,
          0.01904761904761905,
          0.01904761904761905,
          0.02857142857142857,
          0.02857142857142857,
          0.05714285714285714,
          0.05714285714285714,
          0.09523809523809523,
          0.09523809523809523,
          0.10476190476190476,
          0.10476190476190476,
          0.11428571428571428,
          0.11428571428571428,
          0.13333333333333333,
          0.13333333333333333,
          0.13333333333333333,
          0.13333333333333333,
          0.13333333333333333,
          0.13333333333333333,
          0.13333333333333333,
          0.13333333333333333,
          0.13333333333333333,
          0.14285714285714285,
          0.14285714285714285,
          0.14285714285714285,
          0.1523809523809524,
          0.1523809523809524,
          0.1523809523809524,
          0.1523809523809524,
          0.17142857142857143,
          0.17142857142857143,
          0.17142857142857143,
          0.17142857142857143,
          0.17142857142857143,
          0.17142857142857143,
          0.17142857142857143,
          0.17142857142857143,
          0.17142857142857143,
          0.2,
          0.2,
          0.2,
          0.2,
          0.2,
          0.2,
          0.2,
          0.20952380952380953,
          0.20952380952380953,
          0.20952380952380953,
          0.20952380952380953,
          0.22857142857142856,
          0.23809523809523808,
          0.23809523809523808,
          0.23809523809523808,
          0.23809523809523808,
          0.23809523809523808,
          0.23809523809523808,
          0.24761904761904763,
          0.24761904761904763,
          0.24761904761904763,
          0.2571428571428571,
          0.2571428571428571,
          0.2571428571428571,
          0.2571428571428571,
          0.2571428571428571,
          0.2571428571428571,
          0.26666666666666666,
          0.26666666666666666,
          0.26666666666666666,
          0.2857142857142857,
          0.2857142857142857,
          0.3047619047619048,
          0.3047619047619048,
          0.3047619047619048,
          0.3142857142857143,
          0.3333333333333333,
          0.3333333333333333,
          0.3333333333333333,
          0.3333333333333333,
          0.34285714285714286,
          0.34285714285714286,
          0.34285714285714286,
          0.37142857142857144,
          0.37142857142857144,
          0.38095238095238093,
          0.38095238095238093,
          0.38095238095238093,
          0.38095238095238093,
          0.3904761904761905,
          0.3904761904761905,
          0.3904761904761905,
          0.4,
          0.4,
          0.4,
          0.4,
          0.4,
          0.4,
          0.42857142857142855,
          0.42857142857142855,
          0.4380952380952381,
          0.4380952380952381,
          0.44761904761904764,
          0.44761904761904764,
          0.44761904761904764,
          0.45714285714285713,
          0.45714285714285713,
          0.4666666666666667,
          0.4666666666666667,
          0.47619047619047616,
          0.47619047619047616,
          0.4857142857142857,
          0.4857142857142857,
          0.49523809523809526,
          0.49523809523809526,
          0.5142857142857142,
          0.5142857142857142,
          0.5238095238095238,
          0.5238095238095238,
          0.5333333333333333,
          0.5333333333333333,
          0.5333333333333333,
          0.5333333333333333,
          0.5523809523809524,
          0.5619047619047619,
          0.580952380952381,
          0.580952380952381,
          0.5904761904761905,
          0.5904761904761905,
          0.6,
          0.6,
          0.6,
          0.6,
          0.6,
          0.6095238095238096,
          0.6095238095238096,
          0.6095238095238096,
          0.6095238095238096,
          0.6095238095238096,
          0.6095238095238096,
          0.6285714285714286,
          0.6285714285714286,
          0.638095238095238,
          0.638095238095238,
          0.6476190476190476,
          0.6476190476190476,
          0.6571428571428571,
          0.6761904761904762,
          0.6857142857142857,
          0.6952380952380952,
          0.6952380952380952,
          0.6952380952380952,
          0.6952380952380952,
          0.7047619047619048,
          0.7238095238095238,
          0.7333333333333333,
          0.7333333333333333,
          0.7619047619047619,
          0.7619047619047619,
          0.780952380952381,
          0.780952380952381,
          0.7904761904761904,
          0.7904761904761904,
          0.8,
          0.819047619047619,
          0.819047619047619,
          0.8380952380952381,
          0.8857142857142857,
          0.9047619047619048,
          0.9047619047619048,
          0.9142857142857143,
          0.9142857142857143,
          0.9238095238095239,
          0.9619047619047619,
          0.9714285714285714,
          0.9714285714285714,
          0.9809523809523809,
          0.9809523809523809,
          0.9809523809523809,
          1,
          1
         ],
         "yaxis": "y"
        },
        {
         "hovertemplate": "Class=Pituitary (AUC = 0.23)<br>FPR=%{x}<br>TPR=%{y}<extra></extra>",
         "legendgroup": "Pituitary (AUC = 0.23)",
         "line": {
          "color": "#ab63fa",
          "dash": "solid"
         },
         "marker": {
          "symbol": "circle"
         },
         "mode": "lines",
         "name": "Pituitary (AUC = 0.23)",
         "orientation": "v",
         "showlegend": true,
         "type": "scatter",
         "x": [
          0,
          0.003125,
          0.015625,
          0.028125,
          0.040625,
          0.05625,
          0.0625,
          0.078125,
          0.0875,
          0.090625,
          0.096875,
          0.1375,
          0.146875,
          0.1625,
          0.1625,
          0.184375,
          0.190625,
          0.2,
          0.2,
          0.234375,
          0.24375,
          0.246875,
          0.253125,
          0.26875,
          0.28125,
          0.31875,
          0.325,
          0.334375,
          0.340625,
          0.346875,
          0.35625,
          0.365625,
          0.365625,
          0.371875,
          0.378125,
          0.38125,
          0.3875,
          0.415625,
          0.421875,
          0.434375,
          0.440625,
          0.45,
          0.45,
          0.4875,
          0.49375,
          0.496875,
          0.503125,
          0.50625,
          0.509375,
          0.51875,
          0.528125,
          0.534375,
          0.534375,
          0.54375,
          0.55,
          0.559375,
          0.565625,
          0.565625,
          0.571875,
          0.584375,
          0.590625,
          0.6,
          0.60625,
          0.6125,
          0.621875,
          0.63125,
          0.634375,
          0.65,
          0.65625,
          0.684375,
          0.69375,
          0.7,
          0.703125,
          0.7125,
          0.721875,
          0.73125,
          0.7375,
          0.740625,
          0.746875,
          0.75,
          0.75,
          0.7625,
          0.7625,
          0.78125,
          0.78125,
          0.784375,
          0.784375,
          0.79375,
          0.8,
          0.80625,
          0.825,
          0.825,
          0.83125,
          0.83125,
          0.834375,
          0.834375,
          0.834375,
          0.840625,
          0.846875,
          0.85,
          0.853125,
          0.853125,
          0.853125,
          0.85625,
          0.8625,
          0.865625,
          0.878125,
          0.890625,
          0.89375,
          0.89375,
          0.896875,
          0.896875,
          0.896875,
          0.9,
          0.9,
          0.909375,
          0.934375,
          0.934375,
          0.95,
          0.953125,
          0.9625,
          0.965625,
          0.96875,
          0.971875,
          0.978125,
          0.984375,
          0.984375,
          0.990625,
          0.996875,
          0.996875,
          0.996875,
          1
         ],
         "xaxis": "x",
         "y": [
          0,
          0,
          0,
          0,
          0,
          0,
          0,
          0,
          0,
          0,
          0,
          0,
          0,
          0,
          0.04054054054054054,
          0.04054054054054054,
          0.04054054054054054,
          0.04054054054054054,
          0.06756756756756757,
          0.06756756756756757,
          0.06756756756756757,
          0.06756756756756757,
          0.06756756756756757,
          0.06756756756756757,
          0.06756756756756757,
          0.06756756756756757,
          0.06756756756756757,
          0.06756756756756757,
          0.06756756756756757,
          0.06756756756756757,
          0.06756756756756757,
          0.06756756756756757,
          0.08108108108108109,
          0.08108108108108109,
          0.08108108108108109,
          0.08108108108108109,
          0.08108108108108109,
          0.08108108108108109,
          0.08108108108108109,
          0.08108108108108109,
          0.08108108108108109,
          0.08108108108108109,
          0.12162162162162163,
          0.12162162162162163,
          0.12162162162162163,
          0.12162162162162163,
          0.12162162162162163,
          0.12162162162162163,
          0.16216216216216217,
          0.16216216216216217,
          0.16216216216216217,
          0.16216216216216217,
          0.17567567567567569,
          0.17567567567567569,
          0.17567567567567569,
          0.17567567567567569,
          0.17567567567567569,
          0.21621621621621623,
          0.21621621621621623,
          0.21621621621621623,
          0.21621621621621623,
          0.21621621621621623,
          0.21621621621621623,
          0.21621621621621623,
          0.21621621621621623,
          0.21621621621621623,
          0.21621621621621623,
          0.21621621621621623,
          0.21621621621621623,
          0.21621621621621623,
          0.21621621621621623,
          0.21621621621621623,
          0.25675675675675674,
          0.25675675675675674,
          0.25675675675675674,
          0.25675675675675674,
          0.25675675675675674,
          0.25675675675675674,
          0.25675675675675674,
          0.25675675675675674,
          0.28378378378378377,
          0.28378378378378377,
          0.2972972972972973,
          0.2972972972972973,
          0.35135135135135137,
          0.35135135135135137,
          0.3783783783783784,
          0.3783783783783784,
          0.3783783783783784,
          0.3783783783783784,
          0.3783783783783784,
          0.40540540540540543,
          0.40540540540540543,
          0.44594594594594594,
          0.44594594594594594,
          0.4864864864864865,
          0.5405405405405406,
          0.5405405405405406,
          0.5405405405405406,
          0.5540540540540541,
          0.5540540540540541,
          0.5675675675675675,
          0.6081081081081081,
          0.6081081081081081,
          0.6081081081081081,
          0.6081081081081081,
          0.6081081081081081,
          0.6081081081081081,
          0.6081081081081081,
          0.6351351351351351,
          0.6486486486486487,
          0.7162162162162162,
          0.7432432432432432,
          0.7702702702702703,
          0.8513513513513513,
          0.8513513513513513,
          0.8513513513513513,
          0.8648648648648649,
          0.8648648648648649,
          0.8648648648648649,
          0.8648648648648649,
          0.8648648648648649,
          0.8783783783783784,
          0.8783783783783784,
          0.8783783783783784,
          0.8783783783783784,
          0.8918918918918919,
          0.8918918918918919,
          0.8918918918918919,
          0.918918918918919,
          1,
          1
         ],
         "yaxis": "y"
        }
       ],
       "layout": {
        "legend": {
         "title": {
          "text": "Class"
         },
         "tracegroupgap": 0
        },
        "shapes": [
         {
          "line": {
           "color": "gray",
           "dash": "dash"
          },
          "type": "line",
          "x0": 0,
          "x1": 1,
          "y0": 0,
          "y1": 1
         }
        ],
        "template": {
         "data": {
          "bar": [
           {
            "error_x": {
             "color": "#2a3f5f"
            },
            "error_y": {
             "color": "#2a3f5f"
            },
            "marker": {
             "line": {
              "color": "#E5ECF6",
              "width": 0.5
             },
             "pattern": {
              "fillmode": "overlay",
              "size": 10,
              "solidity": 0.2
             }
            },
            "type": "bar"
           }
          ],
          "barpolar": [
           {
            "marker": {
             "line": {
              "color": "#E5ECF6",
              "width": 0.5
             },
             "pattern": {
              "fillmode": "overlay",
              "size": 10,
              "solidity": 0.2
             }
            },
            "type": "barpolar"
           }
          ],
          "carpet": [
           {
            "aaxis": {
             "endlinecolor": "#2a3f5f",
             "gridcolor": "white",
             "linecolor": "white",
             "minorgridcolor": "white",
             "startlinecolor": "#2a3f5f"
            },
            "baxis": {
             "endlinecolor": "#2a3f5f",
             "gridcolor": "white",
             "linecolor": "white",
             "minorgridcolor": "white",
             "startlinecolor": "#2a3f5f"
            },
            "type": "carpet"
           }
          ],
          "choropleth": [
           {
            "colorbar": {
             "outlinewidth": 0,
             "ticks": ""
            },
            "type": "choropleth"
           }
          ],
          "contour": [
           {
            "colorbar": {
             "outlinewidth": 0,
             "ticks": ""
            },
            "colorscale": [
             [
              0,
              "#0d0887"
             ],
             [
              0.1111111111111111,
              "#46039f"
             ],
             [
              0.2222222222222222,
              "#7201a8"
             ],
             [
              0.3333333333333333,
              "#9c179e"
             ],
             [
              0.4444444444444444,
              "#bd3786"
             ],
             [
              0.5555555555555556,
              "#d8576b"
             ],
             [
              0.6666666666666666,
              "#ed7953"
             ],
             [
              0.7777777777777778,
              "#fb9f3a"
             ],
             [
              0.8888888888888888,
              "#fdca26"
             ],
             [
              1,
              "#f0f921"
             ]
            ],
            "type": "contour"
           }
          ],
          "contourcarpet": [
           {
            "colorbar": {
             "outlinewidth": 0,
             "ticks": ""
            },
            "type": "contourcarpet"
           }
          ],
          "heatmap": [
           {
            "colorbar": {
             "outlinewidth": 0,
             "ticks": ""
            },
            "colorscale": [
             [
              0,
              "#0d0887"
             ],
             [
              0.1111111111111111,
              "#46039f"
             ],
             [
              0.2222222222222222,
              "#7201a8"
             ],
             [
              0.3333333333333333,
              "#9c179e"
             ],
             [
              0.4444444444444444,
              "#bd3786"
             ],
             [
              0.5555555555555556,
              "#d8576b"
             ],
             [
              0.6666666666666666,
              "#ed7953"
             ],
             [
              0.7777777777777778,
              "#fb9f3a"
             ],
             [
              0.8888888888888888,
              "#fdca26"
             ],
             [
              1,
              "#f0f921"
             ]
            ],
            "type": "heatmap"
           }
          ],
          "heatmapgl": [
           {
            "colorbar": {
             "outlinewidth": 0,
             "ticks": ""
            },
            "colorscale": [
             [
              0,
              "#0d0887"
             ],
             [
              0.1111111111111111,
              "#46039f"
             ],
             [
              0.2222222222222222,
              "#7201a8"
             ],
             [
              0.3333333333333333,
              "#9c179e"
             ],
             [
              0.4444444444444444,
              "#bd3786"
             ],
             [
              0.5555555555555556,
              "#d8576b"
             ],
             [
              0.6666666666666666,
              "#ed7953"
             ],
             [
              0.7777777777777778,
              "#fb9f3a"
             ],
             [
              0.8888888888888888,
              "#fdca26"
             ],
             [
              1,
              "#f0f921"
             ]
            ],
            "type": "heatmapgl"
           }
          ],
          "histogram": [
           {
            "marker": {
             "pattern": {
              "fillmode": "overlay",
              "size": 10,
              "solidity": 0.2
             }
            },
            "type": "histogram"
           }
          ],
          "histogram2d": [
           {
            "colorbar": {
             "outlinewidth": 0,
             "ticks": ""
            },
            "colorscale": [
             [
              0,
              "#0d0887"
             ],
             [
              0.1111111111111111,
              "#46039f"
             ],
             [
              0.2222222222222222,
              "#7201a8"
             ],
             [
              0.3333333333333333,
              "#9c179e"
             ],
             [
              0.4444444444444444,
              "#bd3786"
             ],
             [
              0.5555555555555556,
              "#d8576b"
             ],
             [
              0.6666666666666666,
              "#ed7953"
             ],
             [
              0.7777777777777778,
              "#fb9f3a"
             ],
             [
              0.8888888888888888,
              "#fdca26"
             ],
             [
              1,
              "#f0f921"
             ]
            ],
            "type": "histogram2d"
           }
          ],
          "histogram2dcontour": [
           {
            "colorbar": {
             "outlinewidth": 0,
             "ticks": ""
            },
            "colorscale": [
             [
              0,
              "#0d0887"
             ],
             [
              0.1111111111111111,
              "#46039f"
             ],
             [
              0.2222222222222222,
              "#7201a8"
             ],
             [
              0.3333333333333333,
              "#9c179e"
             ],
             [
              0.4444444444444444,
              "#bd3786"
             ],
             [
              0.5555555555555556,
              "#d8576b"
             ],
             [
              0.6666666666666666,
              "#ed7953"
             ],
             [
              0.7777777777777778,
              "#fb9f3a"
             ],
             [
              0.8888888888888888,
              "#fdca26"
             ],
             [
              1,
              "#f0f921"
             ]
            ],
            "type": "histogram2dcontour"
           }
          ],
          "mesh3d": [
           {
            "colorbar": {
             "outlinewidth": 0,
             "ticks": ""
            },
            "type": "mesh3d"
           }
          ],
          "parcoords": [
           {
            "line": {
             "colorbar": {
              "outlinewidth": 0,
              "ticks": ""
             }
            },
            "type": "parcoords"
           }
          ],
          "pie": [
           {
            "automargin": true,
            "type": "pie"
           }
          ],
          "scatter": [
           {
            "fillpattern": {
             "fillmode": "overlay",
             "size": 10,
             "solidity": 0.2
            },
            "type": "scatter"
           }
          ],
          "scatter3d": [
           {
            "line": {
             "colorbar": {
              "outlinewidth": 0,
              "ticks": ""
             }
            },
            "marker": {
             "colorbar": {
              "outlinewidth": 0,
              "ticks": ""
             }
            },
            "type": "scatter3d"
           }
          ],
          "scattercarpet": [
           {
            "marker": {
             "colorbar": {
              "outlinewidth": 0,
              "ticks": ""
             }
            },
            "type": "scattercarpet"
           }
          ],
          "scattergeo": [
           {
            "marker": {
             "colorbar": {
              "outlinewidth": 0,
              "ticks": ""
             }
            },
            "type": "scattergeo"
           }
          ],
          "scattergl": [
           {
            "marker": {
             "colorbar": {
              "outlinewidth": 0,
              "ticks": ""
             }
            },
            "type": "scattergl"
           }
          ],
          "scattermapbox": [
           {
            "marker": {
             "colorbar": {
              "outlinewidth": 0,
              "ticks": ""
             }
            },
            "type": "scattermapbox"
           }
          ],
          "scatterpolar": [
           {
            "marker": {
             "colorbar": {
              "outlinewidth": 0,
              "ticks": ""
             }
            },
            "type": "scatterpolar"
           }
          ],
          "scatterpolargl": [
           {
            "marker": {
             "colorbar": {
              "outlinewidth": 0,
              "ticks": ""
             }
            },
            "type": "scatterpolargl"
           }
          ],
          "scatterternary": [
           {
            "marker": {
             "colorbar": {
              "outlinewidth": 0,
              "ticks": ""
             }
            },
            "type": "scatterternary"
           }
          ],
          "surface": [
           {
            "colorbar": {
             "outlinewidth": 0,
             "ticks": ""
            },
            "colorscale": [
             [
              0,
              "#0d0887"
             ],
             [
              0.1111111111111111,
              "#46039f"
             ],
             [
              0.2222222222222222,
              "#7201a8"
             ],
             [
              0.3333333333333333,
              "#9c179e"
             ],
             [
              0.4444444444444444,
              "#bd3786"
             ],
             [
              0.5555555555555556,
              "#d8576b"
             ],
             [
              0.6666666666666666,
              "#ed7953"
             ],
             [
              0.7777777777777778,
              "#fb9f3a"
             ],
             [
              0.8888888888888888,
              "#fdca26"
             ],
             [
              1,
              "#f0f921"
             ]
            ],
            "type": "surface"
           }
          ],
          "table": [
           {
            "cells": {
             "fill": {
              "color": "#EBF0F8"
             },
             "line": {
              "color": "white"
             }
            },
            "header": {
             "fill": {
              "color": "#C8D4E3"
             },
             "line": {
              "color": "white"
             }
            },
            "type": "table"
           }
          ]
         },
         "layout": {
          "annotationdefaults": {
           "arrowcolor": "#2a3f5f",
           "arrowhead": 0,
           "arrowwidth": 1
          },
          "autotypenumbers": "strict",
          "coloraxis": {
           "colorbar": {
            "outlinewidth": 0,
            "ticks": ""
           }
          },
          "colorscale": {
           "diverging": [
            [
             0,
             "#8e0152"
            ],
            [
             0.1,
             "#c51b7d"
            ],
            [
             0.2,
             "#de77ae"
            ],
            [
             0.3,
             "#f1b6da"
            ],
            [
             0.4,
             "#fde0ef"
            ],
            [
             0.5,
             "#f7f7f7"
            ],
            [
             0.6,
             "#e6f5d0"
            ],
            [
             0.7,
             "#b8e186"
            ],
            [
             0.8,
             "#7fbc41"
            ],
            [
             0.9,
             "#4d9221"
            ],
            [
             1,
             "#276419"
            ]
           ],
           "sequential": [
            [
             0,
             "#0d0887"
            ],
            [
             0.1111111111111111,
             "#46039f"
            ],
            [
             0.2222222222222222,
             "#7201a8"
            ],
            [
             0.3333333333333333,
             "#9c179e"
            ],
            [
             0.4444444444444444,
             "#bd3786"
            ],
            [
             0.5555555555555556,
             "#d8576b"
            ],
            [
             0.6666666666666666,
             "#ed7953"
            ],
            [
             0.7777777777777778,
             "#fb9f3a"
            ],
            [
             0.8888888888888888,
             "#fdca26"
            ],
            [
             1,
             "#f0f921"
            ]
           ],
           "sequentialminus": [
            [
             0,
             "#0d0887"
            ],
            [
             0.1111111111111111,
             "#46039f"
            ],
            [
             0.2222222222222222,
             "#7201a8"
            ],
            [
             0.3333333333333333,
             "#9c179e"
            ],
            [
             0.4444444444444444,
             "#bd3786"
            ],
            [
             0.5555555555555556,
             "#d8576b"
            ],
            [
             0.6666666666666666,
             "#ed7953"
            ],
            [
             0.7777777777777778,
             "#fb9f3a"
            ],
            [
             0.8888888888888888,
             "#fdca26"
            ],
            [
             1,
             "#f0f921"
            ]
           ]
          },
          "colorway": [
           "#636efa",
           "#EF553B",
           "#00cc96",
           "#ab63fa",
           "#FFA15A",
           "#19d3f3",
           "#FF6692",
           "#B6E880",
           "#FF97FF",
           "#FECB52"
          ],
          "font": {
           "color": "#2a3f5f"
          },
          "geo": {
           "bgcolor": "white",
           "lakecolor": "white",
           "landcolor": "#E5ECF6",
           "showlakes": true,
           "showland": true,
           "subunitcolor": "white"
          },
          "hoverlabel": {
           "align": "left"
          },
          "hovermode": "closest",
          "mapbox": {
           "style": "light"
          },
          "paper_bgcolor": "white",
          "plot_bgcolor": "#E5ECF6",
          "polar": {
           "angularaxis": {
            "gridcolor": "white",
            "linecolor": "white",
            "ticks": ""
           },
           "bgcolor": "#E5ECF6",
           "radialaxis": {
            "gridcolor": "white",
            "linecolor": "white",
            "ticks": ""
           }
          },
          "scene": {
           "xaxis": {
            "backgroundcolor": "#E5ECF6",
            "gridcolor": "white",
            "gridwidth": 2,
            "linecolor": "white",
            "showbackground": true,
            "ticks": "",
            "zerolinecolor": "white"
           },
           "yaxis": {
            "backgroundcolor": "#E5ECF6",
            "gridcolor": "white",
            "gridwidth": 2,
            "linecolor": "white",
            "showbackground": true,
            "ticks": "",
            "zerolinecolor": "white"
           },
           "zaxis": {
            "backgroundcolor": "#E5ECF6",
            "gridcolor": "white",
            "gridwidth": 2,
            "linecolor": "white",
            "showbackground": true,
            "ticks": "",
            "zerolinecolor": "white"
           }
          },
          "shapedefaults": {
           "line": {
            "color": "#2a3f5f"
           }
          },
          "ternary": {
           "aaxis": {
            "gridcolor": "white",
            "linecolor": "white",
            "ticks": ""
           },
           "baxis": {
            "gridcolor": "white",
            "linecolor": "white",
            "ticks": ""
           },
           "bgcolor": "#E5ECF6",
           "caxis": {
            "gridcolor": "white",
            "linecolor": "white",
            "ticks": ""
           }
          },
          "title": {
           "x": 0.05
          },
          "xaxis": {
           "automargin": true,
           "gridcolor": "white",
           "linecolor": "white",
           "ticks": "",
           "title": {
            "standoff": 15
           },
           "zerolinecolor": "white",
           "zerolinewidth": 2
          },
          "yaxis": {
           "automargin": true,
           "gridcolor": "white",
           "linecolor": "white",
           "ticks": "",
           "title": {
            "standoff": 15
           },
           "zerolinecolor": "white",
           "zerolinewidth": 2
          }
         }
        },
        "title": {
         "text": "ROC Curve"
        },
        "xaxis": {
         "anchor": "y",
         "domain": [
          0,
          1
         ],
         "title": {
          "text": "False Positive Rate"
         }
        },
        "yaxis": {
         "anchor": "x",
         "domain": [
          0,
          1
         ],
         "title": {
          "text": "True Positive Rate"
         }
        }
       }
      }
     },
     "metadata": {},
     "output_type": "display_data"
    }
   ],
   "source": [
    "courbe_ROC(model_3,x_test,y_test)"
   ]
  },
  {
   "cell_type": "markdown",
   "metadata": {},
   "source": [
    "# Analyse du Modèle 3\n",
    "\n",
    "## 1. Matrice de confusion\n",
    "\n",
    "La matrice de confusion révèle les performances du modèle sur chaque classe :\n",
    "\n",
    "- **Glioma** :\n",
    "  - Vrais positifs (VP) : 100\n",
    "  - Faux positifs (FP) : 115 + 105 + 74 = 294\n",
    "  - Faux négatifs (FN) : 0\n",
    "  \n",
    "- **Meningioma** :\n",
    "  - Vrais positifs (VP) : 0\n",
    "  - Faux positifs (FP) : 0\n",
    "  - Faux négatifs (FN) : 115\n",
    "\n",
    "- **No Tumor** :\n",
    "  - Vrais positifs (VP) : 0\n",
    "  - Faux positifs (FP) : 0\n",
    "  - Faux négatifs (FN) : 105\n",
    "\n",
    "- **Pituitary** :\n",
    "  - Vrais positifs (VP) : 0\n",
    "  - Faux positifs (FP) : 0\n",
    "  - Faux négatifs (FN) : 74\n",
    "\n",
    "### Observations :\n",
    "- Le modèle prédit exclusivement la classe **Glioma**, ignorant complètement les autres classes.\n",
    "- Cela indique un problème grave dans l'entraînement du modèle, tel qu'un fort déséquilibre des données ou une erreur dans la configuration de la sortie des prédictions.\n",
    "Nous verrons plus tard l'effet de la fonction sigmoid qui est à l'origine de ce desequilibre.\n",
    "---\n",
    "\n",
    "## 2. Courbes ROC et AUC\n",
    "Les courbes ROC et les scores AUC permettent de visualiser les performances globales du modèle pour chaque classe.\n",
    "\n",
    "- **Glioma** : AUC = 0.57\n",
    "  - La performance est faible, indiquant que le modèle a des difficultés à différencier cette classe des autres.\n",
    "\n",
    "- **Meningioma** : AUC = 0.51\n",
    "  - La performance est moyenne, montrant une différenciation limitée entre cette classe et les autres.\n",
    "\n",
    "- **No Tumor** : AUC = 0.35\n",
    "  - La performance est faible, le modèle ne distingue pas bien cette classe des autres.\n",
    "\n",
    "- **Pituitary** : AUC = 0.23\n",
    "  - La performance est très faible, montrant une incapacité à différencier cette classe des autres.\n",
    "\n",
    "### Observations\n",
    "\n",
    "Les résultats obtenus sont très mauvais, à tel point qu'une prédiction aléatoire serait plus efficace.  \n",
    "Cela peut s'expliquer par une saturation de la fonction **sigmoid**, qui limite la capacité du modèle à apprendre des données de manière efficace.\n"
   ]
  },
  {
   "cell_type": "markdown",
   "metadata": {},
   "source": [
    "# Équilibre des Classes : Data Augmentation avec ImageDataGenerator\n",
    "\n",
    "## Qu'est-ce que l'ImageDataGenerator ?\n",
    "L'`ImageDataGenerator` est une classe de la bibliothèque **Keras** utilisée pour générer de nouvelles images à partir des données existantes. Elle applique des transformations comme des rotations, des zooms ou des décalages afin d'augmenter artificiellement la taille et la diversité du jeu de données.\n",
    "\n",
    "## Transformations Appliquées\n",
    "Pour **équilibrer les classes et améliorer la robustesse du modèle**, nous avons utilisé les transformations suivantes :\n",
    " \n",
    "- **Rotations** : Pour varier les orientations des images.  \n",
    "- **Zooms** : Pour simuler des variations de taille ou d'échelle.  \n",
    "- **Décalages horizontaux et verticaux** : Pour introduire des variations dans les positions.\n",
    "\n",
    "## Objectifs\n",
    "1. **Équilibrer les classes** : Générer plus d'exemples pour les classes sous-représentées.  \n",
    "2. **Améliorer la robustesse du modèle** : Le rendre plus résilient aux variations des données du monde réel.\n",
    "\n",
    "Ces techniques permettent d'augmenter la diversité des données et de réduire le surapprentissage, contribuant ainsi à des performances globales améliorées.\n"
   ]
  },
  {
   "cell_type": "markdown",
   "metadata": {},
   "source": [
    "# Modele 1 VS Modele 2"
   ]
  },
  {
   "cell_type": "code",
   "execution_count": 14,
   "metadata": {},
   "outputs": [
    {
     "data": {
      "application/vnd.plotly.v1+json": {
       "config": {
        "plotlyServerURL": "https://plot.ly"
       },
       "data": [
        {
         "mode": "lines+markers",
         "name": "Training Accuracy",
         "type": "scatter",
         "x": [
          1,
          2,
          3,
          4,
          5,
          6
         ],
         "xaxis": "x",
         "y": [
          0.5668,
          0.7784,
          0.8742,
          0.9242,
          0.9491,
          0.9647
         ],
         "yaxis": "y"
        },
        {
         "mode": "lines+markers",
         "name": "Validation Accuracy",
         "type": "scatter",
         "x": [
          1,
          2,
          3,
          4,
          5,
          6
         ],
         "xaxis": "x",
         "y": [
          0.6946,
          0.8098,
          0.8272,
          0.8377,
          0.8709,
          0.8831
         ],
         "yaxis": "y"
        },
        {
         "mode": "lines+markers",
         "name": "Training Loss",
         "type": "scatter",
         "x": [
          1,
          2,
          3,
          4,
          5,
          6
         ],
         "xaxis": "x2",
         "y": [
          18.21,
          0.5739,
          0.3287,
          0.197,
          0.1368,
          0.1061
         ],
         "yaxis": "y2"
        },
        {
         "mode": "lines+markers",
         "name": "Validation Loss",
         "type": "scatter",
         "x": [
          1,
          2,
          3,
          4,
          5,
          6
         ],
         "xaxis": "x2",
         "y": [
          0.6798,
          0.492,
          0.4757,
          0.5043,
          0.4786,
          0.4901
         ],
         "yaxis": "y2"
        }
       ],
       "layout": {
        "annotations": [
         {
          "font": {
           "size": 16
          },
          "showarrow": false,
          "text": "Accuracy",
          "x": 0.225,
          "xanchor": "center",
          "xref": "paper",
          "y": 1,
          "yanchor": "bottom",
          "yref": "paper"
         },
         {
          "font": {
           "size": 16
          },
          "showarrow": false,
          "text": "Loss",
          "x": 0.775,
          "xanchor": "center",
          "xref": "paper",
          "y": 1,
          "yanchor": "bottom",
          "yref": "paper"
         }
        ],
        "template": {
         "data": {
          "bar": [
           {
            "error_x": {
             "color": "#2a3f5f"
            },
            "error_y": {
             "color": "#2a3f5f"
            },
            "marker": {
             "line": {
              "color": "white",
              "width": 0.5
             },
             "pattern": {
              "fillmode": "overlay",
              "size": 10,
              "solidity": 0.2
             }
            },
            "type": "bar"
           }
          ],
          "barpolar": [
           {
            "marker": {
             "line": {
              "color": "white",
              "width": 0.5
             },
             "pattern": {
              "fillmode": "overlay",
              "size": 10,
              "solidity": 0.2
             }
            },
            "type": "barpolar"
           }
          ],
          "carpet": [
           {
            "aaxis": {
             "endlinecolor": "#2a3f5f",
             "gridcolor": "#C8D4E3",
             "linecolor": "#C8D4E3",
             "minorgridcolor": "#C8D4E3",
             "startlinecolor": "#2a3f5f"
            },
            "baxis": {
             "endlinecolor": "#2a3f5f",
             "gridcolor": "#C8D4E3",
             "linecolor": "#C8D4E3",
             "minorgridcolor": "#C8D4E3",
             "startlinecolor": "#2a3f5f"
            },
            "type": "carpet"
           }
          ],
          "choropleth": [
           {
            "colorbar": {
             "outlinewidth": 0,
             "ticks": ""
            },
            "type": "choropleth"
           }
          ],
          "contour": [
           {
            "colorbar": {
             "outlinewidth": 0,
             "ticks": ""
            },
            "colorscale": [
             [
              0,
              "#0d0887"
             ],
             [
              0.1111111111111111,
              "#46039f"
             ],
             [
              0.2222222222222222,
              "#7201a8"
             ],
             [
              0.3333333333333333,
              "#9c179e"
             ],
             [
              0.4444444444444444,
              "#bd3786"
             ],
             [
              0.5555555555555556,
              "#d8576b"
             ],
             [
              0.6666666666666666,
              "#ed7953"
             ],
             [
              0.7777777777777778,
              "#fb9f3a"
             ],
             [
              0.8888888888888888,
              "#fdca26"
             ],
             [
              1,
              "#f0f921"
             ]
            ],
            "type": "contour"
           }
          ],
          "contourcarpet": [
           {
            "colorbar": {
             "outlinewidth": 0,
             "ticks": ""
            },
            "type": "contourcarpet"
           }
          ],
          "heatmap": [
           {
            "colorbar": {
             "outlinewidth": 0,
             "ticks": ""
            },
            "colorscale": [
             [
              0,
              "#0d0887"
             ],
             [
              0.1111111111111111,
              "#46039f"
             ],
             [
              0.2222222222222222,
              "#7201a8"
             ],
             [
              0.3333333333333333,
              "#9c179e"
             ],
             [
              0.4444444444444444,
              "#bd3786"
             ],
             [
              0.5555555555555556,
              "#d8576b"
             ],
             [
              0.6666666666666666,
              "#ed7953"
             ],
             [
              0.7777777777777778,
              "#fb9f3a"
             ],
             [
              0.8888888888888888,
              "#fdca26"
             ],
             [
              1,
              "#f0f921"
             ]
            ],
            "type": "heatmap"
           }
          ],
          "heatmapgl": [
           {
            "colorbar": {
             "outlinewidth": 0,
             "ticks": ""
            },
            "colorscale": [
             [
              0,
              "#0d0887"
             ],
             [
              0.1111111111111111,
              "#46039f"
             ],
             [
              0.2222222222222222,
              "#7201a8"
             ],
             [
              0.3333333333333333,
              "#9c179e"
             ],
             [
              0.4444444444444444,
              "#bd3786"
             ],
             [
              0.5555555555555556,
              "#d8576b"
             ],
             [
              0.6666666666666666,
              "#ed7953"
             ],
             [
              0.7777777777777778,
              "#fb9f3a"
             ],
             [
              0.8888888888888888,
              "#fdca26"
             ],
             [
              1,
              "#f0f921"
             ]
            ],
            "type": "heatmapgl"
           }
          ],
          "histogram": [
           {
            "marker": {
             "pattern": {
              "fillmode": "overlay",
              "size": 10,
              "solidity": 0.2
             }
            },
            "type": "histogram"
           }
          ],
          "histogram2d": [
           {
            "colorbar": {
             "outlinewidth": 0,
             "ticks": ""
            },
            "colorscale": [
             [
              0,
              "#0d0887"
             ],
             [
              0.1111111111111111,
              "#46039f"
             ],
             [
              0.2222222222222222,
              "#7201a8"
             ],
             [
              0.3333333333333333,
              "#9c179e"
             ],
             [
              0.4444444444444444,
              "#bd3786"
             ],
             [
              0.5555555555555556,
              "#d8576b"
             ],
             [
              0.6666666666666666,
              "#ed7953"
             ],
             [
              0.7777777777777778,
              "#fb9f3a"
             ],
             [
              0.8888888888888888,
              "#fdca26"
             ],
             [
              1,
              "#f0f921"
             ]
            ],
            "type": "histogram2d"
           }
          ],
          "histogram2dcontour": [
           {
            "colorbar": {
             "outlinewidth": 0,
             "ticks": ""
            },
            "colorscale": [
             [
              0,
              "#0d0887"
             ],
             [
              0.1111111111111111,
              "#46039f"
             ],
             [
              0.2222222222222222,
              "#7201a8"
             ],
             [
              0.3333333333333333,
              "#9c179e"
             ],
             [
              0.4444444444444444,
              "#bd3786"
             ],
             [
              0.5555555555555556,
              "#d8576b"
             ],
             [
              0.6666666666666666,
              "#ed7953"
             ],
             [
              0.7777777777777778,
              "#fb9f3a"
             ],
             [
              0.8888888888888888,
              "#fdca26"
             ],
             [
              1,
              "#f0f921"
             ]
            ],
            "type": "histogram2dcontour"
           }
          ],
          "mesh3d": [
           {
            "colorbar": {
             "outlinewidth": 0,
             "ticks": ""
            },
            "type": "mesh3d"
           }
          ],
          "parcoords": [
           {
            "line": {
             "colorbar": {
              "outlinewidth": 0,
              "ticks": ""
             }
            },
            "type": "parcoords"
           }
          ],
          "pie": [
           {
            "automargin": true,
            "type": "pie"
           }
          ],
          "scatter": [
           {
            "fillpattern": {
             "fillmode": "overlay",
             "size": 10,
             "solidity": 0.2
            },
            "type": "scatter"
           }
          ],
          "scatter3d": [
           {
            "line": {
             "colorbar": {
              "outlinewidth": 0,
              "ticks": ""
             }
            },
            "marker": {
             "colorbar": {
              "outlinewidth": 0,
              "ticks": ""
             }
            },
            "type": "scatter3d"
           }
          ],
          "scattercarpet": [
           {
            "marker": {
             "colorbar": {
              "outlinewidth": 0,
              "ticks": ""
             }
            },
            "type": "scattercarpet"
           }
          ],
          "scattergeo": [
           {
            "marker": {
             "colorbar": {
              "outlinewidth": 0,
              "ticks": ""
             }
            },
            "type": "scattergeo"
           }
          ],
          "scattergl": [
           {
            "marker": {
             "colorbar": {
              "outlinewidth": 0,
              "ticks": ""
             }
            },
            "type": "scattergl"
           }
          ],
          "scattermapbox": [
           {
            "marker": {
             "colorbar": {
              "outlinewidth": 0,
              "ticks": ""
             }
            },
            "type": "scattermapbox"
           }
          ],
          "scatterpolar": [
           {
            "marker": {
             "colorbar": {
              "outlinewidth": 0,
              "ticks": ""
             }
            },
            "type": "scatterpolar"
           }
          ],
          "scatterpolargl": [
           {
            "marker": {
             "colorbar": {
              "outlinewidth": 0,
              "ticks": ""
             }
            },
            "type": "scatterpolargl"
           }
          ],
          "scatterternary": [
           {
            "marker": {
             "colorbar": {
              "outlinewidth": 0,
              "ticks": ""
             }
            },
            "type": "scatterternary"
           }
          ],
          "surface": [
           {
            "colorbar": {
             "outlinewidth": 0,
             "ticks": ""
            },
            "colorscale": [
             [
              0,
              "#0d0887"
             ],
             [
              0.1111111111111111,
              "#46039f"
             ],
             [
              0.2222222222222222,
              "#7201a8"
             ],
             [
              0.3333333333333333,
              "#9c179e"
             ],
             [
              0.4444444444444444,
              "#bd3786"
             ],
             [
              0.5555555555555556,
              "#d8576b"
             ],
             [
              0.6666666666666666,
              "#ed7953"
             ],
             [
              0.7777777777777778,
              "#fb9f3a"
             ],
             [
              0.8888888888888888,
              "#fdca26"
             ],
             [
              1,
              "#f0f921"
             ]
            ],
            "type": "surface"
           }
          ],
          "table": [
           {
            "cells": {
             "fill": {
              "color": "#EBF0F8"
             },
             "line": {
              "color": "white"
             }
            },
            "header": {
             "fill": {
              "color": "#C8D4E3"
             },
             "line": {
              "color": "white"
             }
            },
            "type": "table"
           }
          ]
         },
         "layout": {
          "annotationdefaults": {
           "arrowcolor": "#2a3f5f",
           "arrowhead": 0,
           "arrowwidth": 1
          },
          "autotypenumbers": "strict",
          "coloraxis": {
           "colorbar": {
            "outlinewidth": 0,
            "ticks": ""
           }
          },
          "colorscale": {
           "diverging": [
            [
             0,
             "#8e0152"
            ],
            [
             0.1,
             "#c51b7d"
            ],
            [
             0.2,
             "#de77ae"
            ],
            [
             0.3,
             "#f1b6da"
            ],
            [
             0.4,
             "#fde0ef"
            ],
            [
             0.5,
             "#f7f7f7"
            ],
            [
             0.6,
             "#e6f5d0"
            ],
            [
             0.7,
             "#b8e186"
            ],
            [
             0.8,
             "#7fbc41"
            ],
            [
             0.9,
             "#4d9221"
            ],
            [
             1,
             "#276419"
            ]
           ],
           "sequential": [
            [
             0,
             "#0d0887"
            ],
            [
             0.1111111111111111,
             "#46039f"
            ],
            [
             0.2222222222222222,
             "#7201a8"
            ],
            [
             0.3333333333333333,
             "#9c179e"
            ],
            [
             0.4444444444444444,
             "#bd3786"
            ],
            [
             0.5555555555555556,
             "#d8576b"
            ],
            [
             0.6666666666666666,
             "#ed7953"
            ],
            [
             0.7777777777777778,
             "#fb9f3a"
            ],
            [
             0.8888888888888888,
             "#fdca26"
            ],
            [
             1,
             "#f0f921"
            ]
           ],
           "sequentialminus": [
            [
             0,
             "#0d0887"
            ],
            [
             0.1111111111111111,
             "#46039f"
            ],
            [
             0.2222222222222222,
             "#7201a8"
            ],
            [
             0.3333333333333333,
             "#9c179e"
            ],
            [
             0.4444444444444444,
             "#bd3786"
            ],
            [
             0.5555555555555556,
             "#d8576b"
            ],
            [
             0.6666666666666666,
             "#ed7953"
            ],
            [
             0.7777777777777778,
             "#fb9f3a"
            ],
            [
             0.8888888888888888,
             "#fdca26"
            ],
            [
             1,
             "#f0f921"
            ]
           ]
          },
          "colorway": [
           "#636efa",
           "#EF553B",
           "#00cc96",
           "#ab63fa",
           "#FFA15A",
           "#19d3f3",
           "#FF6692",
           "#B6E880",
           "#FF97FF",
           "#FECB52"
          ],
          "font": {
           "color": "#2a3f5f"
          },
          "geo": {
           "bgcolor": "white",
           "lakecolor": "white",
           "landcolor": "white",
           "showlakes": true,
           "showland": true,
           "subunitcolor": "#C8D4E3"
          },
          "hoverlabel": {
           "align": "left"
          },
          "hovermode": "closest",
          "mapbox": {
           "style": "light"
          },
          "paper_bgcolor": "white",
          "plot_bgcolor": "white",
          "polar": {
           "angularaxis": {
            "gridcolor": "#EBF0F8",
            "linecolor": "#EBF0F8",
            "ticks": ""
           },
           "bgcolor": "white",
           "radialaxis": {
            "gridcolor": "#EBF0F8",
            "linecolor": "#EBF0F8",
            "ticks": ""
           }
          },
          "scene": {
           "xaxis": {
            "backgroundcolor": "white",
            "gridcolor": "#DFE8F3",
            "gridwidth": 2,
            "linecolor": "#EBF0F8",
            "showbackground": true,
            "ticks": "",
            "zerolinecolor": "#EBF0F8"
           },
           "yaxis": {
            "backgroundcolor": "white",
            "gridcolor": "#DFE8F3",
            "gridwidth": 2,
            "linecolor": "#EBF0F8",
            "showbackground": true,
            "ticks": "",
            "zerolinecolor": "#EBF0F8"
           },
           "zaxis": {
            "backgroundcolor": "white",
            "gridcolor": "#DFE8F3",
            "gridwidth": 2,
            "linecolor": "#EBF0F8",
            "showbackground": true,
            "ticks": "",
            "zerolinecolor": "#EBF0F8"
           }
          },
          "shapedefaults": {
           "line": {
            "color": "#2a3f5f"
           }
          },
          "ternary": {
           "aaxis": {
            "gridcolor": "#DFE8F3",
            "linecolor": "#A2B1C6",
            "ticks": ""
           },
           "baxis": {
            "gridcolor": "#DFE8F3",
            "linecolor": "#A2B1C6",
            "ticks": ""
           },
           "bgcolor": "white",
           "caxis": {
            "gridcolor": "#DFE8F3",
            "linecolor": "#A2B1C6",
            "ticks": ""
           }
          },
          "title": {
           "x": 0.05
          },
          "xaxis": {
           "automargin": true,
           "gridcolor": "#EBF0F8",
           "linecolor": "#EBF0F8",
           "ticks": "",
           "title": {
            "standoff": 15
           },
           "zerolinecolor": "#EBF0F8",
           "zerolinewidth": 2
          },
          "yaxis": {
           "automargin": true,
           "gridcolor": "#EBF0F8",
           "linecolor": "#EBF0F8",
           "ticks": "",
           "title": {
            "standoff": 15
           },
           "zerolinecolor": "#EBF0F8",
           "zerolinewidth": 2
          }
         }
        },
        "title": {
         "text": "Model Performance Curves: modele_brain_tumor_20241117_205951"
        },
        "xaxis": {
         "anchor": "y",
         "domain": [
          0,
          0.45
         ],
         "title": {
          "text": "Epochs"
         }
        },
        "xaxis2": {
         "anchor": "y2",
         "domain": [
          0.55,
          1
         ]
        },
        "yaxis": {
         "anchor": "x",
         "domain": [
          0,
          1
         ]
        },
        "yaxis2": {
         "anchor": "x2",
         "domain": [
          0,
          1
         ]
        }
       }
      }
     },
     "metadata": {},
     "output_type": "display_data"
    }
   ],
   "source": [
    "plot_model_curves(models_history, 'modele_brain_tumor_20241117_205951')"
   ]
  },
  {
   "cell_type": "code",
   "execution_count": 15,
   "metadata": {},
   "outputs": [
    {
     "data": {
      "application/vnd.plotly.v1+json": {
       "config": {
        "plotlyServerURL": "https://plot.ly"
       },
       "data": [
        {
         "mode": "lines+markers",
         "name": "Training Accuracy",
         "type": "scatter",
         "x": [
          1,
          2,
          3,
          4,
          5,
          6
         ],
         "xaxis": "x",
         "y": [
          0.6354680061340332,
          0.8404698967933655,
          0.9120879173278809,
          0.9496021270751953,
          0.964759349822998,
          0.9712012410163879
         ],
         "yaxis": "y"
        },
        {
         "mode": "lines+markers",
         "name": "Validation Accuracy",
         "type": "scatter",
         "x": [
          1,
          2,
          3,
          4,
          5,
          6
         ],
         "xaxis": "x",
         "y": [
          0.7887538075447083,
          0.8632218837738037,
          0.8723404407501221,
          0.8738601803779602,
          0.8662614226341248,
          0.8996960520744324
         ],
         "yaxis": "y"
        },
        {
         "mode": "lines+markers",
         "name": "Training Loss",
         "type": "scatter",
         "x": [
          1,
          2,
          3,
          4,
          5,
          6
         ],
         "xaxis": "x2",
         "y": [
          6.1560821533203125,
          0.4367038905620575,
          0.2385508269071579,
          0.16276125609874725,
          0.10484958440065384,
          0.08548449724912643
         ],
         "yaxis": "y2"
        },
        {
         "mode": "lines+markers",
         "name": "Validation Loss",
         "type": "scatter",
         "x": [
          1,
          2,
          3,
          4,
          5,
          6
         ],
         "xaxis": "x2",
         "y": [
          0.5797291994094849,
          0.3996214270591736,
          0.42034661769866943,
          0.48278141021728516,
          0.657372772693634,
          0.41784659028053284
         ],
         "yaxis": "y2"
        }
       ],
       "layout": {
        "annotations": [
         {
          "font": {
           "size": 16
          },
          "showarrow": false,
          "text": "Accuracy",
          "x": 0.225,
          "xanchor": "center",
          "xref": "paper",
          "y": 1,
          "yanchor": "bottom",
          "yref": "paper"
         },
         {
          "font": {
           "size": 16
          },
          "showarrow": false,
          "text": "Loss",
          "x": 0.775,
          "xanchor": "center",
          "xref": "paper",
          "y": 1,
          "yanchor": "bottom",
          "yref": "paper"
         }
        ],
        "template": {
         "data": {
          "bar": [
           {
            "error_x": {
             "color": "#2a3f5f"
            },
            "error_y": {
             "color": "#2a3f5f"
            },
            "marker": {
             "line": {
              "color": "white",
              "width": 0.5
             },
             "pattern": {
              "fillmode": "overlay",
              "size": 10,
              "solidity": 0.2
             }
            },
            "type": "bar"
           }
          ],
          "barpolar": [
           {
            "marker": {
             "line": {
              "color": "white",
              "width": 0.5
             },
             "pattern": {
              "fillmode": "overlay",
              "size": 10,
              "solidity": 0.2
             }
            },
            "type": "barpolar"
           }
          ],
          "carpet": [
           {
            "aaxis": {
             "endlinecolor": "#2a3f5f",
             "gridcolor": "#C8D4E3",
             "linecolor": "#C8D4E3",
             "minorgridcolor": "#C8D4E3",
             "startlinecolor": "#2a3f5f"
            },
            "baxis": {
             "endlinecolor": "#2a3f5f",
             "gridcolor": "#C8D4E3",
             "linecolor": "#C8D4E3",
             "minorgridcolor": "#C8D4E3",
             "startlinecolor": "#2a3f5f"
            },
            "type": "carpet"
           }
          ],
          "choropleth": [
           {
            "colorbar": {
             "outlinewidth": 0,
             "ticks": ""
            },
            "type": "choropleth"
           }
          ],
          "contour": [
           {
            "colorbar": {
             "outlinewidth": 0,
             "ticks": ""
            },
            "colorscale": [
             [
              0,
              "#0d0887"
             ],
             [
              0.1111111111111111,
              "#46039f"
             ],
             [
              0.2222222222222222,
              "#7201a8"
             ],
             [
              0.3333333333333333,
              "#9c179e"
             ],
             [
              0.4444444444444444,
              "#bd3786"
             ],
             [
              0.5555555555555556,
              "#d8576b"
             ],
             [
              0.6666666666666666,
              "#ed7953"
             ],
             [
              0.7777777777777778,
              "#fb9f3a"
             ],
             [
              0.8888888888888888,
              "#fdca26"
             ],
             [
              1,
              "#f0f921"
             ]
            ],
            "type": "contour"
           }
          ],
          "contourcarpet": [
           {
            "colorbar": {
             "outlinewidth": 0,
             "ticks": ""
            },
            "type": "contourcarpet"
           }
          ],
          "heatmap": [
           {
            "colorbar": {
             "outlinewidth": 0,
             "ticks": ""
            },
            "colorscale": [
             [
              0,
              "#0d0887"
             ],
             [
              0.1111111111111111,
              "#46039f"
             ],
             [
              0.2222222222222222,
              "#7201a8"
             ],
             [
              0.3333333333333333,
              "#9c179e"
             ],
             [
              0.4444444444444444,
              "#bd3786"
             ],
             [
              0.5555555555555556,
              "#d8576b"
             ],
             [
              0.6666666666666666,
              "#ed7953"
             ],
             [
              0.7777777777777778,
              "#fb9f3a"
             ],
             [
              0.8888888888888888,
              "#fdca26"
             ],
             [
              1,
              "#f0f921"
             ]
            ],
            "type": "heatmap"
           }
          ],
          "heatmapgl": [
           {
            "colorbar": {
             "outlinewidth": 0,
             "ticks": ""
            },
            "colorscale": [
             [
              0,
              "#0d0887"
             ],
             [
              0.1111111111111111,
              "#46039f"
             ],
             [
              0.2222222222222222,
              "#7201a8"
             ],
             [
              0.3333333333333333,
              "#9c179e"
             ],
             [
              0.4444444444444444,
              "#bd3786"
             ],
             [
              0.5555555555555556,
              "#d8576b"
             ],
             [
              0.6666666666666666,
              "#ed7953"
             ],
             [
              0.7777777777777778,
              "#fb9f3a"
             ],
             [
              0.8888888888888888,
              "#fdca26"
             ],
             [
              1,
              "#f0f921"
             ]
            ],
            "type": "heatmapgl"
           }
          ],
          "histogram": [
           {
            "marker": {
             "pattern": {
              "fillmode": "overlay",
              "size": 10,
              "solidity": 0.2
             }
            },
            "type": "histogram"
           }
          ],
          "histogram2d": [
           {
            "colorbar": {
             "outlinewidth": 0,
             "ticks": ""
            },
            "colorscale": [
             [
              0,
              "#0d0887"
             ],
             [
              0.1111111111111111,
              "#46039f"
             ],
             [
              0.2222222222222222,
              "#7201a8"
             ],
             [
              0.3333333333333333,
              "#9c179e"
             ],
             [
              0.4444444444444444,
              "#bd3786"
             ],
             [
              0.5555555555555556,
              "#d8576b"
             ],
             [
              0.6666666666666666,
              "#ed7953"
             ],
             [
              0.7777777777777778,
              "#fb9f3a"
             ],
             [
              0.8888888888888888,
              "#fdca26"
             ],
             [
              1,
              "#f0f921"
             ]
            ],
            "type": "histogram2d"
           }
          ],
          "histogram2dcontour": [
           {
            "colorbar": {
             "outlinewidth": 0,
             "ticks": ""
            },
            "colorscale": [
             [
              0,
              "#0d0887"
             ],
             [
              0.1111111111111111,
              "#46039f"
             ],
             [
              0.2222222222222222,
              "#7201a8"
             ],
             [
              0.3333333333333333,
              "#9c179e"
             ],
             [
              0.4444444444444444,
              "#bd3786"
             ],
             [
              0.5555555555555556,
              "#d8576b"
             ],
             [
              0.6666666666666666,
              "#ed7953"
             ],
             [
              0.7777777777777778,
              "#fb9f3a"
             ],
             [
              0.8888888888888888,
              "#fdca26"
             ],
             [
              1,
              "#f0f921"
             ]
            ],
            "type": "histogram2dcontour"
           }
          ],
          "mesh3d": [
           {
            "colorbar": {
             "outlinewidth": 0,
             "ticks": ""
            },
            "type": "mesh3d"
           }
          ],
          "parcoords": [
           {
            "line": {
             "colorbar": {
              "outlinewidth": 0,
              "ticks": ""
             }
            },
            "type": "parcoords"
           }
          ],
          "pie": [
           {
            "automargin": true,
            "type": "pie"
           }
          ],
          "scatter": [
           {
            "fillpattern": {
             "fillmode": "overlay",
             "size": 10,
             "solidity": 0.2
            },
            "type": "scatter"
           }
          ],
          "scatter3d": [
           {
            "line": {
             "colorbar": {
              "outlinewidth": 0,
              "ticks": ""
             }
            },
            "marker": {
             "colorbar": {
              "outlinewidth": 0,
              "ticks": ""
             }
            },
            "type": "scatter3d"
           }
          ],
          "scattercarpet": [
           {
            "marker": {
             "colorbar": {
              "outlinewidth": 0,
              "ticks": ""
             }
            },
            "type": "scattercarpet"
           }
          ],
          "scattergeo": [
           {
            "marker": {
             "colorbar": {
              "outlinewidth": 0,
              "ticks": ""
             }
            },
            "type": "scattergeo"
           }
          ],
          "scattergl": [
           {
            "marker": {
             "colorbar": {
              "outlinewidth": 0,
              "ticks": ""
             }
            },
            "type": "scattergl"
           }
          ],
          "scattermapbox": [
           {
            "marker": {
             "colorbar": {
              "outlinewidth": 0,
              "ticks": ""
             }
            },
            "type": "scattermapbox"
           }
          ],
          "scatterpolar": [
           {
            "marker": {
             "colorbar": {
              "outlinewidth": 0,
              "ticks": ""
             }
            },
            "type": "scatterpolar"
           }
          ],
          "scatterpolargl": [
           {
            "marker": {
             "colorbar": {
              "outlinewidth": 0,
              "ticks": ""
             }
            },
            "type": "scatterpolargl"
           }
          ],
          "scatterternary": [
           {
            "marker": {
             "colorbar": {
              "outlinewidth": 0,
              "ticks": ""
             }
            },
            "type": "scatterternary"
           }
          ],
          "surface": [
           {
            "colorbar": {
             "outlinewidth": 0,
             "ticks": ""
            },
            "colorscale": [
             [
              0,
              "#0d0887"
             ],
             [
              0.1111111111111111,
              "#46039f"
             ],
             [
              0.2222222222222222,
              "#7201a8"
             ],
             [
              0.3333333333333333,
              "#9c179e"
             ],
             [
              0.4444444444444444,
              "#bd3786"
             ],
             [
              0.5555555555555556,
              "#d8576b"
             ],
             [
              0.6666666666666666,
              "#ed7953"
             ],
             [
              0.7777777777777778,
              "#fb9f3a"
             ],
             [
              0.8888888888888888,
              "#fdca26"
             ],
             [
              1,
              "#f0f921"
             ]
            ],
            "type": "surface"
           }
          ],
          "table": [
           {
            "cells": {
             "fill": {
              "color": "#EBF0F8"
             },
             "line": {
              "color": "white"
             }
            },
            "header": {
             "fill": {
              "color": "#C8D4E3"
             },
             "line": {
              "color": "white"
             }
            },
            "type": "table"
           }
          ]
         },
         "layout": {
          "annotationdefaults": {
           "arrowcolor": "#2a3f5f",
           "arrowhead": 0,
           "arrowwidth": 1
          },
          "autotypenumbers": "strict",
          "coloraxis": {
           "colorbar": {
            "outlinewidth": 0,
            "ticks": ""
           }
          },
          "colorscale": {
           "diverging": [
            [
             0,
             "#8e0152"
            ],
            [
             0.1,
             "#c51b7d"
            ],
            [
             0.2,
             "#de77ae"
            ],
            [
             0.3,
             "#f1b6da"
            ],
            [
             0.4,
             "#fde0ef"
            ],
            [
             0.5,
             "#f7f7f7"
            ],
            [
             0.6,
             "#e6f5d0"
            ],
            [
             0.7,
             "#b8e186"
            ],
            [
             0.8,
             "#7fbc41"
            ],
            [
             0.9,
             "#4d9221"
            ],
            [
             1,
             "#276419"
            ]
           ],
           "sequential": [
            [
             0,
             "#0d0887"
            ],
            [
             0.1111111111111111,
             "#46039f"
            ],
            [
             0.2222222222222222,
             "#7201a8"
            ],
            [
             0.3333333333333333,
             "#9c179e"
            ],
            [
             0.4444444444444444,
             "#bd3786"
            ],
            [
             0.5555555555555556,
             "#d8576b"
            ],
            [
             0.6666666666666666,
             "#ed7953"
            ],
            [
             0.7777777777777778,
             "#fb9f3a"
            ],
            [
             0.8888888888888888,
             "#fdca26"
            ],
            [
             1,
             "#f0f921"
            ]
           ],
           "sequentialminus": [
            [
             0,
             "#0d0887"
            ],
            [
             0.1111111111111111,
             "#46039f"
            ],
            [
             0.2222222222222222,
             "#7201a8"
            ],
            [
             0.3333333333333333,
             "#9c179e"
            ],
            [
             0.4444444444444444,
             "#bd3786"
            ],
            [
             0.5555555555555556,
             "#d8576b"
            ],
            [
             0.6666666666666666,
             "#ed7953"
            ],
            [
             0.7777777777777778,
             "#fb9f3a"
            ],
            [
             0.8888888888888888,
             "#fdca26"
            ],
            [
             1,
             "#f0f921"
            ]
           ]
          },
          "colorway": [
           "#636efa",
           "#EF553B",
           "#00cc96",
           "#ab63fa",
           "#FFA15A",
           "#19d3f3",
           "#FF6692",
           "#B6E880",
           "#FF97FF",
           "#FECB52"
          ],
          "font": {
           "color": "#2a3f5f"
          },
          "geo": {
           "bgcolor": "white",
           "lakecolor": "white",
           "landcolor": "white",
           "showlakes": true,
           "showland": true,
           "subunitcolor": "#C8D4E3"
          },
          "hoverlabel": {
           "align": "left"
          },
          "hovermode": "closest",
          "mapbox": {
           "style": "light"
          },
          "paper_bgcolor": "white",
          "plot_bgcolor": "white",
          "polar": {
           "angularaxis": {
            "gridcolor": "#EBF0F8",
            "linecolor": "#EBF0F8",
            "ticks": ""
           },
           "bgcolor": "white",
           "radialaxis": {
            "gridcolor": "#EBF0F8",
            "linecolor": "#EBF0F8",
            "ticks": ""
           }
          },
          "scene": {
           "xaxis": {
            "backgroundcolor": "white",
            "gridcolor": "#DFE8F3",
            "gridwidth": 2,
            "linecolor": "#EBF0F8",
            "showbackground": true,
            "ticks": "",
            "zerolinecolor": "#EBF0F8"
           },
           "yaxis": {
            "backgroundcolor": "white",
            "gridcolor": "#DFE8F3",
            "gridwidth": 2,
            "linecolor": "#EBF0F8",
            "showbackground": true,
            "ticks": "",
            "zerolinecolor": "#EBF0F8"
           },
           "zaxis": {
            "backgroundcolor": "white",
            "gridcolor": "#DFE8F3",
            "gridwidth": 2,
            "linecolor": "#EBF0F8",
            "showbackground": true,
            "ticks": "",
            "zerolinecolor": "#EBF0F8"
           }
          },
          "shapedefaults": {
           "line": {
            "color": "#2a3f5f"
           }
          },
          "ternary": {
           "aaxis": {
            "gridcolor": "#DFE8F3",
            "linecolor": "#A2B1C6",
            "ticks": ""
           },
           "baxis": {
            "gridcolor": "#DFE8F3",
            "linecolor": "#A2B1C6",
            "ticks": ""
           },
           "bgcolor": "white",
           "caxis": {
            "gridcolor": "#DFE8F3",
            "linecolor": "#A2B1C6",
            "ticks": ""
           }
          },
          "title": {
           "x": 0.05
          },
          "xaxis": {
           "automargin": true,
           "gridcolor": "#EBF0F8",
           "linecolor": "#EBF0F8",
           "ticks": "",
           "title": {
            "standoff": 15
           },
           "zerolinecolor": "#EBF0F8",
           "zerolinewidth": 2
          },
          "yaxis": {
           "automargin": true,
           "gridcolor": "#EBF0F8",
           "linecolor": "#EBF0F8",
           "ticks": "",
           "title": {
            "standoff": 15
           },
           "zerolinecolor": "#EBF0F8",
           "zerolinewidth": 2
          }
         }
        },
        "title": {
         "text": "Model Performance Curves: modele_brain_tumor_20241125_002219"
        },
        "xaxis": {
         "anchor": "y",
         "domain": [
          0,
          0.45
         ],
         "title": {
          "text": "Epochs"
         }
        },
        "xaxis2": {
         "anchor": "y2",
         "domain": [
          0.55,
          1
         ]
        },
        "yaxis": {
         "anchor": "x",
         "domain": [
          0,
          1
         ]
        },
        "yaxis2": {
         "anchor": "x2",
         "domain": [
          0,
          1
         ]
        }
       }
      }
     },
     "metadata": {},
     "output_type": "display_data"
    }
   ],
   "source": [
    "plot_model_curves(models_history, 'modele_brain_tumor_20241125_002219')"
   ]
  },
  {
   "cell_type": "markdown",
   "metadata": {},
   "source": [
    "## Analyse des performances : Loss et Accuracy\n",
    "\n",
    "Les courbes de **loss** et d'**accuracy** semblent similaires pour les deux modèles étudiés. Afin d'approfondir notre comparaison, analysons leurs performances sur le jeu de test.\n"
   ]
  },
  {
   "cell_type": "code",
   "execution_count": 16,
   "metadata": {},
   "outputs": [
    {
     "name": "stdout",
     "output_type": "stream",
     "text": [
      "Test Accuracy du modele 1\n",
      "\n",
      "0.6701\n",
      "\n",
      "Test Accuracy du modele 2\n",
      "\n",
      "0.6649746298789978\n"
     ]
    }
   ],
   "source": [
    "print('Test Accuracy du modele 1')\n",
    "print('')\n",
    "print(get_test_accuracy(models_history, 'modele_brain_tumor_20241117_205951'))\n",
    "print('')\n",
    "print('Test Accuracy du modele 2')\n",
    "print('')\n",
    "print(get_test_accuracy(models_history, 'modele_brain_tumor_20241125_002219'))"
   ]
  },
  {
   "cell_type": "markdown",
   "metadata": {},
   "source": [
    "Nous observons que les **test accuracy** sont équivalents. Cela indique que l'équilibre des classes et l'augmentation des données n'apportent pas d'amélioration *significative*.\n"
   ]
  },
  {
   "cell_type": "markdown",
   "metadata": {},
   "source": [
    "\n",
    "# Comparaison de Fonctions d'activation \n",
    "\n",
    "### Fonctions d'activation utilisées\n",
    "- **ReLU** (Rectified Linear Unit) : pour introduire de la non-linéarité et éviter les problèmes de gradient nul.\n",
    "- **Sigmoid** : pour normaliser les sorties entre 0 et 1, souvent utilisée pour des tâches de classification binaire."
   ]
  },
  {
   "cell_type": "markdown",
   "metadata": {},
   "source": [
    "# Modele 1 VS Modele 3"
   ]
  },
  {
   "cell_type": "code",
   "execution_count": 17,
   "metadata": {},
   "outputs": [
    {
     "data": {
      "application/vnd.plotly.v1+json": {
       "config": {
        "plotlyServerURL": "https://plot.ly"
       },
       "data": [
        {
         "mode": "lines+markers",
         "name": "Training Accuracy",
         "type": "scatter",
         "x": [
          1,
          2,
          3,
          4,
          5,
          6
         ],
         "xaxis": "x",
         "y": [
          0.5668,
          0.7784,
          0.8742,
          0.9242,
          0.9491,
          0.9647
         ],
         "yaxis": "y"
        },
        {
         "mode": "lines+markers",
         "name": "Validation Accuracy",
         "type": "scatter",
         "x": [
          1,
          2,
          3,
          4,
          5,
          6
         ],
         "xaxis": "x",
         "y": [
          0.6946,
          0.8098,
          0.8272,
          0.8377,
          0.8709,
          0.8831
         ],
         "yaxis": "y"
        },
        {
         "mode": "lines+markers",
         "name": "Training Loss",
         "type": "scatter",
         "x": [
          1,
          2,
          3,
          4,
          5,
          6
         ],
         "xaxis": "x2",
         "y": [
          18.21,
          0.5739,
          0.3287,
          0.197,
          0.1368,
          0.1061
         ],
         "yaxis": "y2"
        },
        {
         "mode": "lines+markers",
         "name": "Validation Loss",
         "type": "scatter",
         "x": [
          1,
          2,
          3,
          4,
          5,
          6
         ],
         "xaxis": "x2",
         "y": [
          0.6798,
          0.492,
          0.4757,
          0.5043,
          0.4786,
          0.4901
         ],
         "yaxis": "y2"
        }
       ],
       "layout": {
        "annotations": [
         {
          "font": {
           "size": 16
          },
          "showarrow": false,
          "text": "Accuracy",
          "x": 0.225,
          "xanchor": "center",
          "xref": "paper",
          "y": 1,
          "yanchor": "bottom",
          "yref": "paper"
         },
         {
          "font": {
           "size": 16
          },
          "showarrow": false,
          "text": "Loss",
          "x": 0.775,
          "xanchor": "center",
          "xref": "paper",
          "y": 1,
          "yanchor": "bottom",
          "yref": "paper"
         }
        ],
        "template": {
         "data": {
          "bar": [
           {
            "error_x": {
             "color": "#2a3f5f"
            },
            "error_y": {
             "color": "#2a3f5f"
            },
            "marker": {
             "line": {
              "color": "white",
              "width": 0.5
             },
             "pattern": {
              "fillmode": "overlay",
              "size": 10,
              "solidity": 0.2
             }
            },
            "type": "bar"
           }
          ],
          "barpolar": [
           {
            "marker": {
             "line": {
              "color": "white",
              "width": 0.5
             },
             "pattern": {
              "fillmode": "overlay",
              "size": 10,
              "solidity": 0.2
             }
            },
            "type": "barpolar"
           }
          ],
          "carpet": [
           {
            "aaxis": {
             "endlinecolor": "#2a3f5f",
             "gridcolor": "#C8D4E3",
             "linecolor": "#C8D4E3",
             "minorgridcolor": "#C8D4E3",
             "startlinecolor": "#2a3f5f"
            },
            "baxis": {
             "endlinecolor": "#2a3f5f",
             "gridcolor": "#C8D4E3",
             "linecolor": "#C8D4E3",
             "minorgridcolor": "#C8D4E3",
             "startlinecolor": "#2a3f5f"
            },
            "type": "carpet"
           }
          ],
          "choropleth": [
           {
            "colorbar": {
             "outlinewidth": 0,
             "ticks": ""
            },
            "type": "choropleth"
           }
          ],
          "contour": [
           {
            "colorbar": {
             "outlinewidth": 0,
             "ticks": ""
            },
            "colorscale": [
             [
              0,
              "#0d0887"
             ],
             [
              0.1111111111111111,
              "#46039f"
             ],
             [
              0.2222222222222222,
              "#7201a8"
             ],
             [
              0.3333333333333333,
              "#9c179e"
             ],
             [
              0.4444444444444444,
              "#bd3786"
             ],
             [
              0.5555555555555556,
              "#d8576b"
             ],
             [
              0.6666666666666666,
              "#ed7953"
             ],
             [
              0.7777777777777778,
              "#fb9f3a"
             ],
             [
              0.8888888888888888,
              "#fdca26"
             ],
             [
              1,
              "#f0f921"
             ]
            ],
            "type": "contour"
           }
          ],
          "contourcarpet": [
           {
            "colorbar": {
             "outlinewidth": 0,
             "ticks": ""
            },
            "type": "contourcarpet"
           }
          ],
          "heatmap": [
           {
            "colorbar": {
             "outlinewidth": 0,
             "ticks": ""
            },
            "colorscale": [
             [
              0,
              "#0d0887"
             ],
             [
              0.1111111111111111,
              "#46039f"
             ],
             [
              0.2222222222222222,
              "#7201a8"
             ],
             [
              0.3333333333333333,
              "#9c179e"
             ],
             [
              0.4444444444444444,
              "#bd3786"
             ],
             [
              0.5555555555555556,
              "#d8576b"
             ],
             [
              0.6666666666666666,
              "#ed7953"
             ],
             [
              0.7777777777777778,
              "#fb9f3a"
             ],
             [
              0.8888888888888888,
              "#fdca26"
             ],
             [
              1,
              "#f0f921"
             ]
            ],
            "type": "heatmap"
           }
          ],
          "heatmapgl": [
           {
            "colorbar": {
             "outlinewidth": 0,
             "ticks": ""
            },
            "colorscale": [
             [
              0,
              "#0d0887"
             ],
             [
              0.1111111111111111,
              "#46039f"
             ],
             [
              0.2222222222222222,
              "#7201a8"
             ],
             [
              0.3333333333333333,
              "#9c179e"
             ],
             [
              0.4444444444444444,
              "#bd3786"
             ],
             [
              0.5555555555555556,
              "#d8576b"
             ],
             [
              0.6666666666666666,
              "#ed7953"
             ],
             [
              0.7777777777777778,
              "#fb9f3a"
             ],
             [
              0.8888888888888888,
              "#fdca26"
             ],
             [
              1,
              "#f0f921"
             ]
            ],
            "type": "heatmapgl"
           }
          ],
          "histogram": [
           {
            "marker": {
             "pattern": {
              "fillmode": "overlay",
              "size": 10,
              "solidity": 0.2
             }
            },
            "type": "histogram"
           }
          ],
          "histogram2d": [
           {
            "colorbar": {
             "outlinewidth": 0,
             "ticks": ""
            },
            "colorscale": [
             [
              0,
              "#0d0887"
             ],
             [
              0.1111111111111111,
              "#46039f"
             ],
             [
              0.2222222222222222,
              "#7201a8"
             ],
             [
              0.3333333333333333,
              "#9c179e"
             ],
             [
              0.4444444444444444,
              "#bd3786"
             ],
             [
              0.5555555555555556,
              "#d8576b"
             ],
             [
              0.6666666666666666,
              "#ed7953"
             ],
             [
              0.7777777777777778,
              "#fb9f3a"
             ],
             [
              0.8888888888888888,
              "#fdca26"
             ],
             [
              1,
              "#f0f921"
             ]
            ],
            "type": "histogram2d"
           }
          ],
          "histogram2dcontour": [
           {
            "colorbar": {
             "outlinewidth": 0,
             "ticks": ""
            },
            "colorscale": [
             [
              0,
              "#0d0887"
             ],
             [
              0.1111111111111111,
              "#46039f"
             ],
             [
              0.2222222222222222,
              "#7201a8"
             ],
             [
              0.3333333333333333,
              "#9c179e"
             ],
             [
              0.4444444444444444,
              "#bd3786"
             ],
             [
              0.5555555555555556,
              "#d8576b"
             ],
             [
              0.6666666666666666,
              "#ed7953"
             ],
             [
              0.7777777777777778,
              "#fb9f3a"
             ],
             [
              0.8888888888888888,
              "#fdca26"
             ],
             [
              1,
              "#f0f921"
             ]
            ],
            "type": "histogram2dcontour"
           }
          ],
          "mesh3d": [
           {
            "colorbar": {
             "outlinewidth": 0,
             "ticks": ""
            },
            "type": "mesh3d"
           }
          ],
          "parcoords": [
           {
            "line": {
             "colorbar": {
              "outlinewidth": 0,
              "ticks": ""
             }
            },
            "type": "parcoords"
           }
          ],
          "pie": [
           {
            "automargin": true,
            "type": "pie"
           }
          ],
          "scatter": [
           {
            "fillpattern": {
             "fillmode": "overlay",
             "size": 10,
             "solidity": 0.2
            },
            "type": "scatter"
           }
          ],
          "scatter3d": [
           {
            "line": {
             "colorbar": {
              "outlinewidth": 0,
              "ticks": ""
             }
            },
            "marker": {
             "colorbar": {
              "outlinewidth": 0,
              "ticks": ""
             }
            },
            "type": "scatter3d"
           }
          ],
          "scattercarpet": [
           {
            "marker": {
             "colorbar": {
              "outlinewidth": 0,
              "ticks": ""
             }
            },
            "type": "scattercarpet"
           }
          ],
          "scattergeo": [
           {
            "marker": {
             "colorbar": {
              "outlinewidth": 0,
              "ticks": ""
             }
            },
            "type": "scattergeo"
           }
          ],
          "scattergl": [
           {
            "marker": {
             "colorbar": {
              "outlinewidth": 0,
              "ticks": ""
             }
            },
            "type": "scattergl"
           }
          ],
          "scattermapbox": [
           {
            "marker": {
             "colorbar": {
              "outlinewidth": 0,
              "ticks": ""
             }
            },
            "type": "scattermapbox"
           }
          ],
          "scatterpolar": [
           {
            "marker": {
             "colorbar": {
              "outlinewidth": 0,
              "ticks": ""
             }
            },
            "type": "scatterpolar"
           }
          ],
          "scatterpolargl": [
           {
            "marker": {
             "colorbar": {
              "outlinewidth": 0,
              "ticks": ""
             }
            },
            "type": "scatterpolargl"
           }
          ],
          "scatterternary": [
           {
            "marker": {
             "colorbar": {
              "outlinewidth": 0,
              "ticks": ""
             }
            },
            "type": "scatterternary"
           }
          ],
          "surface": [
           {
            "colorbar": {
             "outlinewidth": 0,
             "ticks": ""
            },
            "colorscale": [
             [
              0,
              "#0d0887"
             ],
             [
              0.1111111111111111,
              "#46039f"
             ],
             [
              0.2222222222222222,
              "#7201a8"
             ],
             [
              0.3333333333333333,
              "#9c179e"
             ],
             [
              0.4444444444444444,
              "#bd3786"
             ],
             [
              0.5555555555555556,
              "#d8576b"
             ],
             [
              0.6666666666666666,
              "#ed7953"
             ],
             [
              0.7777777777777778,
              "#fb9f3a"
             ],
             [
              0.8888888888888888,
              "#fdca26"
             ],
             [
              1,
              "#f0f921"
             ]
            ],
            "type": "surface"
           }
          ],
          "table": [
           {
            "cells": {
             "fill": {
              "color": "#EBF0F8"
             },
             "line": {
              "color": "white"
             }
            },
            "header": {
             "fill": {
              "color": "#C8D4E3"
             },
             "line": {
              "color": "white"
             }
            },
            "type": "table"
           }
          ]
         },
         "layout": {
          "annotationdefaults": {
           "arrowcolor": "#2a3f5f",
           "arrowhead": 0,
           "arrowwidth": 1
          },
          "autotypenumbers": "strict",
          "coloraxis": {
           "colorbar": {
            "outlinewidth": 0,
            "ticks": ""
           }
          },
          "colorscale": {
           "diverging": [
            [
             0,
             "#8e0152"
            ],
            [
             0.1,
             "#c51b7d"
            ],
            [
             0.2,
             "#de77ae"
            ],
            [
             0.3,
             "#f1b6da"
            ],
            [
             0.4,
             "#fde0ef"
            ],
            [
             0.5,
             "#f7f7f7"
            ],
            [
             0.6,
             "#e6f5d0"
            ],
            [
             0.7,
             "#b8e186"
            ],
            [
             0.8,
             "#7fbc41"
            ],
            [
             0.9,
             "#4d9221"
            ],
            [
             1,
             "#276419"
            ]
           ],
           "sequential": [
            [
             0,
             "#0d0887"
            ],
            [
             0.1111111111111111,
             "#46039f"
            ],
            [
             0.2222222222222222,
             "#7201a8"
            ],
            [
             0.3333333333333333,
             "#9c179e"
            ],
            [
             0.4444444444444444,
             "#bd3786"
            ],
            [
             0.5555555555555556,
             "#d8576b"
            ],
            [
             0.6666666666666666,
             "#ed7953"
            ],
            [
             0.7777777777777778,
             "#fb9f3a"
            ],
            [
             0.8888888888888888,
             "#fdca26"
            ],
            [
             1,
             "#f0f921"
            ]
           ],
           "sequentialminus": [
            [
             0,
             "#0d0887"
            ],
            [
             0.1111111111111111,
             "#46039f"
            ],
            [
             0.2222222222222222,
             "#7201a8"
            ],
            [
             0.3333333333333333,
             "#9c179e"
            ],
            [
             0.4444444444444444,
             "#bd3786"
            ],
            [
             0.5555555555555556,
             "#d8576b"
            ],
            [
             0.6666666666666666,
             "#ed7953"
            ],
            [
             0.7777777777777778,
             "#fb9f3a"
            ],
            [
             0.8888888888888888,
             "#fdca26"
            ],
            [
             1,
             "#f0f921"
            ]
           ]
          },
          "colorway": [
           "#636efa",
           "#EF553B",
           "#00cc96",
           "#ab63fa",
           "#FFA15A",
           "#19d3f3",
           "#FF6692",
           "#B6E880",
           "#FF97FF",
           "#FECB52"
          ],
          "font": {
           "color": "#2a3f5f"
          },
          "geo": {
           "bgcolor": "white",
           "lakecolor": "white",
           "landcolor": "white",
           "showlakes": true,
           "showland": true,
           "subunitcolor": "#C8D4E3"
          },
          "hoverlabel": {
           "align": "left"
          },
          "hovermode": "closest",
          "mapbox": {
           "style": "light"
          },
          "paper_bgcolor": "white",
          "plot_bgcolor": "white",
          "polar": {
           "angularaxis": {
            "gridcolor": "#EBF0F8",
            "linecolor": "#EBF0F8",
            "ticks": ""
           },
           "bgcolor": "white",
           "radialaxis": {
            "gridcolor": "#EBF0F8",
            "linecolor": "#EBF0F8",
            "ticks": ""
           }
          },
          "scene": {
           "xaxis": {
            "backgroundcolor": "white",
            "gridcolor": "#DFE8F3",
            "gridwidth": 2,
            "linecolor": "#EBF0F8",
            "showbackground": true,
            "ticks": "",
            "zerolinecolor": "#EBF0F8"
           },
           "yaxis": {
            "backgroundcolor": "white",
            "gridcolor": "#DFE8F3",
            "gridwidth": 2,
            "linecolor": "#EBF0F8",
            "showbackground": true,
            "ticks": "",
            "zerolinecolor": "#EBF0F8"
           },
           "zaxis": {
            "backgroundcolor": "white",
            "gridcolor": "#DFE8F3",
            "gridwidth": 2,
            "linecolor": "#EBF0F8",
            "showbackground": true,
            "ticks": "",
            "zerolinecolor": "#EBF0F8"
           }
          },
          "shapedefaults": {
           "line": {
            "color": "#2a3f5f"
           }
          },
          "ternary": {
           "aaxis": {
            "gridcolor": "#DFE8F3",
            "linecolor": "#A2B1C6",
            "ticks": ""
           },
           "baxis": {
            "gridcolor": "#DFE8F3",
            "linecolor": "#A2B1C6",
            "ticks": ""
           },
           "bgcolor": "white",
           "caxis": {
            "gridcolor": "#DFE8F3",
            "linecolor": "#A2B1C6",
            "ticks": ""
           }
          },
          "title": {
           "x": 0.05
          },
          "xaxis": {
           "automargin": true,
           "gridcolor": "#EBF0F8",
           "linecolor": "#EBF0F8",
           "ticks": "",
           "title": {
            "standoff": 15
           },
           "zerolinecolor": "#EBF0F8",
           "zerolinewidth": 2
          },
          "yaxis": {
           "automargin": true,
           "gridcolor": "#EBF0F8",
           "linecolor": "#EBF0F8",
           "ticks": "",
           "title": {
            "standoff": 15
           },
           "zerolinecolor": "#EBF0F8",
           "zerolinewidth": 2
          }
         }
        },
        "title": {
         "text": "Model Performance Curves: modele_brain_tumor_20241117_205951"
        },
        "xaxis": {
         "anchor": "y",
         "domain": [
          0,
          0.45
         ],
         "title": {
          "text": "Epochs"
         }
        },
        "xaxis2": {
         "anchor": "y2",
         "domain": [
          0.55,
          1
         ]
        },
        "yaxis": {
         "anchor": "x",
         "domain": [
          0,
          1
         ]
        },
        "yaxis2": {
         "anchor": "x2",
         "domain": [
          0,
          1
         ]
        }
       }
      }
     },
     "metadata": {},
     "output_type": "display_data"
    }
   ],
   "source": [
    "plot_model_curves(models_history, 'modele_brain_tumor_20241117_205951')"
   ]
  },
  {
   "cell_type": "code",
   "execution_count": 18,
   "metadata": {},
   "outputs": [
    {
     "data": {
      "application/vnd.plotly.v1+json": {
       "config": {
        "plotlyServerURL": "https://plot.ly"
       },
       "data": [
        {
         "mode": "lines+markers",
         "name": "Training Accuracy",
         "type": "scatter",
         "x": [
          1,
          2,
          3,
          4,
          5,
          6
         ],
         "xaxis": "x",
         "y": [
          0.2825,
          0.2804,
          0.2943,
          0.2943,
          0.2682,
          0.2795
         ],
         "yaxis": "y"
        },
        {
         "mode": "lines+markers",
         "name": "Validation Accuracy",
         "type": "scatter",
         "x": [
          1,
          2,
          3,
          4,
          5,
          6
         ],
         "xaxis": "x",
         "y": [
          0.288,
          0.288,
          0.288,
          0.288,
          0.288,
          0.288
         ],
         "yaxis": "y"
        },
        {
         "mode": "lines+markers",
         "name": "Training Loss",
         "type": "scatter",
         "x": [
          1,
          2,
          3,
          4,
          5,
          6
         ],
         "xaxis": "x2",
         "y": [
          8.7723,
          1.3693,
          1.359,
          1.3539,
          1.352,
          1.3506
         ],
         "yaxis": "y2"
        },
        {
         "mode": "lines+markers",
         "name": "Validation Loss",
         "type": "scatter",
         "x": [
          1,
          2,
          3,
          4,
          5,
          6
         ],
         "xaxis": "x2",
         "y": [
          1.3748,
          1.3638,
          1.3563,
          1.3521,
          1.35,
          1.3492
         ],
         "yaxis": "y2"
        }
       ],
       "layout": {
        "annotations": [
         {
          "font": {
           "size": 16
          },
          "showarrow": false,
          "text": "Accuracy",
          "x": 0.225,
          "xanchor": "center",
          "xref": "paper",
          "y": 1,
          "yanchor": "bottom",
          "yref": "paper"
         },
         {
          "font": {
           "size": 16
          },
          "showarrow": false,
          "text": "Loss",
          "x": 0.775,
          "xanchor": "center",
          "xref": "paper",
          "y": 1,
          "yanchor": "bottom",
          "yref": "paper"
         }
        ],
        "template": {
         "data": {
          "bar": [
           {
            "error_x": {
             "color": "#2a3f5f"
            },
            "error_y": {
             "color": "#2a3f5f"
            },
            "marker": {
             "line": {
              "color": "white",
              "width": 0.5
             },
             "pattern": {
              "fillmode": "overlay",
              "size": 10,
              "solidity": 0.2
             }
            },
            "type": "bar"
           }
          ],
          "barpolar": [
           {
            "marker": {
             "line": {
              "color": "white",
              "width": 0.5
             },
             "pattern": {
              "fillmode": "overlay",
              "size": 10,
              "solidity": 0.2
             }
            },
            "type": "barpolar"
           }
          ],
          "carpet": [
           {
            "aaxis": {
             "endlinecolor": "#2a3f5f",
             "gridcolor": "#C8D4E3",
             "linecolor": "#C8D4E3",
             "minorgridcolor": "#C8D4E3",
             "startlinecolor": "#2a3f5f"
            },
            "baxis": {
             "endlinecolor": "#2a3f5f",
             "gridcolor": "#C8D4E3",
             "linecolor": "#C8D4E3",
             "minorgridcolor": "#C8D4E3",
             "startlinecolor": "#2a3f5f"
            },
            "type": "carpet"
           }
          ],
          "choropleth": [
           {
            "colorbar": {
             "outlinewidth": 0,
             "ticks": ""
            },
            "type": "choropleth"
           }
          ],
          "contour": [
           {
            "colorbar": {
             "outlinewidth": 0,
             "ticks": ""
            },
            "colorscale": [
             [
              0,
              "#0d0887"
             ],
             [
              0.1111111111111111,
              "#46039f"
             ],
             [
              0.2222222222222222,
              "#7201a8"
             ],
             [
              0.3333333333333333,
              "#9c179e"
             ],
             [
              0.4444444444444444,
              "#bd3786"
             ],
             [
              0.5555555555555556,
              "#d8576b"
             ],
             [
              0.6666666666666666,
              "#ed7953"
             ],
             [
              0.7777777777777778,
              "#fb9f3a"
             ],
             [
              0.8888888888888888,
              "#fdca26"
             ],
             [
              1,
              "#f0f921"
             ]
            ],
            "type": "contour"
           }
          ],
          "contourcarpet": [
           {
            "colorbar": {
             "outlinewidth": 0,
             "ticks": ""
            },
            "type": "contourcarpet"
           }
          ],
          "heatmap": [
           {
            "colorbar": {
             "outlinewidth": 0,
             "ticks": ""
            },
            "colorscale": [
             [
              0,
              "#0d0887"
             ],
             [
              0.1111111111111111,
              "#46039f"
             ],
             [
              0.2222222222222222,
              "#7201a8"
             ],
             [
              0.3333333333333333,
              "#9c179e"
             ],
             [
              0.4444444444444444,
              "#bd3786"
             ],
             [
              0.5555555555555556,
              "#d8576b"
             ],
             [
              0.6666666666666666,
              "#ed7953"
             ],
             [
              0.7777777777777778,
              "#fb9f3a"
             ],
             [
              0.8888888888888888,
              "#fdca26"
             ],
             [
              1,
              "#f0f921"
             ]
            ],
            "type": "heatmap"
           }
          ],
          "heatmapgl": [
           {
            "colorbar": {
             "outlinewidth": 0,
             "ticks": ""
            },
            "colorscale": [
             [
              0,
              "#0d0887"
             ],
             [
              0.1111111111111111,
              "#46039f"
             ],
             [
              0.2222222222222222,
              "#7201a8"
             ],
             [
              0.3333333333333333,
              "#9c179e"
             ],
             [
              0.4444444444444444,
              "#bd3786"
             ],
             [
              0.5555555555555556,
              "#d8576b"
             ],
             [
              0.6666666666666666,
              "#ed7953"
             ],
             [
              0.7777777777777778,
              "#fb9f3a"
             ],
             [
              0.8888888888888888,
              "#fdca26"
             ],
             [
              1,
              "#f0f921"
             ]
            ],
            "type": "heatmapgl"
           }
          ],
          "histogram": [
           {
            "marker": {
             "pattern": {
              "fillmode": "overlay",
              "size": 10,
              "solidity": 0.2
             }
            },
            "type": "histogram"
           }
          ],
          "histogram2d": [
           {
            "colorbar": {
             "outlinewidth": 0,
             "ticks": ""
            },
            "colorscale": [
             [
              0,
              "#0d0887"
             ],
             [
              0.1111111111111111,
              "#46039f"
             ],
             [
              0.2222222222222222,
              "#7201a8"
             ],
             [
              0.3333333333333333,
              "#9c179e"
             ],
             [
              0.4444444444444444,
              "#bd3786"
             ],
             [
              0.5555555555555556,
              "#d8576b"
             ],
             [
              0.6666666666666666,
              "#ed7953"
             ],
             [
              0.7777777777777778,
              "#fb9f3a"
             ],
             [
              0.8888888888888888,
              "#fdca26"
             ],
             [
              1,
              "#f0f921"
             ]
            ],
            "type": "histogram2d"
           }
          ],
          "histogram2dcontour": [
           {
            "colorbar": {
             "outlinewidth": 0,
             "ticks": ""
            },
            "colorscale": [
             [
              0,
              "#0d0887"
             ],
             [
              0.1111111111111111,
              "#46039f"
             ],
             [
              0.2222222222222222,
              "#7201a8"
             ],
             [
              0.3333333333333333,
              "#9c179e"
             ],
             [
              0.4444444444444444,
              "#bd3786"
             ],
             [
              0.5555555555555556,
              "#d8576b"
             ],
             [
              0.6666666666666666,
              "#ed7953"
             ],
             [
              0.7777777777777778,
              "#fb9f3a"
             ],
             [
              0.8888888888888888,
              "#fdca26"
             ],
             [
              1,
              "#f0f921"
             ]
            ],
            "type": "histogram2dcontour"
           }
          ],
          "mesh3d": [
           {
            "colorbar": {
             "outlinewidth": 0,
             "ticks": ""
            },
            "type": "mesh3d"
           }
          ],
          "parcoords": [
           {
            "line": {
             "colorbar": {
              "outlinewidth": 0,
              "ticks": ""
             }
            },
            "type": "parcoords"
           }
          ],
          "pie": [
           {
            "automargin": true,
            "type": "pie"
           }
          ],
          "scatter": [
           {
            "fillpattern": {
             "fillmode": "overlay",
             "size": 10,
             "solidity": 0.2
            },
            "type": "scatter"
           }
          ],
          "scatter3d": [
           {
            "line": {
             "colorbar": {
              "outlinewidth": 0,
              "ticks": ""
             }
            },
            "marker": {
             "colorbar": {
              "outlinewidth": 0,
              "ticks": ""
             }
            },
            "type": "scatter3d"
           }
          ],
          "scattercarpet": [
           {
            "marker": {
             "colorbar": {
              "outlinewidth": 0,
              "ticks": ""
             }
            },
            "type": "scattercarpet"
           }
          ],
          "scattergeo": [
           {
            "marker": {
             "colorbar": {
              "outlinewidth": 0,
              "ticks": ""
             }
            },
            "type": "scattergeo"
           }
          ],
          "scattergl": [
           {
            "marker": {
             "colorbar": {
              "outlinewidth": 0,
              "ticks": ""
             }
            },
            "type": "scattergl"
           }
          ],
          "scattermapbox": [
           {
            "marker": {
             "colorbar": {
              "outlinewidth": 0,
              "ticks": ""
             }
            },
            "type": "scattermapbox"
           }
          ],
          "scatterpolar": [
           {
            "marker": {
             "colorbar": {
              "outlinewidth": 0,
              "ticks": ""
             }
            },
            "type": "scatterpolar"
           }
          ],
          "scatterpolargl": [
           {
            "marker": {
             "colorbar": {
              "outlinewidth": 0,
              "ticks": ""
             }
            },
            "type": "scatterpolargl"
           }
          ],
          "scatterternary": [
           {
            "marker": {
             "colorbar": {
              "outlinewidth": 0,
              "ticks": ""
             }
            },
            "type": "scatterternary"
           }
          ],
          "surface": [
           {
            "colorbar": {
             "outlinewidth": 0,
             "ticks": ""
            },
            "colorscale": [
             [
              0,
              "#0d0887"
             ],
             [
              0.1111111111111111,
              "#46039f"
             ],
             [
              0.2222222222222222,
              "#7201a8"
             ],
             [
              0.3333333333333333,
              "#9c179e"
             ],
             [
              0.4444444444444444,
              "#bd3786"
             ],
             [
              0.5555555555555556,
              "#d8576b"
             ],
             [
              0.6666666666666666,
              "#ed7953"
             ],
             [
              0.7777777777777778,
              "#fb9f3a"
             ],
             [
              0.8888888888888888,
              "#fdca26"
             ],
             [
              1,
              "#f0f921"
             ]
            ],
            "type": "surface"
           }
          ],
          "table": [
           {
            "cells": {
             "fill": {
              "color": "#EBF0F8"
             },
             "line": {
              "color": "white"
             }
            },
            "header": {
             "fill": {
              "color": "#C8D4E3"
             },
             "line": {
              "color": "white"
             }
            },
            "type": "table"
           }
          ]
         },
         "layout": {
          "annotationdefaults": {
           "arrowcolor": "#2a3f5f",
           "arrowhead": 0,
           "arrowwidth": 1
          },
          "autotypenumbers": "strict",
          "coloraxis": {
           "colorbar": {
            "outlinewidth": 0,
            "ticks": ""
           }
          },
          "colorscale": {
           "diverging": [
            [
             0,
             "#8e0152"
            ],
            [
             0.1,
             "#c51b7d"
            ],
            [
             0.2,
             "#de77ae"
            ],
            [
             0.3,
             "#f1b6da"
            ],
            [
             0.4,
             "#fde0ef"
            ],
            [
             0.5,
             "#f7f7f7"
            ],
            [
             0.6,
             "#e6f5d0"
            ],
            [
             0.7,
             "#b8e186"
            ],
            [
             0.8,
             "#7fbc41"
            ],
            [
             0.9,
             "#4d9221"
            ],
            [
             1,
             "#276419"
            ]
           ],
           "sequential": [
            [
             0,
             "#0d0887"
            ],
            [
             0.1111111111111111,
             "#46039f"
            ],
            [
             0.2222222222222222,
             "#7201a8"
            ],
            [
             0.3333333333333333,
             "#9c179e"
            ],
            [
             0.4444444444444444,
             "#bd3786"
            ],
            [
             0.5555555555555556,
             "#d8576b"
            ],
            [
             0.6666666666666666,
             "#ed7953"
            ],
            [
             0.7777777777777778,
             "#fb9f3a"
            ],
            [
             0.8888888888888888,
             "#fdca26"
            ],
            [
             1,
             "#f0f921"
            ]
           ],
           "sequentialminus": [
            [
             0,
             "#0d0887"
            ],
            [
             0.1111111111111111,
             "#46039f"
            ],
            [
             0.2222222222222222,
             "#7201a8"
            ],
            [
             0.3333333333333333,
             "#9c179e"
            ],
            [
             0.4444444444444444,
             "#bd3786"
            ],
            [
             0.5555555555555556,
             "#d8576b"
            ],
            [
             0.6666666666666666,
             "#ed7953"
            ],
            [
             0.7777777777777778,
             "#fb9f3a"
            ],
            [
             0.8888888888888888,
             "#fdca26"
            ],
            [
             1,
             "#f0f921"
            ]
           ]
          },
          "colorway": [
           "#636efa",
           "#EF553B",
           "#00cc96",
           "#ab63fa",
           "#FFA15A",
           "#19d3f3",
           "#FF6692",
           "#B6E880",
           "#FF97FF",
           "#FECB52"
          ],
          "font": {
           "color": "#2a3f5f"
          },
          "geo": {
           "bgcolor": "white",
           "lakecolor": "white",
           "landcolor": "white",
           "showlakes": true,
           "showland": true,
           "subunitcolor": "#C8D4E3"
          },
          "hoverlabel": {
           "align": "left"
          },
          "hovermode": "closest",
          "mapbox": {
           "style": "light"
          },
          "paper_bgcolor": "white",
          "plot_bgcolor": "white",
          "polar": {
           "angularaxis": {
            "gridcolor": "#EBF0F8",
            "linecolor": "#EBF0F8",
            "ticks": ""
           },
           "bgcolor": "white",
           "radialaxis": {
            "gridcolor": "#EBF0F8",
            "linecolor": "#EBF0F8",
            "ticks": ""
           }
          },
          "scene": {
           "xaxis": {
            "backgroundcolor": "white",
            "gridcolor": "#DFE8F3",
            "gridwidth": 2,
            "linecolor": "#EBF0F8",
            "showbackground": true,
            "ticks": "",
            "zerolinecolor": "#EBF0F8"
           },
           "yaxis": {
            "backgroundcolor": "white",
            "gridcolor": "#DFE8F3",
            "gridwidth": 2,
            "linecolor": "#EBF0F8",
            "showbackground": true,
            "ticks": "",
            "zerolinecolor": "#EBF0F8"
           },
           "zaxis": {
            "backgroundcolor": "white",
            "gridcolor": "#DFE8F3",
            "gridwidth": 2,
            "linecolor": "#EBF0F8",
            "showbackground": true,
            "ticks": "",
            "zerolinecolor": "#EBF0F8"
           }
          },
          "shapedefaults": {
           "line": {
            "color": "#2a3f5f"
           }
          },
          "ternary": {
           "aaxis": {
            "gridcolor": "#DFE8F3",
            "linecolor": "#A2B1C6",
            "ticks": ""
           },
           "baxis": {
            "gridcolor": "#DFE8F3",
            "linecolor": "#A2B1C6",
            "ticks": ""
           },
           "bgcolor": "white",
           "caxis": {
            "gridcolor": "#DFE8F3",
            "linecolor": "#A2B1C6",
            "ticks": ""
           }
          },
          "title": {
           "x": 0.05
          },
          "xaxis": {
           "automargin": true,
           "gridcolor": "#EBF0F8",
           "linecolor": "#EBF0F8",
           "ticks": "",
           "title": {
            "standoff": 15
           },
           "zerolinecolor": "#EBF0F8",
           "zerolinewidth": 2
          },
          "yaxis": {
           "automargin": true,
           "gridcolor": "#EBF0F8",
           "linecolor": "#EBF0F8",
           "ticks": "",
           "title": {
            "standoff": 15
           },
           "zerolinecolor": "#EBF0F8",
           "zerolinewidth": 2
          }
         }
        },
        "title": {
         "text": "Model Performance Curves: modele_brain_tumor_20241210_123938"
        },
        "xaxis": {
         "anchor": "y",
         "domain": [
          0,
          0.45
         ],
         "title": {
          "text": "Epochs"
         }
        },
        "xaxis2": {
         "anchor": "y2",
         "domain": [
          0.55,
          1
         ]
        },
        "yaxis": {
         "anchor": "x",
         "domain": [
          0,
          1
         ]
        },
        "yaxis2": {
         "anchor": "x2",
         "domain": [
          0,
          1
         ]
        }
       }
      }
     },
     "metadata": {},
     "output_type": "display_data"
    }
   ],
   "source": [
    "plot_model_curves(models_history, 'modele_brain_tumor_20241210_123938')"
   ]
  },
  {
   "cell_type": "code",
   "execution_count": 19,
   "metadata": {},
   "outputs": [
    {
     "name": "stdout",
     "output_type": "stream",
     "text": [
      "Test Accuracy du modele 1\n",
      "\n",
      "0.6701\n",
      "\n",
      "Test Accuracy du modele 3\n",
      "\n",
      "0.2538\n"
     ]
    }
   ],
   "source": [
    "print('Test Accuracy du modele 1')\n",
    "print('')\n",
    "print(get_test_accuracy(models_history, 'modele_brain_tumor_20241117_205951'))\n",
    "print('')\n",
    "print('Test Accuracy du modele 3')\n",
    "print('')\n",
    "print(get_test_accuracy(models_history, 'modele_brain_tumor_20241210_123938'))"
   ]
  },
  {
   "cell_type": "markdown",
   "metadata": {},
   "source": [
    "# Analyse des Performances des Modèles\n",
    "\n",
    "Nous constatons que les **test accuracy** varient considérablement, avec le modèle 3 affichant des performances nettement inférieures. Une explication détaillée sera fournie dans le rapport pour analyser cette différence."
   ]
  },
  {
   "cell_type": "markdown",
   "metadata": {},
   "source": [
    "# Benchmarking Général 📊\n",
    "\n",
    "En utilisant les métriques définies au début ✅\n"
   ]
  },
  {
   "cell_type": "code",
   "execution_count": 8,
   "metadata": {},
   "outputs": [],
   "source": [
    "#--accuracy--\n",
    "accuracy_1 = get_test_accuracy(models_history, 'modele_brain_tumor_20241117_205951')\n",
    "accuracy_2 = get_test_accuracy(models_history, 'modele_brain_tumor_20241125_002219')\n",
    "accuracy_3 = get_test_accuracy(models_history, 'modele_brain_tumor_20241210_123938')\n",
    "\n",
    "#--loss--\n",
    "loss_1 = get_test_loss(models_history, 'modele_brain_tumor_20241117_205951')\n",
    "loss_2 = get_test_loss(models_history, 'modele_brain_tumor_20241125_002219')\n",
    "loss_3 = get_test_loss(models_history, 'modele_brain_tumor_20241210_123938')\n"
   ]
  },
  {
   "cell_type": "code",
   "execution_count": 10,
   "metadata": {},
   "outputs": [
    {
     "data": {
      "application/vnd.plotly.v1+json": {
       "config": {
        "plotlyServerURL": "https://plot.ly"
       },
       "data": [
        {
         "alignmentgroup": "True",
         "hovertemplate": "Model=%{x}<br>Accuracy (%)=%{y}<extra></extra>",
         "legendgroup": "",
         "marker": {
          "color": "#636efa",
          "pattern": {
           "shape": ""
          }
         },
         "name": "",
         "offsetgroup": "",
         "orientation": "v",
         "showlegend": false,
         "textposition": "auto",
         "type": "bar",
         "x": [
          "Model 1",
          "Model 2",
          "Model 3"
         ],
         "xaxis": "x",
         "y": [
          0.6701,
          0.6649746298789978,
          0.2538
         ],
         "yaxis": "y"
        }
       ],
       "layout": {
        "barmode": "relative",
        "legend": {
         "tracegroupgap": 0
        },
        "template": {
         "data": {
          "bar": [
           {
            "error_x": {
             "color": "#2a3f5f"
            },
            "error_y": {
             "color": "#2a3f5f"
            },
            "marker": {
             "line": {
              "color": "#E5ECF6",
              "width": 0.5
             },
             "pattern": {
              "fillmode": "overlay",
              "size": 10,
              "solidity": 0.2
             }
            },
            "type": "bar"
           }
          ],
          "barpolar": [
           {
            "marker": {
             "line": {
              "color": "#E5ECF6",
              "width": 0.5
             },
             "pattern": {
              "fillmode": "overlay",
              "size": 10,
              "solidity": 0.2
             }
            },
            "type": "barpolar"
           }
          ],
          "carpet": [
           {
            "aaxis": {
             "endlinecolor": "#2a3f5f",
             "gridcolor": "white",
             "linecolor": "white",
             "minorgridcolor": "white",
             "startlinecolor": "#2a3f5f"
            },
            "baxis": {
             "endlinecolor": "#2a3f5f",
             "gridcolor": "white",
             "linecolor": "white",
             "minorgridcolor": "white",
             "startlinecolor": "#2a3f5f"
            },
            "type": "carpet"
           }
          ],
          "choropleth": [
           {
            "colorbar": {
             "outlinewidth": 0,
             "ticks": ""
            },
            "type": "choropleth"
           }
          ],
          "contour": [
           {
            "colorbar": {
             "outlinewidth": 0,
             "ticks": ""
            },
            "colorscale": [
             [
              0,
              "#0d0887"
             ],
             [
              0.1111111111111111,
              "#46039f"
             ],
             [
              0.2222222222222222,
              "#7201a8"
             ],
             [
              0.3333333333333333,
              "#9c179e"
             ],
             [
              0.4444444444444444,
              "#bd3786"
             ],
             [
              0.5555555555555556,
              "#d8576b"
             ],
             [
              0.6666666666666666,
              "#ed7953"
             ],
             [
              0.7777777777777778,
              "#fb9f3a"
             ],
             [
              0.8888888888888888,
              "#fdca26"
             ],
             [
              1,
              "#f0f921"
             ]
            ],
            "type": "contour"
           }
          ],
          "contourcarpet": [
           {
            "colorbar": {
             "outlinewidth": 0,
             "ticks": ""
            },
            "type": "contourcarpet"
           }
          ],
          "heatmap": [
           {
            "colorbar": {
             "outlinewidth": 0,
             "ticks": ""
            },
            "colorscale": [
             [
              0,
              "#0d0887"
             ],
             [
              0.1111111111111111,
              "#46039f"
             ],
             [
              0.2222222222222222,
              "#7201a8"
             ],
             [
              0.3333333333333333,
              "#9c179e"
             ],
             [
              0.4444444444444444,
              "#bd3786"
             ],
             [
              0.5555555555555556,
              "#d8576b"
             ],
             [
              0.6666666666666666,
              "#ed7953"
             ],
             [
              0.7777777777777778,
              "#fb9f3a"
             ],
             [
              0.8888888888888888,
              "#fdca26"
             ],
             [
              1,
              "#f0f921"
             ]
            ],
            "type": "heatmap"
           }
          ],
          "heatmapgl": [
           {
            "colorbar": {
             "outlinewidth": 0,
             "ticks": ""
            },
            "colorscale": [
             [
              0,
              "#0d0887"
             ],
             [
              0.1111111111111111,
              "#46039f"
             ],
             [
              0.2222222222222222,
              "#7201a8"
             ],
             [
              0.3333333333333333,
              "#9c179e"
             ],
             [
              0.4444444444444444,
              "#bd3786"
             ],
             [
              0.5555555555555556,
              "#d8576b"
             ],
             [
              0.6666666666666666,
              "#ed7953"
             ],
             [
              0.7777777777777778,
              "#fb9f3a"
             ],
             [
              0.8888888888888888,
              "#fdca26"
             ],
             [
              1,
              "#f0f921"
             ]
            ],
            "type": "heatmapgl"
           }
          ],
          "histogram": [
           {
            "marker": {
             "pattern": {
              "fillmode": "overlay",
              "size": 10,
              "solidity": 0.2
             }
            },
            "type": "histogram"
           }
          ],
          "histogram2d": [
           {
            "colorbar": {
             "outlinewidth": 0,
             "ticks": ""
            },
            "colorscale": [
             [
              0,
              "#0d0887"
             ],
             [
              0.1111111111111111,
              "#46039f"
             ],
             [
              0.2222222222222222,
              "#7201a8"
             ],
             [
              0.3333333333333333,
              "#9c179e"
             ],
             [
              0.4444444444444444,
              "#bd3786"
             ],
             [
              0.5555555555555556,
              "#d8576b"
             ],
             [
              0.6666666666666666,
              "#ed7953"
             ],
             [
              0.7777777777777778,
              "#fb9f3a"
             ],
             [
              0.8888888888888888,
              "#fdca26"
             ],
             [
              1,
              "#f0f921"
             ]
            ],
            "type": "histogram2d"
           }
          ],
          "histogram2dcontour": [
           {
            "colorbar": {
             "outlinewidth": 0,
             "ticks": ""
            },
            "colorscale": [
             [
              0,
              "#0d0887"
             ],
             [
              0.1111111111111111,
              "#46039f"
             ],
             [
              0.2222222222222222,
              "#7201a8"
             ],
             [
              0.3333333333333333,
              "#9c179e"
             ],
             [
              0.4444444444444444,
              "#bd3786"
             ],
             [
              0.5555555555555556,
              "#d8576b"
             ],
             [
              0.6666666666666666,
              "#ed7953"
             ],
             [
              0.7777777777777778,
              "#fb9f3a"
             ],
             [
              0.8888888888888888,
              "#fdca26"
             ],
             [
              1,
              "#f0f921"
             ]
            ],
            "type": "histogram2dcontour"
           }
          ],
          "mesh3d": [
           {
            "colorbar": {
             "outlinewidth": 0,
             "ticks": ""
            },
            "type": "mesh3d"
           }
          ],
          "parcoords": [
           {
            "line": {
             "colorbar": {
              "outlinewidth": 0,
              "ticks": ""
             }
            },
            "type": "parcoords"
           }
          ],
          "pie": [
           {
            "automargin": true,
            "type": "pie"
           }
          ],
          "scatter": [
           {
            "fillpattern": {
             "fillmode": "overlay",
             "size": 10,
             "solidity": 0.2
            },
            "type": "scatter"
           }
          ],
          "scatter3d": [
           {
            "line": {
             "colorbar": {
              "outlinewidth": 0,
              "ticks": ""
             }
            },
            "marker": {
             "colorbar": {
              "outlinewidth": 0,
              "ticks": ""
             }
            },
            "type": "scatter3d"
           }
          ],
          "scattercarpet": [
           {
            "marker": {
             "colorbar": {
              "outlinewidth": 0,
              "ticks": ""
             }
            },
            "type": "scattercarpet"
           }
          ],
          "scattergeo": [
           {
            "marker": {
             "colorbar": {
              "outlinewidth": 0,
              "ticks": ""
             }
            },
            "type": "scattergeo"
           }
          ],
          "scattergl": [
           {
            "marker": {
             "colorbar": {
              "outlinewidth": 0,
              "ticks": ""
             }
            },
            "type": "scattergl"
           }
          ],
          "scattermapbox": [
           {
            "marker": {
             "colorbar": {
              "outlinewidth": 0,
              "ticks": ""
             }
            },
            "type": "scattermapbox"
           }
          ],
          "scatterpolar": [
           {
            "marker": {
             "colorbar": {
              "outlinewidth": 0,
              "ticks": ""
             }
            },
            "type": "scatterpolar"
           }
          ],
          "scatterpolargl": [
           {
            "marker": {
             "colorbar": {
              "outlinewidth": 0,
              "ticks": ""
             }
            },
            "type": "scatterpolargl"
           }
          ],
          "scatterternary": [
           {
            "marker": {
             "colorbar": {
              "outlinewidth": 0,
              "ticks": ""
             }
            },
            "type": "scatterternary"
           }
          ],
          "surface": [
           {
            "colorbar": {
             "outlinewidth": 0,
             "ticks": ""
            },
            "colorscale": [
             [
              0,
              "#0d0887"
             ],
             [
              0.1111111111111111,
              "#46039f"
             ],
             [
              0.2222222222222222,
              "#7201a8"
             ],
             [
              0.3333333333333333,
              "#9c179e"
             ],
             [
              0.4444444444444444,
              "#bd3786"
             ],
             [
              0.5555555555555556,
              "#d8576b"
             ],
             [
              0.6666666666666666,
              "#ed7953"
             ],
             [
              0.7777777777777778,
              "#fb9f3a"
             ],
             [
              0.8888888888888888,
              "#fdca26"
             ],
             [
              1,
              "#f0f921"
             ]
            ],
            "type": "surface"
           }
          ],
          "table": [
           {
            "cells": {
             "fill": {
              "color": "#EBF0F8"
             },
             "line": {
              "color": "white"
             }
            },
            "header": {
             "fill": {
              "color": "#C8D4E3"
             },
             "line": {
              "color": "white"
             }
            },
            "type": "table"
           }
          ]
         },
         "layout": {
          "annotationdefaults": {
           "arrowcolor": "#2a3f5f",
           "arrowhead": 0,
           "arrowwidth": 1
          },
          "autotypenumbers": "strict",
          "coloraxis": {
           "colorbar": {
            "outlinewidth": 0,
            "ticks": ""
           }
          },
          "colorscale": {
           "diverging": [
            [
             0,
             "#8e0152"
            ],
            [
             0.1,
             "#c51b7d"
            ],
            [
             0.2,
             "#de77ae"
            ],
            [
             0.3,
             "#f1b6da"
            ],
            [
             0.4,
             "#fde0ef"
            ],
            [
             0.5,
             "#f7f7f7"
            ],
            [
             0.6,
             "#e6f5d0"
            ],
            [
             0.7,
             "#b8e186"
            ],
            [
             0.8,
             "#7fbc41"
            ],
            [
             0.9,
             "#4d9221"
            ],
            [
             1,
             "#276419"
            ]
           ],
           "sequential": [
            [
             0,
             "#0d0887"
            ],
            [
             0.1111111111111111,
             "#46039f"
            ],
            [
             0.2222222222222222,
             "#7201a8"
            ],
            [
             0.3333333333333333,
             "#9c179e"
            ],
            [
             0.4444444444444444,
             "#bd3786"
            ],
            [
             0.5555555555555556,
             "#d8576b"
            ],
            [
             0.6666666666666666,
             "#ed7953"
            ],
            [
             0.7777777777777778,
             "#fb9f3a"
            ],
            [
             0.8888888888888888,
             "#fdca26"
            ],
            [
             1,
             "#f0f921"
            ]
           ],
           "sequentialminus": [
            [
             0,
             "#0d0887"
            ],
            [
             0.1111111111111111,
             "#46039f"
            ],
            [
             0.2222222222222222,
             "#7201a8"
            ],
            [
             0.3333333333333333,
             "#9c179e"
            ],
            [
             0.4444444444444444,
             "#bd3786"
            ],
            [
             0.5555555555555556,
             "#d8576b"
            ],
            [
             0.6666666666666666,
             "#ed7953"
            ],
            [
             0.7777777777777778,
             "#fb9f3a"
            ],
            [
             0.8888888888888888,
             "#fdca26"
            ],
            [
             1,
             "#f0f921"
            ]
           ]
          },
          "colorway": [
           "#636efa",
           "#EF553B",
           "#00cc96",
           "#ab63fa",
           "#FFA15A",
           "#19d3f3",
           "#FF6692",
           "#B6E880",
           "#FF97FF",
           "#FECB52"
          ],
          "font": {
           "color": "#2a3f5f"
          },
          "geo": {
           "bgcolor": "white",
           "lakecolor": "white",
           "landcolor": "#E5ECF6",
           "showlakes": true,
           "showland": true,
           "subunitcolor": "white"
          },
          "hoverlabel": {
           "align": "left"
          },
          "hovermode": "closest",
          "mapbox": {
           "style": "light"
          },
          "paper_bgcolor": "white",
          "plot_bgcolor": "#E5ECF6",
          "polar": {
           "angularaxis": {
            "gridcolor": "white",
            "linecolor": "white",
            "ticks": ""
           },
           "bgcolor": "#E5ECF6",
           "radialaxis": {
            "gridcolor": "white",
            "linecolor": "white",
            "ticks": ""
           }
          },
          "scene": {
           "xaxis": {
            "backgroundcolor": "#E5ECF6",
            "gridcolor": "white",
            "gridwidth": 2,
            "linecolor": "white",
            "showbackground": true,
            "ticks": "",
            "zerolinecolor": "white"
           },
           "yaxis": {
            "backgroundcolor": "#E5ECF6",
            "gridcolor": "white",
            "gridwidth": 2,
            "linecolor": "white",
            "showbackground": true,
            "ticks": "",
            "zerolinecolor": "white"
           },
           "zaxis": {
            "backgroundcolor": "#E5ECF6",
            "gridcolor": "white",
            "gridwidth": 2,
            "linecolor": "white",
            "showbackground": true,
            "ticks": "",
            "zerolinecolor": "white"
           }
          },
          "shapedefaults": {
           "line": {
            "color": "#2a3f5f"
           }
          },
          "ternary": {
           "aaxis": {
            "gridcolor": "white",
            "linecolor": "white",
            "ticks": ""
           },
           "baxis": {
            "gridcolor": "white",
            "linecolor": "white",
            "ticks": ""
           },
           "bgcolor": "#E5ECF6",
           "caxis": {
            "gridcolor": "white",
            "linecolor": "white",
            "ticks": ""
           }
          },
          "title": {
           "x": 0.05
          },
          "xaxis": {
           "automargin": true,
           "gridcolor": "white",
           "linecolor": "white",
           "ticks": "",
           "title": {
            "standoff": 15
           },
           "zerolinecolor": "white",
           "zerolinewidth": 2
          },
          "yaxis": {
           "automargin": true,
           "gridcolor": "white",
           "linecolor": "white",
           "ticks": "",
           "title": {
            "standoff": 15
           },
           "zerolinecolor": "white",
           "zerolinewidth": 2
          }
         }
        },
        "title": {
         "text": "Model Accuracy"
        },
        "xaxis": {
         "anchor": "y",
         "domain": [
          0,
          1
         ],
         "title": {
          "text": "Model"
         }
        },
        "yaxis": {
         "anchor": "x",
         "domain": [
          0,
          1
         ],
         "title": {
          "text": "Accuracy (%)"
         }
        }
       }
      }
     },
     "metadata": {},
     "output_type": "display_data"
    }
   ],
   "source": [
    "accuracy = [accuracy_1,accuracy_2,accuracy_3]\n",
    "\n",
    "labels = [\n",
    "    'Model 1',\n",
    "    'Model 2',\n",
    "    'Model 3'\n",
    "]\n",
    "\n",
    "plot_accuracy_histogram(accuracy, labels)"
   ]
  },
  {
   "cell_type": "code",
   "execution_count": null,
   "metadata": {},
   "outputs": [
    {
     "name": "stdout",
     "output_type": "stream",
     "text": [
      "13/13 [==============================] - 42s 3s/step\n",
      "13/13 [==============================] - 33s 2s/step\n",
      "13/13 [==============================] - 37s 3s/step\n"
     ]
    },
    {
     "name": "stderr",
     "output_type": "stream",
     "text": [
      "/Users/lilya/Downloads/M2 ISDS/Projects/Brain_tumor/venv/lib/python3.11/site-packages/sklearn/metrics/_classification.py:1531: UndefinedMetricWarning:\n",
      "\n",
      "Precision is ill-defined and being set to 0.0 in labels with no predicted samples. Use `zero_division` parameter to control this behavior.\n",
      "\n",
      "/Users/lilya/Downloads/M2 ISDS/Projects/Brain_tumor/venv/lib/python3.11/site-packages/sklearn/metrics/_classification.py:1531: UndefinedMetricWarning:\n",
      "\n",
      "Precision is ill-defined and being set to 0.0 in labels with no predicted samples. Use `zero_division` parameter to control this behavior.\n",
      "\n",
      "/Users/lilya/Downloads/M2 ISDS/Projects/Brain_tumor/venv/lib/python3.11/site-packages/sklearn/metrics/_classification.py:1531: UndefinedMetricWarning:\n",
      "\n",
      "Precision is ill-defined and being set to 0.0 in labels with no predicted samples. Use `zero_division` parameter to control this behavior.\n",
      "\n"
     ]
    }
   ],
   "source": [
    "model_1_metric = classification_report_aggregated(model_1, x_test, y_test)\n",
    "model_2_metric = classification_report_aggregated(model_2, x_test, y_test)\n",
    "model_3_metric = classification_report_aggregated(model_3, x_test, y_test)"
   ]
  },
  {
   "cell_type": "code",
   "execution_count": null,
   "metadata": {},
   "outputs": [
    {
     "data": {
      "text/html": [
       "<div>\n",
       "<style scoped>\n",
       "    .dataframe tbody tr th:only-of-type {\n",
       "        vertical-align: middle;\n",
       "    }\n",
       "\n",
       "    .dataframe tbody tr th {\n",
       "        vertical-align: top;\n",
       "    }\n",
       "\n",
       "    .dataframe thead th {\n",
       "        text-align: right;\n",
       "    }\n",
       "</style>\n",
       "<table border=\"1\" class=\"dataframe\">\n",
       "  <thead>\n",
       "    <tr style=\"text-align: right;\">\n",
       "      <th></th>\n",
       "      <th>Models</th>\n",
       "      <th>Precision</th>\n",
       "      <th>F1-score</th>\n",
       "      <th>Recall</th>\n",
       "      <th>Accuracy</th>\n",
       "      <th>Loss</th>\n",
       "    </tr>\n",
       "  </thead>\n",
       "  <tbody>\n",
       "    <tr>\n",
       "      <th>0</th>\n",
       "      <td>model_1</td>\n",
       "      <td>0.724620</td>\n",
       "      <td>0.623519</td>\n",
       "      <td>0.670051</td>\n",
       "      <td>0.670100</td>\n",
       "      <td>4.159100</td>\n",
       "    </tr>\n",
       "    <tr>\n",
       "      <th>1</th>\n",
       "      <td>model_2</td>\n",
       "      <td>0.712068</td>\n",
       "      <td>0.623227</td>\n",
       "      <td>0.664975</td>\n",
       "      <td>0.664975</td>\n",
       "      <td>4.787893</td>\n",
       "    </tr>\n",
       "    <tr>\n",
       "      <th>2</th>\n",
       "      <td>model_3</td>\n",
       "      <td>0.064418</td>\n",
       "      <td>0.102756</td>\n",
       "      <td>0.253807</td>\n",
       "      <td>0.253800</td>\n",
       "      <td>1.429900</td>\n",
       "    </tr>\n",
       "  </tbody>\n",
       "</table>\n",
       "</div>"
      ],
      "text/plain": [
       "    Models  Precision  F1-score    Recall  Accuracy      Loss\n",
       "0  model_1   0.724620  0.623519  0.670051  0.670100  4.159100\n",
       "1  model_2   0.712068  0.623227  0.664975  0.664975  4.787893\n",
       "2  model_3   0.064418  0.102756  0.253807  0.253800  1.429900"
      ]
     },
     "execution_count": 19,
     "metadata": {},
     "output_type": "execute_result"
    }
   ],
   "source": [
    "df= pd.DataFrame()\n",
    "df['Models'] = [f'model_{i}' for i in range(1,4)]\n",
    "df['Precision'] = [model_1_metric['precision_avg'],model_2_metric['precision_avg'],model_3_metric['precision_avg']]\n",
    "df['F1-score'] = [model_1_metric['f1_score_avg'],model_2_metric['f1_score_avg'],model_3_metric['f1_score_avg']]\n",
    "df['Recall'] = [model_1_metric['recall_avg'],model_2_metric['recall_avg'],model_3_metric['recall_avg']]\n",
    "df['Accuracy'] = [accuracy_1,accuracy_2,accuracy_3]\n",
    "df['Loss'] = [loss_1,loss_2,loss_3]\n",
    "df"
   ]
  },
  {
   "cell_type": "code",
   "execution_count": null,
   "metadata": {},
   "outputs": [
    {
     "data": {
      "application/vnd.plotly.v1+json": {
       "config": {
        "plotlyServerURL": "https://plot.ly"
       },
       "data": [
        {
         "alignmentgroup": "True",
         "hovertemplate": "Models=model_1<br>Metrics=%{x}<br>Scores=%{y}<extra></extra>",
         "legendgroup": "model_1",
         "marker": {
          "color": "#636efa",
          "pattern": {
           "shape": ""
          }
         },
         "name": "model_1",
         "offsetgroup": "model_1",
         "orientation": "v",
         "showlegend": true,
         "textposition": "auto",
         "type": "bar",
         "x": [
          "Precision",
          "F1-score",
          "Recall",
          "Accuracy",
          "Loss"
         ],
         "xaxis": "x",
         "y": [
          0.7246195349450508,
          0.6235191924490362,
          0.6700507614213198,
          0.6701,
          4.1591
         ],
         "yaxis": "y"
        },
        {
         "alignmentgroup": "True",
         "hovertemplate": "Models=model_2<br>Metrics=%{x}<br>Scores=%{y}<extra></extra>",
         "legendgroup": "model_2",
         "marker": {
          "color": "#EF553B",
          "pattern": {
           "shape": ""
          }
         },
         "name": "model_2",
         "offsetgroup": "model_2",
         "orientation": "v",
         "showlegend": true,
         "textposition": "auto",
         "type": "bar",
         "x": [
          "Precision",
          "F1-score",
          "Recall",
          "Accuracy",
          "Loss"
         ],
         "xaxis": "x",
         "y": [
          0.7120678857288345,
          0.6232274604249696,
          0.6649746192893401,
          0.6649746298789978,
          4.787892818450928
         ],
         "yaxis": "y"
        },
        {
         "alignmentgroup": "True",
         "hovertemplate": "Models=model_3<br>Metrics=%{x}<br>Scores=%{y}<extra></extra>",
         "legendgroup": "model_3",
         "marker": {
          "color": "#00cc96",
          "pattern": {
           "shape": ""
          }
         },
         "name": "model_3",
         "offsetgroup": "model_3",
         "orientation": "v",
         "showlegend": true,
         "textposition": "auto",
         "type": "bar",
         "x": [
          "Precision",
          "F1-score",
          "Recall",
          "Accuracy",
          "Loss"
         ],
         "xaxis": "x",
         "y": [
          0.06441804736014842,
          0.10275591360282785,
          0.25380710659898476,
          0.2538,
          1.4299
         ],
         "yaxis": "y"
        }
       ],
       "layout": {
        "barmode": "group",
        "legend": {
         "title": {
          "text": "Models"
         },
         "tracegroupgap": 0
        },
        "template": {
         "data": {
          "bar": [
           {
            "error_x": {
             "color": "#2a3f5f"
            },
            "error_y": {
             "color": "#2a3f5f"
            },
            "marker": {
             "line": {
              "color": "#E5ECF6",
              "width": 0.5
             },
             "pattern": {
              "fillmode": "overlay",
              "size": 10,
              "solidity": 0.2
             }
            },
            "type": "bar"
           }
          ],
          "barpolar": [
           {
            "marker": {
             "line": {
              "color": "#E5ECF6",
              "width": 0.5
             },
             "pattern": {
              "fillmode": "overlay",
              "size": 10,
              "solidity": 0.2
             }
            },
            "type": "barpolar"
           }
          ],
          "carpet": [
           {
            "aaxis": {
             "endlinecolor": "#2a3f5f",
             "gridcolor": "white",
             "linecolor": "white",
             "minorgridcolor": "white",
             "startlinecolor": "#2a3f5f"
            },
            "baxis": {
             "endlinecolor": "#2a3f5f",
             "gridcolor": "white",
             "linecolor": "white",
             "minorgridcolor": "white",
             "startlinecolor": "#2a3f5f"
            },
            "type": "carpet"
           }
          ],
          "choropleth": [
           {
            "colorbar": {
             "outlinewidth": 0,
             "ticks": ""
            },
            "type": "choropleth"
           }
          ],
          "contour": [
           {
            "colorbar": {
             "outlinewidth": 0,
             "ticks": ""
            },
            "colorscale": [
             [
              0,
              "#0d0887"
             ],
             [
              0.1111111111111111,
              "#46039f"
             ],
             [
              0.2222222222222222,
              "#7201a8"
             ],
             [
              0.3333333333333333,
              "#9c179e"
             ],
             [
              0.4444444444444444,
              "#bd3786"
             ],
             [
              0.5555555555555556,
              "#d8576b"
             ],
             [
              0.6666666666666666,
              "#ed7953"
             ],
             [
              0.7777777777777778,
              "#fb9f3a"
             ],
             [
              0.8888888888888888,
              "#fdca26"
             ],
             [
              1,
              "#f0f921"
             ]
            ],
            "type": "contour"
           }
          ],
          "contourcarpet": [
           {
            "colorbar": {
             "outlinewidth": 0,
             "ticks": ""
            },
            "type": "contourcarpet"
           }
          ],
          "heatmap": [
           {
            "colorbar": {
             "outlinewidth": 0,
             "ticks": ""
            },
            "colorscale": [
             [
              0,
              "#0d0887"
             ],
             [
              0.1111111111111111,
              "#46039f"
             ],
             [
              0.2222222222222222,
              "#7201a8"
             ],
             [
              0.3333333333333333,
              "#9c179e"
             ],
             [
              0.4444444444444444,
              "#bd3786"
             ],
             [
              0.5555555555555556,
              "#d8576b"
             ],
             [
              0.6666666666666666,
              "#ed7953"
             ],
             [
              0.7777777777777778,
              "#fb9f3a"
             ],
             [
              0.8888888888888888,
              "#fdca26"
             ],
             [
              1,
              "#f0f921"
             ]
            ],
            "type": "heatmap"
           }
          ],
          "heatmapgl": [
           {
            "colorbar": {
             "outlinewidth": 0,
             "ticks": ""
            },
            "colorscale": [
             [
              0,
              "#0d0887"
             ],
             [
              0.1111111111111111,
              "#46039f"
             ],
             [
              0.2222222222222222,
              "#7201a8"
             ],
             [
              0.3333333333333333,
              "#9c179e"
             ],
             [
              0.4444444444444444,
              "#bd3786"
             ],
             [
              0.5555555555555556,
              "#d8576b"
             ],
             [
              0.6666666666666666,
              "#ed7953"
             ],
             [
              0.7777777777777778,
              "#fb9f3a"
             ],
             [
              0.8888888888888888,
              "#fdca26"
             ],
             [
              1,
              "#f0f921"
             ]
            ],
            "type": "heatmapgl"
           }
          ],
          "histogram": [
           {
            "marker": {
             "pattern": {
              "fillmode": "overlay",
              "size": 10,
              "solidity": 0.2
             }
            },
            "type": "histogram"
           }
          ],
          "histogram2d": [
           {
            "colorbar": {
             "outlinewidth": 0,
             "ticks": ""
            },
            "colorscale": [
             [
              0,
              "#0d0887"
             ],
             [
              0.1111111111111111,
              "#46039f"
             ],
             [
              0.2222222222222222,
              "#7201a8"
             ],
             [
              0.3333333333333333,
              "#9c179e"
             ],
             [
              0.4444444444444444,
              "#bd3786"
             ],
             [
              0.5555555555555556,
              "#d8576b"
             ],
             [
              0.6666666666666666,
              "#ed7953"
             ],
             [
              0.7777777777777778,
              "#fb9f3a"
             ],
             [
              0.8888888888888888,
              "#fdca26"
             ],
             [
              1,
              "#f0f921"
             ]
            ],
            "type": "histogram2d"
           }
          ],
          "histogram2dcontour": [
           {
            "colorbar": {
             "outlinewidth": 0,
             "ticks": ""
            },
            "colorscale": [
             [
              0,
              "#0d0887"
             ],
             [
              0.1111111111111111,
              "#46039f"
             ],
             [
              0.2222222222222222,
              "#7201a8"
             ],
             [
              0.3333333333333333,
              "#9c179e"
             ],
             [
              0.4444444444444444,
              "#bd3786"
             ],
             [
              0.5555555555555556,
              "#d8576b"
             ],
             [
              0.6666666666666666,
              "#ed7953"
             ],
             [
              0.7777777777777778,
              "#fb9f3a"
             ],
             [
              0.8888888888888888,
              "#fdca26"
             ],
             [
              1,
              "#f0f921"
             ]
            ],
            "type": "histogram2dcontour"
           }
          ],
          "mesh3d": [
           {
            "colorbar": {
             "outlinewidth": 0,
             "ticks": ""
            },
            "type": "mesh3d"
           }
          ],
          "parcoords": [
           {
            "line": {
             "colorbar": {
              "outlinewidth": 0,
              "ticks": ""
             }
            },
            "type": "parcoords"
           }
          ],
          "pie": [
           {
            "automargin": true,
            "type": "pie"
           }
          ],
          "scatter": [
           {
            "fillpattern": {
             "fillmode": "overlay",
             "size": 10,
             "solidity": 0.2
            },
            "type": "scatter"
           }
          ],
          "scatter3d": [
           {
            "line": {
             "colorbar": {
              "outlinewidth": 0,
              "ticks": ""
             }
            },
            "marker": {
             "colorbar": {
              "outlinewidth": 0,
              "ticks": ""
             }
            },
            "type": "scatter3d"
           }
          ],
          "scattercarpet": [
           {
            "marker": {
             "colorbar": {
              "outlinewidth": 0,
              "ticks": ""
             }
            },
            "type": "scattercarpet"
           }
          ],
          "scattergeo": [
           {
            "marker": {
             "colorbar": {
              "outlinewidth": 0,
              "ticks": ""
             }
            },
            "type": "scattergeo"
           }
          ],
          "scattergl": [
           {
            "marker": {
             "colorbar": {
              "outlinewidth": 0,
              "ticks": ""
             }
            },
            "type": "scattergl"
           }
          ],
          "scattermapbox": [
           {
            "marker": {
             "colorbar": {
              "outlinewidth": 0,
              "ticks": ""
             }
            },
            "type": "scattermapbox"
           }
          ],
          "scatterpolar": [
           {
            "marker": {
             "colorbar": {
              "outlinewidth": 0,
              "ticks": ""
             }
            },
            "type": "scatterpolar"
           }
          ],
          "scatterpolargl": [
           {
            "marker": {
             "colorbar": {
              "outlinewidth": 0,
              "ticks": ""
             }
            },
            "type": "scatterpolargl"
           }
          ],
          "scatterternary": [
           {
            "marker": {
             "colorbar": {
              "outlinewidth": 0,
              "ticks": ""
             }
            },
            "type": "scatterternary"
           }
          ],
          "surface": [
           {
            "colorbar": {
             "outlinewidth": 0,
             "ticks": ""
            },
            "colorscale": [
             [
              0,
              "#0d0887"
             ],
             [
              0.1111111111111111,
              "#46039f"
             ],
             [
              0.2222222222222222,
              "#7201a8"
             ],
             [
              0.3333333333333333,
              "#9c179e"
             ],
             [
              0.4444444444444444,
              "#bd3786"
             ],
             [
              0.5555555555555556,
              "#d8576b"
             ],
             [
              0.6666666666666666,
              "#ed7953"
             ],
             [
              0.7777777777777778,
              "#fb9f3a"
             ],
             [
              0.8888888888888888,
              "#fdca26"
             ],
             [
              1,
              "#f0f921"
             ]
            ],
            "type": "surface"
           }
          ],
          "table": [
           {
            "cells": {
             "fill": {
              "color": "#EBF0F8"
             },
             "line": {
              "color": "white"
             }
            },
            "header": {
             "fill": {
              "color": "#C8D4E3"
             },
             "line": {
              "color": "white"
             }
            },
            "type": "table"
           }
          ]
         },
         "layout": {
          "annotationdefaults": {
           "arrowcolor": "#2a3f5f",
           "arrowhead": 0,
           "arrowwidth": 1
          },
          "autotypenumbers": "strict",
          "coloraxis": {
           "colorbar": {
            "outlinewidth": 0,
            "ticks": ""
           }
          },
          "colorscale": {
           "diverging": [
            [
             0,
             "#8e0152"
            ],
            [
             0.1,
             "#c51b7d"
            ],
            [
             0.2,
             "#de77ae"
            ],
            [
             0.3,
             "#f1b6da"
            ],
            [
             0.4,
             "#fde0ef"
            ],
            [
             0.5,
             "#f7f7f7"
            ],
            [
             0.6,
             "#e6f5d0"
            ],
            [
             0.7,
             "#b8e186"
            ],
            [
             0.8,
             "#7fbc41"
            ],
            [
             0.9,
             "#4d9221"
            ],
            [
             1,
             "#276419"
            ]
           ],
           "sequential": [
            [
             0,
             "#0d0887"
            ],
            [
             0.1111111111111111,
             "#46039f"
            ],
            [
             0.2222222222222222,
             "#7201a8"
            ],
            [
             0.3333333333333333,
             "#9c179e"
            ],
            [
             0.4444444444444444,
             "#bd3786"
            ],
            [
             0.5555555555555556,
             "#d8576b"
            ],
            [
             0.6666666666666666,
             "#ed7953"
            ],
            [
             0.7777777777777778,
             "#fb9f3a"
            ],
            [
             0.8888888888888888,
             "#fdca26"
            ],
            [
             1,
             "#f0f921"
            ]
           ],
           "sequentialminus": [
            [
             0,
             "#0d0887"
            ],
            [
             0.1111111111111111,
             "#46039f"
            ],
            [
             0.2222222222222222,
             "#7201a8"
            ],
            [
             0.3333333333333333,
             "#9c179e"
            ],
            [
             0.4444444444444444,
             "#bd3786"
            ],
            [
             0.5555555555555556,
             "#d8576b"
            ],
            [
             0.6666666666666666,
             "#ed7953"
            ],
            [
             0.7777777777777778,
             "#fb9f3a"
            ],
            [
             0.8888888888888888,
             "#fdca26"
            ],
            [
             1,
             "#f0f921"
            ]
           ]
          },
          "colorway": [
           "#636efa",
           "#EF553B",
           "#00cc96",
           "#ab63fa",
           "#FFA15A",
           "#19d3f3",
           "#FF6692",
           "#B6E880",
           "#FF97FF",
           "#FECB52"
          ],
          "font": {
           "color": "#2a3f5f"
          },
          "geo": {
           "bgcolor": "white",
           "lakecolor": "white",
           "landcolor": "#E5ECF6",
           "showlakes": true,
           "showland": true,
           "subunitcolor": "white"
          },
          "hoverlabel": {
           "align": "left"
          },
          "hovermode": "closest",
          "mapbox": {
           "style": "light"
          },
          "paper_bgcolor": "white",
          "plot_bgcolor": "#E5ECF6",
          "polar": {
           "angularaxis": {
            "gridcolor": "white",
            "linecolor": "white",
            "ticks": ""
           },
           "bgcolor": "#E5ECF6",
           "radialaxis": {
            "gridcolor": "white",
            "linecolor": "white",
            "ticks": ""
           }
          },
          "scene": {
           "xaxis": {
            "backgroundcolor": "#E5ECF6",
            "gridcolor": "white",
            "gridwidth": 2,
            "linecolor": "white",
            "showbackground": true,
            "ticks": "",
            "zerolinecolor": "white"
           },
           "yaxis": {
            "backgroundcolor": "#E5ECF6",
            "gridcolor": "white",
            "gridwidth": 2,
            "linecolor": "white",
            "showbackground": true,
            "ticks": "",
            "zerolinecolor": "white"
           },
           "zaxis": {
            "backgroundcolor": "#E5ECF6",
            "gridcolor": "white",
            "gridwidth": 2,
            "linecolor": "white",
            "showbackground": true,
            "ticks": "",
            "zerolinecolor": "white"
           }
          },
          "shapedefaults": {
           "line": {
            "color": "#2a3f5f"
           }
          },
          "ternary": {
           "aaxis": {
            "gridcolor": "white",
            "linecolor": "white",
            "ticks": ""
           },
           "baxis": {
            "gridcolor": "white",
            "linecolor": "white",
            "ticks": ""
           },
           "bgcolor": "#E5ECF6",
           "caxis": {
            "gridcolor": "white",
            "linecolor": "white",
            "ticks": ""
           }
          },
          "title": {
           "x": 0.05
          },
          "xaxis": {
           "automargin": true,
           "gridcolor": "white",
           "linecolor": "white",
           "ticks": "",
           "title": {
            "standoff": 15
           },
           "zerolinecolor": "white",
           "zerolinewidth": 2
          },
          "yaxis": {
           "automargin": true,
           "gridcolor": "white",
           "linecolor": "white",
           "ticks": "",
           "title": {
            "standoff": 15
           },
           "zerolinecolor": "white",
           "zerolinewidth": 2
          }
         }
        },
        "title": {
         "text": "Performance Metrics by Model"
        },
        "xaxis": {
         "anchor": "y",
         "domain": [
          0,
          1
         ],
         "title": {
          "text": "Metrics"
         }
        },
        "yaxis": {
         "anchor": "x",
         "domain": [
          0,
          1
         ],
         "title": {
          "text": "Scores"
         }
        }
       }
      }
     },
     "metadata": {},
     "output_type": "display_data"
    }
   ],
   "source": [
    "\n",
    "df_melted = df.melt(id_vars='Models', var_name='Metrics', value_name='Values')\n",
    "\n",
    "fig = px.bar(\n",
    "    df_melted,\n",
    "    x='Metrics',\n",
    "    y='Values',\n",
    "    color='Models',\n",
    "    barmode='group',\n",
    "    title=\"Performance Metrics by Model\",\n",
    "    labels={\"Values\": \"Scores\"}\n",
    ")\n",
    "\n",
    "fig.show()"
   ]
  },
  {
   "cell_type": "markdown",
   "metadata": {},
   "source": [
    "# Analyse des Performances des Modèles\n",
    "\n",
    "Le graphique présente une comparaison des performances de trois modèles (`model_1`, `model_2`, `model_3`) à l’aide des métriques suivantes : **Précision (Precision)**, **F1-score**, **Rappel (Recall)**, **Exactitude (Accuracy)**, et **Perte (Loss)**.\n",
    "\n",
    "## Interprétation des Résultats\n",
    "\n",
    "1. **Précision, F1-score, Rappel et Exactitude** :\n",
    "   - Les modèles `model_1` et `model_2` montrent des performances similaires et élevées sur ces métriques. Cela indique une bonne capacité à prédire correctement les classes cibles, bien qu'elles s soient pas excellente. \n",
    "   - Le modèle `model_3`, en revanche, affiche des scores nettement plus faibles, trés mauvais.\n",
    "\n",
    "2. **Perte (Loss)** :\n",
    "   - Le modèle `model_2` a une perte (loss) nettement plus élevée que les autres, ce qui pourrait indiquer un problème d’optimisation ou un surapprentissage (**overfitting** , peut-être dû au fait que l'augmentation de données n'a été faite que dans le but d'équilibrer les classes et donc de montrer de nombreuses fois la même image légèrement modifiée dans les classes sous-représentées.)\n",
    "   - Bien que le modèle `model_3` ait la plus faible perte, ses faibles performances sur les autres métriques montrent qu’une faible perte ne garantit pas une bonne généralisation.\n",
    "\n",
    "## Conclusion\n",
    "- **Modèle recommandé** : Le modèle `model_1` est le plus équilibré, combinant de bonnes performances sur toutes les métriques. Il est donc préférable.\n",
    "- **Points d’amélioration** :\n",
    "  - Le modèle `model_2` nécessite une attention particulière pour résoudre son problème de perte élevée, l'augmentation de données n'étant pas plus efficace.\n",
    "  - Le modèle `model_3` n'est pas meilleurs que de choisir au hasard une classe pour une image donnée.\n"
   ]
  },
  {
   "cell_type": "markdown",
   "metadata": {},
   "source": [
    "\n",
    "Ce notebook est à mi-chemin entre la présentation des résultats et une étude de quelques paramètres.\n",
    "\n",
    "## Limitations\n",
    "\n",
    "En raison d'un manque de ressources, nous nous sommes limités à **6 epochs** et avons évité d'utiliser des architectures trop lourdes. \n",
    "\n",
    "## Perspectives\n",
    "\n",
    "Dans le rapport final, nous détaillerons comment, idéalement, nous aurions calibré notre modèle pour obtenir une **meilleure accuracy**, selon nos recherches et analyses.\n"
   ]
  }
 ],
 "metadata": {
  "kernelspec": {
   "display_name": "venv",
   "language": "python",
   "name": "python3"
  },
  "language_info": {
   "codemirror_mode": {
    "name": "ipython",
    "version": 3
   },
   "file_extension": ".py",
   "mimetype": "text/x-python",
   "name": "python",
   "nbconvert_exporter": "python",
   "pygments_lexer": "ipython3",
   "version": "3.11.5"
  }
 },
 "nbformat": 4,
 "nbformat_minor": 2
}
